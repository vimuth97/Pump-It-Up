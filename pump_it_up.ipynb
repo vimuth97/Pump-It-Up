{
  "nbformat": 4,
  "nbformat_minor": 5,
  "metadata": {
    "kernelspec": {
      "display_name": "Python 3",
      "language": "python",
      "name": "python3"
    },
    "language_info": {
      "codemirror_mode": {
        "name": "ipython",
        "version": 3
      },
      "file_extension": ".py",
      "mimetype": "text/x-python",
      "name": "python",
      "nbconvert_exporter": "python",
      "pygments_lexer": "ipython3",
      "version": "3.7.10"
    },
    "papermill": {
      "default_parameters": {},
      "duration": 37.815346,
      "end_time": "2021-07-26T12:48:25.692702",
      "environment_variables": {},
      "exception": null,
      "input_path": "__notebook__.ipynb",
      "output_path": "__notebook__.ipynb",
      "parameters": {},
      "start_time": "2021-07-26T12:47:47.877356",
      "version": "2.3.3"
    },
    "colab": {
      "name": "pump it up.ipynb",
      "provenance": [],
      "collapsed_sections": [],
      "include_colab_link": true
    }
  },
  "cells": [
    {
      "cell_type": "markdown",
      "metadata": {
        "id": "view-in-github",
        "colab_type": "text"
      },
      "source": [
        "<a href=\"https://colab.research.google.com/github/vimuth97/Pump-It-Up/blob/main/pump_it_up.ipynb\" target=\"_parent\"><img src=\"https://colab.research.google.com/assets/colab-badge.svg\" alt=\"Open In Colab\"/></a>"
      ]
    },
    {
      "cell_type": "code",
      "metadata": {
        "_cell_guid": "b1076dfc-b9ad-4769-8c92-a6c4dae69d19",
        "_uuid": "8f2839f25d086af736a60e9eeb907d3b93b6e0e5",
        "execution": {
          "iopub.execute_input": "2021-07-26T12:47:57.460704Z",
          "iopub.status.busy": "2021-07-26T12:47:57.459545Z",
          "iopub.status.idle": "2021-07-26T12:47:59.205812Z",
          "shell.execute_reply": "2021-07-26T12:47:59.204832Z",
          "shell.execute_reply.started": "2021-07-26T11:57:45.192703Z"
        },
        "papermill": {
          "duration": 1.780835,
          "end_time": "2021-07-26T12:47:59.205987",
          "exception": false,
          "start_time": "2021-07-26T12:47:57.425152",
          "status": "completed"
        },
        "tags": [],
        "id": "3172835a",
        "outputId": "b3400509-62cc-48ae-8414-99c104e48aae"
      },
      "source": [
        "import numpy as np # linear algebra\n",
        "import pandas as pd # data processing, CSV file I/O (e.g. pd.read_csv)\n",
        "from sklearn.preprocessing import OneHotEncoder\n",
        "import os\n",
        "from sklearn.impute import SimpleImputer\n",
        "from sklearn.model_selection import train_test_split\n",
        "from sklearn.ensemble import RandomForestClassifier\n",
        "from sklearn.metrics import classification_report, confusion_matrix, accuracy_score, f1_score\n",
        "from sklearn.feature_selection import mutual_info_classif\n",
        "import matplotlib.pyplot as plt\n",
        "import seaborn as sns\n",
        "from sklearn.model_selection import GridSearchCV\n",
        "from sklearn.model_selection import cross_validate\n",
        "\n",
        "\n",
        "for dirname, _, filenames in os.walk('/kaggle/input'):\n",
        "    for filename in filenames:\n",
        "        print(os.path.join(dirname, filename))\n",
        "\n",
        "train_data = pd.read_csv(\"/kaggle/input/titanic/train.csv\")\n",
        "test_data = pd.read_csv(\"/kaggle/input/titanic/test.csv\")"
      ],
      "id": "3172835a",
      "execution_count": null,
      "outputs": [
        {
          "output_type": "stream",
          "text": [
            "/kaggle/input/titanic/train.csv\n",
            "/kaggle/input/titanic/test.csv\n",
            "/kaggle/input/titanic/gender_submission.csv\n"
          ],
          "name": "stdout"
        }
      ]
    },
    {
      "cell_type": "code",
      "metadata": {
        "execution": {
          "iopub.execute_input": "2021-07-26T12:47:59.279061Z",
          "iopub.status.busy": "2021-07-26T12:47:59.277382Z",
          "iopub.status.idle": "2021-07-26T12:47:59.306803Z",
          "shell.execute_reply": "2021-07-26T12:47:59.306221Z",
          "shell.execute_reply.started": "2021-07-26T11:57:45.231495Z"
        },
        "papermill": {
          "duration": 0.069076,
          "end_time": "2021-07-26T12:47:59.306942",
          "exception": false,
          "start_time": "2021-07-26T12:47:59.237866",
          "status": "completed"
        },
        "tags": [],
        "id": "624059b4",
        "outputId": "ea1fb34d-e3af-4364-d55c-eea76e419ef8"
      },
      "source": [
        "train_data.head()\n",
        "test_data.head()"
      ],
      "id": "624059b4",
      "execution_count": null,
      "outputs": [
        {
          "output_type": "execute_result",
          "data": {
            "text/html": [
              "<div>\n",
              "<style scoped>\n",
              "    .dataframe tbody tr th:only-of-type {\n",
              "        vertical-align: middle;\n",
              "    }\n",
              "\n",
              "    .dataframe tbody tr th {\n",
              "        vertical-align: top;\n",
              "    }\n",
              "\n",
              "    .dataframe thead th {\n",
              "        text-align: right;\n",
              "    }\n",
              "</style>\n",
              "<table border=\"1\" class=\"dataframe\">\n",
              "  <thead>\n",
              "    <tr style=\"text-align: right;\">\n",
              "      <th></th>\n",
              "      <th>PassengerId</th>\n",
              "      <th>Pclass</th>\n",
              "      <th>Name</th>\n",
              "      <th>Sex</th>\n",
              "      <th>Age</th>\n",
              "      <th>SibSp</th>\n",
              "      <th>Parch</th>\n",
              "      <th>Ticket</th>\n",
              "      <th>Fare</th>\n",
              "      <th>Cabin</th>\n",
              "      <th>Embarked</th>\n",
              "    </tr>\n",
              "  </thead>\n",
              "  <tbody>\n",
              "    <tr>\n",
              "      <th>0</th>\n",
              "      <td>892</td>\n",
              "      <td>3</td>\n",
              "      <td>Kelly, Mr. James</td>\n",
              "      <td>male</td>\n",
              "      <td>34.5</td>\n",
              "      <td>0</td>\n",
              "      <td>0</td>\n",
              "      <td>330911</td>\n",
              "      <td>7.8292</td>\n",
              "      <td>NaN</td>\n",
              "      <td>Q</td>\n",
              "    </tr>\n",
              "    <tr>\n",
              "      <th>1</th>\n",
              "      <td>893</td>\n",
              "      <td>3</td>\n",
              "      <td>Wilkes, Mrs. James (Ellen Needs)</td>\n",
              "      <td>female</td>\n",
              "      <td>47.0</td>\n",
              "      <td>1</td>\n",
              "      <td>0</td>\n",
              "      <td>363272</td>\n",
              "      <td>7.0000</td>\n",
              "      <td>NaN</td>\n",
              "      <td>S</td>\n",
              "    </tr>\n",
              "    <tr>\n",
              "      <th>2</th>\n",
              "      <td>894</td>\n",
              "      <td>2</td>\n",
              "      <td>Myles, Mr. Thomas Francis</td>\n",
              "      <td>male</td>\n",
              "      <td>62.0</td>\n",
              "      <td>0</td>\n",
              "      <td>0</td>\n",
              "      <td>240276</td>\n",
              "      <td>9.6875</td>\n",
              "      <td>NaN</td>\n",
              "      <td>Q</td>\n",
              "    </tr>\n",
              "    <tr>\n",
              "      <th>3</th>\n",
              "      <td>895</td>\n",
              "      <td>3</td>\n",
              "      <td>Wirz, Mr. Albert</td>\n",
              "      <td>male</td>\n",
              "      <td>27.0</td>\n",
              "      <td>0</td>\n",
              "      <td>0</td>\n",
              "      <td>315154</td>\n",
              "      <td>8.6625</td>\n",
              "      <td>NaN</td>\n",
              "      <td>S</td>\n",
              "    </tr>\n",
              "    <tr>\n",
              "      <th>4</th>\n",
              "      <td>896</td>\n",
              "      <td>3</td>\n",
              "      <td>Hirvonen, Mrs. Alexander (Helga E Lindqvist)</td>\n",
              "      <td>female</td>\n",
              "      <td>22.0</td>\n",
              "      <td>1</td>\n",
              "      <td>1</td>\n",
              "      <td>3101298</td>\n",
              "      <td>12.2875</td>\n",
              "      <td>NaN</td>\n",
              "      <td>S</td>\n",
              "    </tr>\n",
              "  </tbody>\n",
              "</table>\n",
              "</div>"
            ],
            "text/plain": [
              "   PassengerId  Pclass                                          Name     Sex  \\\n",
              "0          892       3                              Kelly, Mr. James    male   \n",
              "1          893       3              Wilkes, Mrs. James (Ellen Needs)  female   \n",
              "2          894       2                     Myles, Mr. Thomas Francis    male   \n",
              "3          895       3                              Wirz, Mr. Albert    male   \n",
              "4          896       3  Hirvonen, Mrs. Alexander (Helga E Lindqvist)  female   \n",
              "\n",
              "    Age  SibSp  Parch   Ticket     Fare Cabin Embarked  \n",
              "0  34.5      0      0   330911   7.8292   NaN        Q  \n",
              "1  47.0      1      0   363272   7.0000   NaN        S  \n",
              "2  62.0      0      0   240276   9.6875   NaN        Q  \n",
              "3  27.0      0      0   315154   8.6625   NaN        S  \n",
              "4  22.0      1      1  3101298  12.2875   NaN        S  "
            ]
          },
          "metadata": {
            "tags": []
          },
          "execution_count": 2
        }
      ]
    },
    {
      "cell_type": "markdown",
      "metadata": {
        "papermill": {
          "duration": 0.030615,
          "end_time": "2021-07-26T12:47:59.368788",
          "exception": false,
          "start_time": "2021-07-26T12:47:59.338173",
          "status": "completed"
        },
        "tags": [],
        "id": "906ef0bb"
      },
      "source": [
        "Checking whether the dataset is balanced or not"
      ],
      "id": "906ef0bb"
    },
    {
      "cell_type": "code",
      "metadata": {
        "execution": {
          "iopub.execute_input": "2021-07-26T12:47:59.440234Z",
          "iopub.status.busy": "2021-07-26T12:47:59.439609Z",
          "iopub.status.idle": "2021-07-26T12:47:59.464981Z",
          "shell.execute_reply": "2021-07-26T12:47:59.465518Z",
          "shell.execute_reply.started": "2021-07-26T12:37:00.191404Z"
        },
        "papermill": {
          "duration": 0.06636,
          "end_time": "2021-07-26T12:47:59.465699",
          "exception": false,
          "start_time": "2021-07-26T12:47:59.399339",
          "status": "completed"
        },
        "tags": [],
        "id": "a0660645",
        "outputId": "fda88036-0afe-4425-e131-13018c81cc58"
      },
      "source": [
        "print(train_data['Survived'].value_counts(normalize=True))"
      ],
      "id": "a0660645",
      "execution_count": null,
      "outputs": [
        {
          "output_type": "stream",
          "text": [
            "0    0.616162\n",
            "1    0.383838\n",
            "Name: Survived, dtype: float64\n"
          ],
          "name": "stdout"
        }
      ]
    },
    {
      "cell_type": "code",
      "metadata": {
        "execution": {
          "iopub.execute_input": "2021-07-26T12:47:59.538885Z",
          "iopub.status.busy": "2021-07-26T12:47:59.538209Z",
          "iopub.status.idle": "2021-07-26T12:47:59.542640Z",
          "shell.execute_reply": "2021-07-26T12:47:59.542232Z",
          "shell.execute_reply.started": "2021-07-26T11:57:45.285995Z"
        },
        "papermill": {
          "duration": 0.044979,
          "end_time": "2021-07-26T12:47:59.542748",
          "exception": false,
          "start_time": "2021-07-26T12:47:59.497769",
          "status": "completed"
        },
        "tags": [],
        "id": "74656e9c",
        "outputId": "2b1a8021-6d7c-4027-a7d0-c71daf24fe1f"
      },
      "source": [
        "train_data.isnull().sum().sort_values(ascending = False)"
      ],
      "id": "74656e9c",
      "execution_count": null,
      "outputs": [
        {
          "output_type": "execute_result",
          "data": {
            "text/plain": [
              "Cabin          687\n",
              "Age            177\n",
              "Embarked         2\n",
              "PassengerId      0\n",
              "Survived         0\n",
              "Pclass           0\n",
              "Name             0\n",
              "Sex              0\n",
              "SibSp            0\n",
              "Parch            0\n",
              "Ticket           0\n",
              "Fare             0\n",
              "dtype: int64"
            ]
          },
          "metadata": {
            "tags": []
          },
          "execution_count": 4
        }
      ]
    },
    {
      "cell_type": "markdown",
      "metadata": {
        "papermill": {
          "duration": 0.020423,
          "end_time": "2021-07-26T12:47:59.584525",
          "exception": false,
          "start_time": "2021-07-26T12:47:59.564102",
          "status": "completed"
        },
        "tags": [],
        "id": "876f83ae"
      },
      "source": [
        "Drop 2 rows with missing values for 'Embarked' because carrying out imputation for 2 records is not efficient and may add errors to the prediction "
      ],
      "id": "876f83ae"
    },
    {
      "cell_type": "code",
      "metadata": {
        "execution": {
          "iopub.execute_input": "2021-07-26T12:47:59.629102Z",
          "iopub.status.busy": "2021-07-26T12:47:59.628538Z",
          "iopub.status.idle": "2021-07-26T12:47:59.638757Z",
          "shell.execute_reply": "2021-07-26T12:47:59.638090Z",
          "shell.execute_reply.started": "2021-07-26T11:57:45.336006Z"
        },
        "papermill": {
          "duration": 0.033565,
          "end_time": "2021-07-26T12:47:59.638898",
          "exception": false,
          "start_time": "2021-07-26T12:47:59.605333",
          "status": "completed"
        },
        "tags": [],
        "id": "700b40b8",
        "outputId": "3db83c44-bb9f-405e-d684-7b277ea59650"
      },
      "source": [
        "tot = train_data.shape[0]\n",
        "train_data.dropna(inplace=True, subset=['Embarked'])    # drop rows with null values for Embarked attribute\n",
        "print(tot - train_data.shape[0], \"rows removed\")"
      ],
      "id": "700b40b8",
      "execution_count": null,
      "outputs": [
        {
          "output_type": "stream",
          "text": [
            "2 rows removed\n"
          ],
          "name": "stdout"
        }
      ]
    },
    {
      "cell_type": "code",
      "metadata": {
        "execution": {
          "iopub.execute_input": "2021-07-26T12:47:59.689174Z",
          "iopub.status.busy": "2021-07-26T12:47:59.688491Z",
          "iopub.status.idle": "2021-07-26T12:47:59.692110Z",
          "shell.execute_reply": "2021-07-26T12:47:59.691698Z",
          "shell.execute_reply.started": "2021-07-26T11:57:45.395667Z"
        },
        "papermill": {
          "duration": 0.031173,
          "end_time": "2021-07-26T12:47:59.692229",
          "exception": false,
          "start_time": "2021-07-26T12:47:59.661056",
          "status": "completed"
        },
        "tags": [],
        "id": "4f681e23"
      },
      "source": [
        "Y = train_data.Survived\n",
        "features = [\"Pclass\", \"Sex\", \"Age\", \"SibSp\", \"Parch\", \"Fare\", \"Cabin\", \"Embarked\"]     #some features due to high cardinality and low relavnce\n",
        "X = train_data[features]"
      ],
      "id": "4f681e23",
      "execution_count": null,
      "outputs": []
    },
    {
      "cell_type": "code",
      "metadata": {
        "execution": {
          "iopub.execute_input": "2021-07-26T12:47:59.782062Z",
          "iopub.status.busy": "2021-07-26T12:47:59.781572Z",
          "iopub.status.idle": "2021-07-26T12:48:00.033957Z",
          "shell.execute_reply": "2021-07-26T12:48:00.034491Z",
          "shell.execute_reply.started": "2021-07-26T12:41:27.320721Z"
        },
        "papermill": {
          "duration": 0.320393,
          "end_time": "2021-07-26T12:48:00.034676",
          "exception": false,
          "start_time": "2021-07-26T12:47:59.714283",
          "status": "completed"
        },
        "tags": [],
        "id": "0e183090",
        "outputId": "21247316-4d0e-4d78-8062-897ff6d5eb9d"
      },
      "source": [
        "# Visualise survivability w.r.t. Age\n",
        "labels = ['<16', '16-40', '40-60', '60<', 'NA']\n",
        "not_survived = [len(train_data[(train_data['Age']<=16) & (train_data['Survived']==0) & (train_data['Age']>0)]),\n",
        "            len(train_data[(train_data['Age']>16) & (train_data['Survived']==0) & (train_data['Age']<=40)]),\n",
        "            len(train_data[(train_data['Age']>40) & (train_data['Survived']==0) & (train_data['Age']<=60)]),\n",
        "            len(train_data[(train_data['Age']>60) & (train_data['Survived']==0)]),\n",
        "                len(train_data[np.isnan(train_data['Age']) & (train_data['Survived']==0)])]\n",
        "survived = [len(train_data[(train_data['Age']<=16) & (train_data['Survived']==1) & (train_data['Age']>0)]),\n",
        "            len(train_data[(train_data['Age']>16) & (train_data['Survived']==1) & (train_data['Age']<=40)]),\n",
        "            len(train_data[(train_data['Age']>40) & (train_data['Survived']==1) & (train_data['Age']<=60)]),\n",
        "            len(train_data[(train_data['Age']>60) & (train_data['Survived']==1)]),\n",
        "            len(train_data[np.isnan(train_data['Age']) & (train_data['Survived']==1)])]\n",
        "\n",
        "x = np.arange(len(labels))\n",
        "width = 0.35\n",
        "\n",
        "fig, ax = plt.subplots()\n",
        "rects1 = ax.bar(x - width/2, not_survived, width, label='Not survived')\n",
        "rects2 = ax.bar(x + width/2, survived, width, label='Survived')\n",
        "\n",
        "ax.set_ylabel('Number')\n",
        "ax.set_xlabel('Age')\n",
        "ax.set_title('Survivability by age')\n",
        "ax.set_xticks(x)\n",
        "ax.set_xticklabels(labels)\n",
        "ax.legend()\n",
        "\n",
        "ax.bar_label(rects1, padding=3)\n",
        "ax.bar_label(rects2, padding=3)\n",
        "\n",
        "fig.tight_layout()\n",
        "\n",
        "plt.show()"
      ],
      "id": "0e183090",
      "execution_count": null,
      "outputs": [
        {
          "output_type": "display_data",
          "data": {
            "image/png": "[encoded data removed]",
            "text/plain": [
              "<Figure size 432x288 with 1 Axes>"
            ]
          },
          "metadata": {
            "tags": [],
            "needs_background": "light"
          }
        }
      ]
    },
    {
      "cell_type": "markdown",
      "metadata": {
        "papermill": {
          "duration": 0.032929,
          "end_time": "2021-07-26T12:48:00.100862",
          "exception": false,
          "start_time": "2021-07-26T12:48:00.067933",
          "status": "completed"
        },
        "tags": [],
        "id": "3fb77880"
      },
      "source": [
        " Imputing Age with mean value was less accurate compared to imputing with a constant.\n",
        " 60 was selected observing the above graph NA and 60< has rate of survability"
      ],
      "id": "3fb77880"
    },
    {
      "cell_type": "code",
      "metadata": {
        "execution": {
          "iopub.execute_input": "2021-07-26T12:48:00.172762Z",
          "iopub.status.busy": "2021-07-26T12:48:00.172205Z",
          "iopub.status.idle": "2021-07-26T12:48:00.182693Z",
          "shell.execute_reply": "2021-07-26T12:48:00.182073Z",
          "shell.execute_reply.started": "2021-07-26T12:40:07.115326Z"
        },
        "papermill": {
          "duration": 0.048881,
          "end_time": "2021-07-26T12:48:00.182851",
          "exception": false,
          "start_time": "2021-07-26T12:48:00.133970",
          "status": "completed"
        },
        "tags": [],
        "id": "da4dbda0",
        "outputId": "c9efcb96-67ce-4aba-e9a4-63af92dd7a9d"
      },
      "source": [
        "# impute Age and Cabin\n",
        "\n",
        "X['Cabin'].fillna('Missing', inplace=True) \n",
        "# X['Age'].fillna(round((X['Age'].mean()),2), inplace=True)    # impute Age with mean\n",
        "X['Age'].fillna(60, inplace=True)    # imput Age with a constant"
      ],
      "id": "da4dbda0",
      "execution_count": null,
      "outputs": [
        {
          "output_type": "stream",
          "text": [
            "/opt/conda/lib/python3.7/site-packages/pandas/core/series.py:4469: SettingWithCopyWarning: \n",
            "A value is trying to be set on a copy of a slice from a DataFrame\n",
            "\n",
            "See the caveats in the documentation: https://pandas.pydata.org/pandas-docs/stable/user_guide/indexing.html#returning-a-view-versus-a-copy\n",
            "  downcast=downcast,\n"
          ],
          "name": "stderr"
        }
      ]
    },
    {
      "cell_type": "code",
      "metadata": {
        "execution": {
          "iopub.execute_input": "2021-07-26T12:48:00.236181Z",
          "iopub.status.busy": "2021-07-26T12:48:00.235484Z",
          "iopub.status.idle": "2021-07-26T12:48:00.242425Z",
          "shell.execute_reply": "2021-07-26T12:48:00.241863Z",
          "shell.execute_reply.started": "2021-07-26T11:57:45.513467Z"
        },
        "papermill": {
          "duration": 0.036923,
          "end_time": "2021-07-26T12:48:00.242569",
          "exception": false,
          "start_time": "2021-07-26T12:48:00.205646",
          "status": "completed"
        },
        "tags": [],
        "id": "35456648"
      },
      "source": [
        "X_1 = pd.get_dummies(X.Sex)         # one hot encode column 'Sex'\n",
        "X_2 = pd.get_dummies(X.Embarked, prefix=\"Embarked\")    # one hot encode column 'Embarked'"
      ],
      "id": "35456648",
      "execution_count": null,
      "outputs": []
    },
    {
      "cell_type": "code",
      "metadata": {
        "execution": {
          "iopub.execute_input": "2021-07-26T12:48:00.318390Z",
          "iopub.status.busy": "2021-07-26T12:48:00.317583Z",
          "iopub.status.idle": "2021-07-26T12:48:00.323044Z",
          "shell.execute_reply": "2021-07-26T12:48:00.322235Z",
          "shell.execute_reply.started": "2021-07-26T11:57:45.571958Z"
        },
        "papermill": {
          "duration": 0.046557,
          "end_time": "2021-07-26T12:48:00.323188",
          "exception": false,
          "start_time": "2021-07-26T12:48:00.276631",
          "status": "completed"
        },
        "tags": [],
        "id": "98710d32",
        "outputId": "ddc5d461-a27c-4f1e-d905-22c59d05e691"
      },
      "source": [
        "# reduce cardinality of Cabin\n",
        "X_3 = pd.DataFrame()\n",
        "\n",
        "X_3[\"CabinSClass\"] = X.Cabin.str[0]\n",
        "X_3[\"CabinSClass\"].unique()"
      ],
      "id": "98710d32",
      "execution_count": null,
      "outputs": [
        {
          "output_type": "execute_result",
          "data": {
            "text/plain": [
              "array(['M', 'C', 'E', 'G', 'D', 'A', 'B', 'F', 'T'], dtype=object)"
            ]
          },
          "metadata": {
            "tags": []
          },
          "execution_count": 10
        }
      ]
    },
    {
      "cell_type": "code",
      "metadata": {
        "execution": {
          "iopub.execute_input": "2021-07-26T12:48:00.398816Z",
          "iopub.status.busy": "2021-07-26T12:48:00.396349Z",
          "iopub.status.idle": "2021-07-26T12:48:00.404615Z",
          "shell.execute_reply": "2021-07-26T12:48:00.403917Z",
          "shell.execute_reply.started": "2021-07-26T11:57:45.646059Z"
        },
        "papermill": {
          "duration": 0.04749,
          "end_time": "2021-07-26T12:48:00.404758",
          "exception": false,
          "start_time": "2021-07-26T12:48:00.357268",
          "status": "completed"
        },
        "tags": [],
        "id": "0f55fd03"
      },
      "source": [
        "X_dropped = X.drop(['Sex', 'Embarked', 'Cabin'], axis=1)\n",
        "X_new = X_dropped.join([X_1, X_2, X_3])"
      ],
      "id": "0f55fd03",
      "execution_count": null,
      "outputs": []
    },
    {
      "cell_type": "code",
      "metadata": {
        "execution": {
          "iopub.execute_input": "2021-07-26T12:48:00.480891Z",
          "iopub.status.busy": "2021-07-26T12:48:00.480156Z",
          "iopub.status.idle": "2021-07-26T12:48:00.484554Z",
          "shell.execute_reply": "2021-07-26T12:48:00.483835Z",
          "shell.execute_reply.started": "2021-07-26T11:57:45.729352Z"
        },
        "papermill": {
          "duration": 0.045574,
          "end_time": "2021-07-26T12:48:00.484724",
          "exception": false,
          "start_time": "2021-07-26T12:48:00.439150",
          "status": "completed"
        },
        "tags": [],
        "id": "5a686fe1"
      },
      "source": [
        "# Label encoding for CabinSClass\n",
        "for colname in X_new.select_dtypes(\"object\"):\n",
        "    X_new[colname], _ = X_new[colname].factorize()"
      ],
      "id": "5a686fe1",
      "execution_count": null,
      "outputs": []
    },
    {
      "cell_type": "code",
      "metadata": {
        "execution": {
          "iopub.execute_input": "2021-07-26T12:48:00.558506Z",
          "iopub.status.busy": "2021-07-26T12:48:00.557888Z",
          "iopub.status.idle": "2021-07-26T12:48:00.560574Z",
          "shell.execute_reply": "2021-07-26T12:48:00.560145Z",
          "shell.execute_reply.started": "2021-07-26T11:57:51.674232Z"
        },
        "papermill": {
          "duration": 0.042043,
          "end_time": "2021-07-26T12:48:00.560681",
          "exception": false,
          "start_time": "2021-07-26T12:48:00.518638",
          "status": "completed"
        },
        "tags": [],
        "id": "b6739618"
      },
      "source": [
        "# Utility functions from Tutorial\n",
        "def make_mi_scores(X, y, features):\n",
        "    X_mi = X.copy()\n",
        "    mi_scores = mutual_info_classif(X_mi, y, discrete_features=features, random_state=0)\n",
        "    mi_scores = pd.Series(mi_scores, name=\"MI Scores\", index=X_mi.columns)\n",
        "    mi_scores = mi_scores.sort_values(ascending=False)\n",
        "    return mi_scores\n",
        "\n",
        "\n",
        "def plot_mi_scores(scores):\n",
        "    scores = scores.sort_values(ascending=True)\n",
        "    width = np.arange(len(scores))\n",
        "    ticks = list(scores.index)\n",
        "    plt.barh(width, scores)\n",
        "    plt.yticks(width, ticks)\n",
        "    plt.title(\"Mutual Information Scores\")"
      ],
      "id": "b6739618",
      "execution_count": null,
      "outputs": []
    },
    {
      "cell_type": "markdown",
      "metadata": {
        "papermill": {
          "duration": 0.02085,
          "end_time": "2021-07-26T12:48:00.604739",
          "exception": false,
          "start_time": "2021-07-26T12:48:00.583889",
          "status": "completed"
        },
        "tags": [],
        "id": "7071430e"
      },
      "source": [
        "Tried categorizing according to age but it caused less mutual information score and less test accuracy."
      ],
      "id": "7071430e"
    },
    {
      "cell_type": "code",
      "metadata": {
        "execution": {
          "iopub.execute_input": "2021-07-26T12:48:00.650719Z",
          "iopub.status.busy": "2021-07-26T12:48:00.650238Z",
          "iopub.status.idle": "2021-07-26T12:48:00.652665Z",
          "shell.execute_reply": "2021-07-26T12:48:00.652194Z",
          "shell.execute_reply.started": "2021-07-26T11:57:52.336713Z"
        },
        "papermill": {
          "duration": 0.026973,
          "end_time": "2021-07-26T12:48:00.652760",
          "exception": false,
          "start_time": "2021-07-26T12:48:00.625787",
          "status": "completed"
        },
        "tags": [],
        "id": "c7f8dddd"
      },
      "source": [
        "# # Categorise by age limit 16\n",
        "# X_new.loc[X_new.Age<=16, 'Age'] = 1\n",
        "# X_new.loc[X_new.Age>16, 'Age'] = 0"
      ],
      "id": "c7f8dddd",
      "execution_count": null,
      "outputs": []
    },
    {
      "cell_type": "code",
      "metadata": {
        "execution": {
          "iopub.execute_input": "2021-07-26T12:48:00.698751Z",
          "iopub.status.busy": "2021-07-26T12:48:00.698142Z",
          "iopub.status.idle": "2021-07-26T12:48:00.958991Z",
          "shell.execute_reply": "2021-07-26T12:48:00.958445Z",
          "shell.execute_reply.started": "2021-07-26T11:57:52.341503Z"
        },
        "papermill": {
          "duration": 0.284464,
          "end_time": "2021-07-26T12:48:00.959129",
          "exception": false,
          "start_time": "2021-07-26T12:48:00.674665",
          "status": "completed"
        },
        "tags": [],
        "id": "0e31c9fe",
        "outputId": "c0ee8508-300a-41ac-a12a-d2a7be88a1b0"
      },
      "source": [
        "# mutual inofrmation\n",
        "features = [True, False, True, True, False,True, True, True, True, True, True ]\n",
        "mi_scores = make_mi_scores(X_new, Y, features)\n",
        "print(mi_scores.head(20))\n",
        "\n",
        "plt.figure(dpi=100, figsize=(8, 5))\n",
        "plot_mi_scores(mi_scores.head(20))\n"
      ],
      "id": "0e31c9fe",
      "execution_count": null,
      "outputs": [
        {
          "output_type": "stream",
          "text": [
            "female         0.149725\n",
            "male           0.149725\n",
            "Fare           0.135438\n",
            "Pclass         0.057127\n",
            "CabinSClass    0.053768\n",
            "Age            0.042631\n",
            "SibSp          0.023490\n",
            "Parch          0.016653\n",
            "Embarked_C     0.014079\n",
            "Embarked_S     0.011335\n",
            "Embarked_Q     0.000010\n",
            "Name: MI Scores, dtype: float64\n"
          ],
          "name": "stdout"
        },
        {
          "output_type": "display_data",
          "data": {
            "image/png": "[encoded data removed]",
            "text/plain": [
              "<Figure size 800x500 with 1 Axes>"
            ]
          },
          "metadata": {
            "tags": [],
            "needs_background": "light"
          }
        }
      ]
    },
    {
      "cell_type": "code",
      "metadata": {
        "execution": {
          "iopub.execute_input": "2021-07-26T12:48:01.037063Z",
          "iopub.status.busy": "2021-07-26T12:48:01.036283Z",
          "iopub.status.idle": "2021-07-26T12:48:01.040424Z",
          "shell.execute_reply": "2021-07-26T12:48:01.039709Z",
          "shell.execute_reply.started": "2021-07-26T11:57:52.607713Z"
        },
        "papermill": {
          "duration": 0.045516,
          "end_time": "2021-07-26T12:48:01.040577",
          "exception": false,
          "start_time": "2021-07-26T12:48:00.995061",
          "status": "completed"
        },
        "tags": [],
        "id": "3681b81b"
      },
      "source": [
        "X_mi = X_new.drop(['Embarked_Q'], axis=1) # remove Embarked_Q feature due to low mutual information score"
      ],
      "id": "3681b81b",
      "execution_count": null,
      "outputs": []
    },
    {
      "cell_type": "code",
      "metadata": {
        "execution": {
          "iopub.execute_input": "2021-07-26T12:48:01.119474Z",
          "iopub.status.busy": "2021-07-26T12:48:01.118750Z",
          "iopub.status.idle": "2021-07-26T12:48:01.922213Z",
          "shell.execute_reply": "2021-07-26T12:48:01.921755Z",
          "shell.execute_reply.started": "2021-07-26T11:57:52.616572Z"
        },
        "papermill": {
          "duration": 0.846453,
          "end_time": "2021-07-26T12:48:01.922324",
          "exception": false,
          "start_time": "2021-07-26T12:48:01.075871",
          "status": "completed"
        },
        "tags": [],
        "id": "96a5eabe",
        "outputId": "6988785d-f4b1-442f-c2ff-641d99c900b2"
      },
      "source": [
        "#Using Pearson Correlation\n",
        "plt.figure(figsize=(12,10))\n",
        "cor = X_mi.corr()\n",
        "sns.heatmap(cor, annot=True, cmap=plt.cm.Reds)\n",
        "plt.show()"
      ],
      "id": "96a5eabe",
      "execution_count": null,
      "outputs": [
        {
          "output_type": "display_data",
          "data": {
            "image/png": "[encoded data removed]",
            "text/plain": [
              "<Figure size 864x720 with 2 Axes>"
            ]
          },
          "metadata": {
            "tags": [],
            "needs_background": "light"
          }
        }
      ]
    },
    {
      "cell_type": "code",
      "metadata": {
        "execution": {
          "iopub.execute_input": "2021-07-26T12:48:01.978337Z",
          "iopub.status.busy": "2021-07-26T12:48:01.977831Z",
          "iopub.status.idle": "2021-07-26T12:48:01.981214Z",
          "shell.execute_reply": "2021-07-26T12:48:01.981606Z",
          "shell.execute_reply.started": "2021-07-26T11:57:53.438457Z"
        },
        "papermill": {
          "duration": 0.034545,
          "end_time": "2021-07-26T12:48:01.981767",
          "exception": false,
          "start_time": "2021-07-26T12:48:01.947222",
          "status": "completed"
        },
        "tags": [],
        "id": "f932e0a7"
      },
      "source": [
        "X_cor = X_mi.drop(['male'], axis=1) # remove 'male' feature due to high correlation"
      ],
      "id": "f932e0a7",
      "execution_count": null,
      "outputs": []
    },
    {
      "cell_type": "code",
      "metadata": {
        "execution": {
          "iopub.execute_input": "2021-07-26T12:48:02.041937Z",
          "iopub.status.busy": "2021-07-26T12:48:02.041388Z",
          "iopub.status.idle": "2021-07-26T12:48:02.044766Z",
          "shell.execute_reply": "2021-07-26T12:48:02.044356Z",
          "shell.execute_reply.started": "2021-07-26T11:57:53.447153Z"
        },
        "papermill": {
          "duration": 0.037431,
          "end_time": "2021-07-26T12:48:02.044878",
          "exception": false,
          "start_time": "2021-07-26T12:48:02.007447",
          "status": "completed"
        },
        "tags": [],
        "id": "fc621929",
        "outputId": "9721a83c-2efe-4f7e-e596-72f4152a1cc7"
      },
      "source": [
        "test_data.isnull().sum().sort_values(ascending = False)"
      ],
      "id": "fc621929",
      "execution_count": null,
      "outputs": [
        {
          "output_type": "execute_result",
          "data": {
            "text/plain": [
              "Cabin          327\n",
              "Age             86\n",
              "Fare             1\n",
              "PassengerId      0\n",
              "Pclass           0\n",
              "Name             0\n",
              "Sex              0\n",
              "SibSp            0\n",
              "Parch            0\n",
              "Ticket           0\n",
              "Embarked         0\n",
              "dtype: int64"
            ]
          },
          "metadata": {
            "tags": []
          },
          "execution_count": 19
        }
      ]
    },
    {
      "cell_type": "code",
      "metadata": {
        "execution": {
          "iopub.execute_input": "2021-07-26T12:48:02.098869Z",
          "iopub.status.busy": "2021-07-26T12:48:02.098291Z",
          "iopub.status.idle": "2021-07-26T12:48:02.112397Z",
          "shell.execute_reply": "2021-07-26T12:48:02.112815Z",
          "shell.execute_reply.started": "2021-07-26T11:57:53.466642Z"
        },
        "papermill": {
          "duration": 0.042745,
          "end_time": "2021-07-26T12:48:02.112990",
          "exception": false,
          "start_time": "2021-07-26T12:48:02.070245",
          "status": "completed"
        },
        "tags": [],
        "id": "6a991c55"
      },
      "source": [
        "# preprocess test data\n",
        "test_1 = pd.get_dummies(test_data.Sex)\n",
        "test_2 = pd.get_dummies(test_data.Embarked, prefix=\"Embarked\")\n",
        "test_data['Cabin'].fillna('Missing', inplace=True)\n",
        "test_data['Fare'].fillna(0, inplace=True)\n",
        "\n",
        "#impute and categorise Age\n",
        "test_data['Age'].fillna(60, inplace=True)\n",
        "# test_data.loc[test_data.Age<=16, 'Age'] = 1\n",
        "# test_data.loc[test_data.Age>16, 'Age'] = 0\n",
        "\n",
        "temp = pd.DataFrame()\n",
        "temp[\"CabinSClass\"] = test_data.Cabin.str[0]\n",
        "\n",
        "cabin_map = ['M', 'C', 'E', 'G', 'D', 'A', 'B', 'F', 'T']\n",
        "test_3 = temp[\"CabinSClass\"].replace(to_replace=cabin_map, value=[0, 1, 2, 3,4, 5, 6, 7, 8])\n",
        "\n",
        "test_new = test_data.join([test_1, test_2, test_3])\n",
        "test_dropped = test_new.drop(['PassengerId', 'Name', 'Sex', 'Ticket', 'Cabin', 'male', 'Embarked_Q', 'Embarked'], axis=1)"
      ],
      "id": "6a991c55",
      "execution_count": null,
      "outputs": []
    },
    {
      "cell_type": "code",
      "metadata": {
        "execution": {
          "iopub.execute_input": "2021-07-26T12:48:02.167425Z",
          "iopub.status.busy": "2021-07-26T12:48:02.166838Z",
          "iopub.status.idle": "2021-07-26T12:48:02.171733Z",
          "shell.execute_reply": "2021-07-26T12:48:02.172110Z",
          "shell.execute_reply.started": "2021-07-26T11:57:53.495167Z"
        },
        "papermill": {
          "duration": 0.033419,
          "end_time": "2021-07-26T12:48:02.172262",
          "exception": false,
          "start_time": "2021-07-26T12:48:02.138843",
          "status": "completed"
        },
        "tags": [],
        "id": "a51810fe"
      },
      "source": [
        "# test-train split\n",
        "X_train, X_test, y_train, y_test = train_test_split(X_cor, Y, test_size=0.2, random_state=0)"
      ],
      "id": "a51810fe",
      "execution_count": null,
      "outputs": []
    },
    {
      "cell_type": "code",
      "metadata": {
        "execution": {
          "iopub.execute_input": "2021-07-26T12:48:02.231132Z",
          "iopub.status.busy": "2021-07-26T12:48:02.230658Z",
          "iopub.status.idle": "2021-07-26T12:48:02.233912Z",
          "shell.execute_reply": "2021-07-26T12:48:02.233459Z",
          "shell.execute_reply.started": "2021-07-26T11:57:53.515428Z"
        },
        "papermill": {
          "duration": 0.036086,
          "end_time": "2021-07-26T12:48:02.234027",
          "exception": false,
          "start_time": "2021-07-26T12:48:02.197941",
          "status": "completed"
        },
        "tags": [],
        "id": "d0352eb2"
      },
      "source": [
        "# GridSearch for random forest classifier\n",
        "param_grid = {\n",
        "    'bootstrap': [True],\n",
        "    'criterion': ['entropy'],\n",
        "    'max_depth': [10, 20, 50],\n",
        "    'max_features': [8, 9],\n",
        "    'min_samples_leaf': [2,3],\n",
        "    'min_samples_split': [12, 14],\n",
        "    'n_estimators': [32, 48],\n",
        "}\n",
        "num_folds = 10\n",
        "# Create a base model\n",
        "rf = RandomForestClassifier()\n",
        "# Instantiate the grid search model\n",
        "grid_search = GridSearchCV(estimator = rf, param_grid = param_grid, \n",
        "                          cv = num_folds, n_jobs = -1, verbose = 2)"
      ],
      "id": "d0352eb2",
      "execution_count": null,
      "outputs": []
    },
    {
      "cell_type": "code",
      "metadata": {
        "execution": {
          "iopub.execute_input": "2021-07-26T12:48:02.291665Z",
          "iopub.status.busy": "2021-07-26T12:48:02.291080Z",
          "iopub.status.idle": "2021-07-26T12:48:22.632647Z",
          "shell.execute_reply": "2021-07-26T12:48:22.632153Z",
          "shell.execute_reply.started": "2021-07-26T11:57:53.555551Z"
        },
        "papermill": {
          "duration": 20.372591,
          "end_time": "2021-07-26T12:48:22.632756",
          "exception": false,
          "start_time": "2021-07-26T12:48:02.260165",
          "status": "completed"
        },
        "tags": [],
        "id": "d30449d7",
        "outputId": "f2f95a0c-d623-482c-cfd2-ce7fc628e482"
      },
      "source": [
        "grid_search.fit(X_train, y_train)\n",
        "# grid_search.fit(X_cor, Y)  # for submission\n",
        "grid_search.best_params_"
      ],
      "id": "d30449d7",
      "execution_count": null,
      "outputs": [
        {
          "output_type": "stream",
          "text": [
            "Fitting 10 folds for each of 48 candidates, totalling 480 fits\n"
          ],
          "name": "stdout"
        },
        {
          "output_type": "stream",
          "text": [
            "[Parallel(n_jobs=-1)]: Using backend LokyBackend with 4 concurrent workers.\n",
            "[Parallel(n_jobs=-1)]: Done  33 tasks      | elapsed:    3.4s\n",
            "[Parallel(n_jobs=-1)]: Done 154 tasks      | elapsed:    8.0s\n",
            "[Parallel(n_jobs=-1)]: Done 357 tasks      | elapsed:   15.5s\n",
            "[Parallel(n_jobs=-1)]: Done 480 out of 480 | elapsed:   20.2s finished\n"
          ],
          "name": "stderr"
        },
        {
          "output_type": "execute_result",
          "data": {
            "text/plain": [
              "{'bootstrap': True,\n",
              " 'criterion': 'entropy',\n",
              " 'max_depth': 20,\n",
              " 'max_features': 8,\n",
              " 'min_samples_leaf': 2,\n",
              " 'min_samples_split': 14,\n",
              " 'n_estimators': 48}"
            ]
          },
          "metadata": {
            "tags": []
          },
          "execution_count": 23
        }
      ]
    },
    {
      "cell_type": "code",
      "metadata": {
        "execution": {
          "iopub.execute_input": "2021-07-26T12:48:22.692902Z",
          "iopub.status.busy": "2021-07-26T12:48:22.692387Z",
          "iopub.status.idle": "2021-07-26T12:48:22.696291Z",
          "shell.execute_reply": "2021-07-26T12:48:22.695795Z",
          "shell.execute_reply.started": "2021-07-26T11:58:18.357208Z"
        },
        "papermill": {
          "duration": 0.036322,
          "end_time": "2021-07-26T12:48:22.696429",
          "exception": false,
          "start_time": "2021-07-26T12:48:22.660107",
          "status": "completed"
        },
        "tags": [],
        "id": "1614e745"
      },
      "source": [
        "model = grid_search.best_estimator_"
      ],
      "id": "1614e745",
      "execution_count": null,
      "outputs": []
    },
    {
      "cell_type": "code",
      "metadata": {
        "execution": {
          "iopub.execute_input": "2021-07-26T12:48:22.760768Z",
          "iopub.status.busy": "2021-07-26T12:48:22.760075Z",
          "iopub.status.idle": "2021-07-26T12:48:24.418733Z",
          "shell.execute_reply": "2021-07-26T12:48:24.418166Z",
          "shell.execute_reply.started": "2021-07-26T11:58:18.364461Z"
        },
        "papermill": {
          "duration": 1.694985,
          "end_time": "2021-07-26T12:48:24.418952",
          "exception": false,
          "start_time": "2021-07-26T12:48:22.723967",
          "status": "completed"
        },
        "tags": [],
        "id": "e21a6a21",
        "outputId": "c33a5fc2-b0a4-426f-96a0-a28adb79e888"
      },
      "source": [
        "# cross validation\n",
        "scoring = ['f1']\n",
        "scores = cross_validate(model, X_train, y_train,scoring=scoring, cv=num_folds, return_train_score=True)\n",
        "print(\"%0.4f train F1 score with a standard deviation of %0.4f\" % (scores['train_f1'].mean(), scores['train_f1'].std()))\n",
        "print(\"%0.4f test F1 score with a standard deviation of %0.4f\" % (scores['test_f1'].mean(), scores['test_f1'].std()))"
      ],
      "id": "e21a6a21",
      "execution_count": null,
      "outputs": [
        {
          "output_type": "stream",
          "text": [
            "0.8652 train F1 score with a standard deviation of 0.0086\n",
            "0.7620 test F1 score with a standard deviation of 0.0710\n"
          ],
          "name": "stdout"
        }
      ]
    },
    {
      "cell_type": "code",
      "metadata": {
        "execution": {
          "iopub.execute_input": "2021-07-26T12:48:24.512074Z",
          "iopub.status.busy": "2021-07-26T12:48:24.511359Z",
          "iopub.status.idle": "2021-07-26T12:48:24.529336Z",
          "shell.execute_reply": "2021-07-26T12:48:24.528567Z",
          "shell.execute_reply.started": "2021-07-26T11:58:19.451441Z"
        },
        "papermill": {
          "duration": 0.069717,
          "end_time": "2021-07-26T12:48:24.529527",
          "exception": false,
          "start_time": "2021-07-26T12:48:24.459810",
          "status": "completed"
        },
        "tags": [],
        "id": "de3686be",
        "outputId": "2a282e08-eee0-4fce-a44a-fee9a55d1e0e"
      },
      "source": [
        "y_pred = model.predict(X_test)\n",
        "\n",
        "# evaluation\n",
        "print(confusion_matrix(y_test,y_pred).ravel())\n",
        "print(classification_report(y_test,y_pred))\n",
        "print('Accuracy :', accuracy_score(y_test, y_pred))\n",
        "print('F1 Score :', f1_score(y_test, y_pred))"
      ],
      "id": "de3686be",
      "execution_count": null,
      "outputs": [
        {
          "output_type": "stream",
          "text": [
            "[91 14 26 47]\n",
            "              precision    recall  f1-score   support\n",
            "\n",
            "           0       0.78      0.87      0.82       105\n",
            "           1       0.77      0.64      0.70        73\n",
            "\n",
            "    accuracy                           0.78       178\n",
            "   macro avg       0.77      0.76      0.76       178\n",
            "weighted avg       0.77      0.78      0.77       178\n",
            "\n",
            "Accuracy : 0.7752808988764045\n",
            "F1 Score : 0.7014925373134328\n"
          ],
          "name": "stdout"
        }
      ]
    },
    {
      "cell_type": "code",
      "metadata": {
        "execution": {
          "iopub.execute_input": "2021-07-26T12:48:24.621772Z",
          "iopub.status.busy": "2021-07-26T12:48:24.621113Z",
          "iopub.status.idle": "2021-07-26T12:48:24.639445Z",
          "shell.execute_reply": "2021-07-26T12:48:24.638818Z",
          "shell.execute_reply.started": "2021-07-26T11:59:25.119721Z"
        },
        "papermill": {
          "duration": 0.068383,
          "end_time": "2021-07-26T12:48:24.639586",
          "exception": false,
          "start_time": "2021-07-26T12:48:24.571203",
          "status": "completed"
        },
        "tags": [],
        "id": "81942396"
      },
      "source": [
        "# save predictions for test set\n",
        "y_pred = model.predict(test_dropped)\n",
        "results = pd.DataFrame()\n",
        "results[\"PassengerId\"] = test_data.PassengerId\n",
        "results[\"Survived\"] = y_pred\n",
        "results.to_csv('output37.csv', index=False)"
      ],
      "id": "81942396",
      "execution_count": null,
      "outputs": []
    }
  ]
}