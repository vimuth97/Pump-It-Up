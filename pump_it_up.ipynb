{
  "nbformat": 4,
  "nbformat_minor": 5,
  "metadata": {
    "kernelspec": {
      "display_name": "Python 3",
      "language": "python",
      "name": "python3"
    },
    "language_info": {
      "codemirror_mode": {
        "name": "ipython",
        "version": 3
      },
      "file_extension": ".py",
      "mimetype": "text/x-python",
      "name": "python",
      "nbconvert_exporter": "python",
      "pygments_lexer": "ipython3",
      "version": "3.7.10"
    },
    "papermill": {
      "default_parameters": {},
      "duration": 37.815346,
      "end_time": "2021-07-26T12:48:25.692702",
      "environment_variables": {},
      "exception": null,
      "input_path": "__notebook__.ipynb",
      "output_path": "__notebook__.ipynb",
      "parameters": {},
      "start_time": "2021-07-26T12:47:47.877356",
      "version": "2.3.3"
    },
    "colab": {
      "name": "pump it up.ipynb",
      "provenance": [],
      "collapsed_sections": [],
      "include_colab_link": true
    }
  },
  "cells": [
    {
      "cell_type": "markdown",
      "metadata": {
        "id": "view-in-github",
        "colab_type": "text"
      },
      "source": [
        "<a href=\"https://colab.research.google.com/github/vimuth97/Pump-It-Up/blob/main/pump_it_up.ipynb\" target=\"_parent\"><img src=\"https://colab.research.google.com/assets/colab-badge.svg\" alt=\"Open In Colab\"/></a>"
      ]
    },
    {
      "cell_type": "code",
      "metadata": {
        "colab": {
          "base_uri": "https://localhost:8080/"
        },
        "id": "CzoTdF1U2_Un",
        "outputId": "f32b007c-4f0f-4f78-d965-b8eb73be801a"
      },
      "source": [
        "from google.colab import drive\n",
        "drive.mount('/content/drive', force_remount=True)"
      ],
      "id": "CzoTdF1U2_Un",
      "execution_count": 431,
      "outputs": [
        {
          "output_type": "stream",
          "text": [
            "Mounted at /content/drive\n"
          ],
          "name": "stdout"
        }
      ]
    },
    {
      "cell_type": "code",
      "metadata": {
        "_cell_guid": "b1076dfc-b9ad-4769-8c92-a6c4dae69d19",
        "_uuid": "8f2839f25d086af736a60e9eeb907d3b93b6e0e5",
        "execution": {
          "iopub.execute_input": "2021-07-26T12:47:57.460704Z",
          "iopub.status.busy": "2021-07-26T12:47:57.459545Z",
          "iopub.status.idle": "2021-07-26T12:47:59.205812Z",
          "shell.execute_reply": "2021-07-26T12:47:59.204832Z",
          "shell.execute_reply.started": "2021-07-26T11:57:45.192703Z"
        },
        "papermill": {
          "duration": 1.780835,
          "end_time": "2021-07-26T12:47:59.205987",
          "exception": false,
          "start_time": "2021-07-26T12:47:57.425152",
          "status": "completed"
        },
        "tags": [],
        "id": "3172835a"
      },
      "source": [
        "import numpy as np # linear algebra\n",
        "import pandas as pd # data processing, CSV file I/O (e.g. pd.read_csv)\n",
        "import matplotlib.pyplot as plt\n",
        "import seaborn as sns\n",
        "import os\n",
        "\n",
        "from sklearn.preprocessing import OneHotEncoder\n",
        "from sklearn.impute import SimpleImputer\n",
        "from sklearn.model_selection import train_test_split\n",
        "from sklearn.ensemble import RandomForestClassifier\n",
        "from sklearn.metrics import confusion_matrix, accuracy_score, f1_score\n",
        "from sklearn.feature_selection import mutual_info_classif\n",
        "from sklearn.model_selection import GridSearchCV\n",
        "from sklearn.model_selection import cross_validate\n",
        "from sklearn.preprocessing import StandardScaler\n",
        "\n",
        "# for dirname, _, filenames in os.walk('/content/drive'):\n",
        "#     for filename in filenames:\n",
        "#       print(os.path.join(dirname, filename))\n",
        "\n",
        "train_values = pd.read_csv(\"/content/drive/MyDrive/Pump it up/training values.csv\")\n",
        "train_labels = pd.read_csv(\"/content/drive/MyDrive/Pump it up/training labels.csv\")\n",
        "test_data = pd.read_csv(\"/content/drive/MyDrive/Pump it up/test set.csv\")"
      ],
      "id": "3172835a",
      "execution_count": 432,
      "outputs": []
    },
    {
      "cell_type": "code",
      "metadata": {
        "id": "SUIsJty04gFY",
        "colab": {
          "base_uri": "https://localhost:8080/",
          "height": 204
        },
        "outputId": "d3c65bf5-0887-4dda-d69b-8e3218f64e2d"
      },
      "source": [
        "train_labels.head()"
      ],
      "id": "SUIsJty04gFY",
      "execution_count": 433,
      "outputs": [
        {
          "output_type": "execute_result",
          "data": {
            "text/html": [
              "<div>\n",
              "<style scoped>\n",
              "    .dataframe tbody tr th:only-of-type {\n",
              "        vertical-align: middle;\n",
              "    }\n",
              "\n",
              "    .dataframe tbody tr th {\n",
              "        vertical-align: top;\n",
              "    }\n",
              "\n",
              "    .dataframe thead th {\n",
              "        text-align: right;\n",
              "    }\n",
              "</style>\n",
              "<table border=\"1\" class=\"dataframe\">\n",
              "  <thead>\n",
              "    <tr style=\"text-align: right;\">\n",
              "      <th></th>\n",
              "      <th>id</th>\n",
              "      <th>status_group</th>\n",
              "    </tr>\n",
              "  </thead>\n",
              "  <tbody>\n",
              "    <tr>\n",
              "      <th>0</th>\n",
              "      <td>69572</td>\n",
              "      <td>functional</td>\n",
              "    </tr>\n",
              "    <tr>\n",
              "      <th>1</th>\n",
              "      <td>8776</td>\n",
              "      <td>functional</td>\n",
              "    </tr>\n",
              "    <tr>\n",
              "      <th>2</th>\n",
              "      <td>34310</td>\n",
              "      <td>functional</td>\n",
              "    </tr>\n",
              "    <tr>\n",
              "      <th>3</th>\n",
              "      <td>67743</td>\n",
              "      <td>non functional</td>\n",
              "    </tr>\n",
              "    <tr>\n",
              "      <th>4</th>\n",
              "      <td>19728</td>\n",
              "      <td>functional</td>\n",
              "    </tr>\n",
              "  </tbody>\n",
              "</table>\n",
              "</div>"
            ],
            "text/plain": [
              "      id    status_group\n",
              "0  69572      functional\n",
              "1   8776      functional\n",
              "2  34310      functional\n",
              "3  67743  non functional\n",
              "4  19728      functional"
            ]
          },
          "metadata": {},
          "execution_count": 433
        }
      ]
    },
    {
      "cell_type": "code",
      "metadata": {
        "colab": {
          "base_uri": "https://localhost:8080/"
        },
        "id": "erZjnAz37wCT",
        "outputId": "8a14f788-4309-44a3-9dba-b93e63a7d7e7"
      },
      "source": [
        "train_values.shape"
      ],
      "id": "erZjnAz37wCT",
      "execution_count": 434,
      "outputs": [
        {
          "output_type": "execute_result",
          "data": {
            "text/plain": [
              "(59400, 40)"
            ]
          },
          "metadata": {},
          "execution_count": 434
        }
      ]
    },
    {
      "cell_type": "code",
      "metadata": {
        "id": "iqXNRSiji_TO"
      },
      "source": [
        "train_values['installer'] = train_values['installer'].str.lower()\n",
        "train_values['installer'].fillna(0, inplace = True)\n",
        "train_values['installer'].replace(to_replace = [0, '-'], value = 'missing', inplace = True) \n",
        "\n",
        "test_data['installer'] = test_data['installer'].str.lower()\n",
        "test_data['installer'].fillna(0, inplace = True)\n",
        "test_data['installer'].replace(to_replace = [0, '-'], value = 'missing', inplace = True) "
      ],
      "id": "iqXNRSiji_TO",
      "execution_count": 435,
      "outputs": []
    },
    {
      "cell_type": "markdown",
      "metadata": {
        "papermill": {
          "duration": 0.030615,
          "end_time": "2021-07-26T12:47:59.368788",
          "exception": false,
          "start_time": "2021-07-26T12:47:59.338173",
          "status": "completed"
        },
        "tags": [],
        "id": "906ef0bb"
      },
      "source": [
        "Checking whether the dataset is balanced or not"
      ],
      "id": "906ef0bb"
    },
    {
      "cell_type": "code",
      "metadata": {
        "execution": {
          "iopub.execute_input": "2021-07-26T12:47:59.440234Z",
          "iopub.status.busy": "2021-07-26T12:47:59.439609Z",
          "iopub.status.idle": "2021-07-26T12:47:59.464981Z",
          "shell.execute_reply": "2021-07-26T12:47:59.465518Z",
          "shell.execute_reply.started": "2021-07-26T12:37:00.191404Z"
        },
        "papermill": {
          "duration": 0.06636,
          "end_time": "2021-07-26T12:47:59.465699",
          "exception": false,
          "start_time": "2021-07-26T12:47:59.399339",
          "status": "completed"
        },
        "tags": [],
        "id": "a0660645",
        "colab": {
          "base_uri": "https://localhost:8080/"
        },
        "outputId": "85570187-18ff-4af6-ef8a-1ec900a9ba49"
      },
      "source": [
        "print(train_labels['status_group'].value_counts())"
      ],
      "id": "a0660645",
      "execution_count": 436,
      "outputs": [
        {
          "output_type": "stream",
          "text": [
            "functional                 32259\n",
            "non functional             22824\n",
            "functional needs repair     4317\n",
            "Name: status_group, dtype: int64\n"
          ],
          "name": "stdout"
        }
      ]
    },
    {
      "cell_type": "code",
      "metadata": {
        "execution": {
          "iopub.execute_input": "2021-07-26T12:47:59.538885Z",
          "iopub.status.busy": "2021-07-26T12:47:59.538209Z",
          "iopub.status.idle": "2021-07-26T12:47:59.542640Z",
          "shell.execute_reply": "2021-07-26T12:47:59.542232Z",
          "shell.execute_reply.started": "2021-07-26T11:57:45.285995Z"
        },
        "papermill": {
          "duration": 0.044979,
          "end_time": "2021-07-26T12:47:59.542748",
          "exception": false,
          "start_time": "2021-07-26T12:47:59.497769",
          "status": "completed"
        },
        "tags": [],
        "id": "74656e9c",
        "colab": {
          "base_uri": "https://localhost:8080/"
        },
        "outputId": "d6ed52bf-8fcb-416b-dbd0-dde9f358343b"
      },
      "source": [
        "test_data.isnull().sum().sort_values(ascending = False)"
      ],
      "id": "74656e9c",
      "execution_count": 437,
      "outputs": [
        {
          "output_type": "execute_result",
          "data": {
            "text/plain": [
              "scheme_name              7092\n",
              "scheme_management         969\n",
              "funder                    869\n",
              "public_meeting            821\n",
              "permit                    737\n",
              "subvillage                 99\n",
              "ward                        0\n",
              "lga                         0\n",
              "district_code               0\n",
              "region_code                 0\n",
              "region                      0\n",
              "waterpoint_type_group       0\n",
              "population                  0\n",
              "num_private                 0\n",
              "wpt_name                    0\n",
              "latitude                    0\n",
              "longitude                   0\n",
              "installer                   0\n",
              "gps_height                  0\n",
              "date_recorded               0\n",
              "amount_tsh                  0\n",
              "basin                       0\n",
              "recorded_by                 0\n",
              "waterpoint_type             0\n",
              "water_quality               0\n",
              "source_class                0\n",
              "source_type                 0\n",
              "source                      0\n",
              "quantity_group              0\n",
              "quantity                    0\n",
              "quality_group               0\n",
              "payment_type                0\n",
              "construction_year           0\n",
              "payment                     0\n",
              "management_group            0\n",
              "management                  0\n",
              "extraction_type_class       0\n",
              "extraction_type_group       0\n",
              "extraction_type             0\n",
              "id                          0\n",
              "dtype: int64"
            ]
          },
          "metadata": {},
          "execution_count": 437
        }
      ]
    },
    {
      "cell_type": "code",
      "metadata": {
        "colab": {
          "base_uri": "https://localhost:8080/"
        },
        "id": "xKcMOkfKvrbM",
        "outputId": "ba9a2cf4-27e4-421e-a7b8-7b6202920d60"
      },
      "source": [
        "amount = train_values['amount_tsh']\n",
        "print(amount.max())\n",
        "print(amount.min())"
      ],
      "id": "xKcMOkfKvrbM",
      "execution_count": 438,
      "outputs": [
        {
          "output_type": "stream",
          "text": [
            "350000.0\n",
            "0.0\n"
          ],
          "name": "stdout"
        }
      ]
    },
    {
      "cell_type": "markdown",
      "metadata": {
        "id": "xIbu0BoaxtSS"
      },
      "source": [
        "Standardise `amount_tsh`, `population` because they have a large ranges and may contain outliers.\n",
        "However tree based classifiers does not require standardisation "
      ],
      "id": "xIbu0BoaxtSS"
    },
    {
      "cell_type": "code",
      "metadata": {
        "colab": {
          "base_uri": "https://localhost:8080/"
        },
        "id": "mT4w07yMxMCN",
        "outputId": "99ff1e5f-2297-4601-a134-f5d66f8bbf00"
      },
      "source": [
        "train_values[['amount_tsh', 'population', 'num_private', 'gps_height']] = StandardScaler().fit_transform(train_values[['amount_tsh', 'population', 'num_private', 'gps_height']])\n",
        "print(train_values[['amount_tsh', 'population', 'num_private', 'gps_height']])"
      ],
      "id": "mT4w07yMxMCN",
      "execution_count": 439,
      "outputs": [
        {
          "output_type": "stream",
          "text": [
            "       amount_tsh  population  num_private  gps_height\n",
            "0        1.895665   -0.150399    -0.038749    1.041252\n",
            "1       -0.105970    0.212290    -0.038749    1.054237\n",
            "2       -0.097630    0.148660    -0.038749    0.025541\n",
            "3       -0.105970   -0.258570    -0.038749   -0.584751\n",
            "4       -0.105970   -0.381587    -0.038749   -0.964200\n",
            "...           ...         ...          ...         ...\n",
            "59395   -0.102634   -0.116463    -0.038749    0.781553\n",
            "59396    1.461977   -0.262812    -0.038749    0.784439\n",
            "59397   -0.105970   -0.381587    -0.038749   -0.964200\n",
            "59398   -0.105970   -0.381587    -0.038749   -0.964200\n",
            "59399   -0.105970   -0.063439    -0.038749   -0.688631\n",
            "\n",
            "[59400 rows x 4 columns]\n"
          ],
          "name": "stdout"
        }
      ]
    },
    {
      "cell_type": "markdown",
      "metadata": {
        "id": "ruwrSZHI5jMu"
      },
      "source": [
        "**Onehot encoding**"
      ],
      "id": "ruwrSZHI5jMu"
    },
    {
      "cell_type": "code",
      "metadata": {
        "colab": {
          "base_uri": "https://localhost:8080/"
        },
        "id": "Pv-nYw_c5hI-",
        "outputId": "28e12b1a-3752-409c-effc-3c4c0fde3e3c"
      },
      "source": [
        "train_values_ohe = pd.get_dummies(train_values, prefix=[\"public_meeting\", \"permit\"], columns=[\"public_meeting\", \"permit\"], dummy_na=False)\n",
        "# ohe_2 = pd.get_dummies(train_values.permit, prefix=\"permit\")\n",
        "train_values_ohe.shape"
      ],
      "id": "Pv-nYw_c5hI-",
      "execution_count": 440,
      "outputs": [
        {
          "output_type": "execute_result",
          "data": {
            "text/plain": [
              "(59400, 42)"
            ]
          },
          "metadata": {},
          "execution_count": 440
        }
      ]
    },
    {
      "cell_type": "markdown",
      "metadata": {
        "id": "AMps96OZzETb"
      },
      "source": [
        " Remove `region` feature because `region_code` provide coded version of same information"
      ],
      "id": "AMps96OZzETb"
    },
    {
      "cell_type": "code",
      "metadata": {
        "id": "bzG3XvuPyuAi"
      },
      "source": [
        "train_values_drop_region = train_values_ohe.drop(['region'], axis=1)"
      ],
      "id": "bzG3XvuPyuAi",
      "execution_count": 441,
      "outputs": []
    },
    {
      "cell_type": "markdown",
      "metadata": {
        "id": "JJMOALid7oV_"
      },
      "source": [
        "Pre-process `longitude` and `gps_height` by replacing 0 with mean value of each district.\n",
        "In the dataset region>district>subvillage but subvillage has `na` values hence district is chosen to calculate the mean"
      ],
      "id": "JJMOALid7oV_"
    },
    {
      "cell_type": "code",
      "metadata": {
        "colab": {
          "base_uri": "https://localhost:8080/"
        },
        "id": "feY5j1GdHf_s",
        "outputId": "85c3a461-960e-43c3-c656-3b3f1fa05c14"
      },
      "source": [
        "print(\"minimum longitude\", train_values_drop_region.longitude.min())\n",
        "print(\"number of unavailable latitudes\", len(train_values_drop_region[(train_values_drop_region['latitude']==-0.00000002)]))"
      ],
      "id": "feY5j1GdHf_s",
      "execution_count": 442,
      "outputs": [
        {
          "output_type": "stream",
          "text": [
            "minimum longitude 0.0\n",
            "number of unavailable latitudes 1812\n"
          ],
          "name": "stdout"
        }
      ]
    },
    {
      "cell_type": "code",
      "metadata": {
        "id": "6d3uQhsl77a3"
      },
      "source": [
        "grouped = train_values_drop_region.groupby(\"district_code\")\n",
        "\n",
        "def replaceLongitude(group):\n",
        "  mask = group==0\n",
        "  group[mask] = group[~mask].mean()\n",
        "  return group\n",
        "\n",
        "def replaceLatitude(group):\n",
        "  mask = group==-0.00000002\n",
        "  group[mask] = group[~mask].mean()\n",
        "  return group\n",
        "\n",
        "mean_longitude = grouped.longitude.transform(replaceLongitude)\n",
        "mean_latitude = grouped.latitude.transform(replaceLatitude)\n",
        "\n",
        "train_values_drop_region.longitude = mean_longitude\n",
        "train_values_drop_region.latitude = mean_latitude"
      ],
      "id": "6d3uQhsl77a3",
      "execution_count": 443,
      "outputs": []
    },
    {
      "cell_type": "code",
      "metadata": {
        "colab": {
          "base_uri": "https://localhost:8080/",
          "height": 411
        },
        "id": "_RH4xCRDUnYB",
        "outputId": "35a9a2fc-2c3f-4e0f-88c2-433bf5d68e10"
      },
      "source": [
        "train_values_drop_region.head()"
      ],
      "id": "_RH4xCRDUnYB",
      "execution_count": 444,
      "outputs": [
        {
          "output_type": "execute_result",
          "data": {
            "text/html": [
              "<div>\n",
              "<style scoped>\n",
              "    .dataframe tbody tr th:only-of-type {\n",
              "        vertical-align: middle;\n",
              "    }\n",
              "\n",
              "    .dataframe tbody tr th {\n",
              "        vertical-align: top;\n",
              "    }\n",
              "\n",
              "    .dataframe thead th {\n",
              "        text-align: right;\n",
              "    }\n",
              "</style>\n",
              "<table border=\"1\" class=\"dataframe\">\n",
              "  <thead>\n",
              "    <tr style=\"text-align: right;\">\n",
              "      <th></th>\n",
              "      <th>id</th>\n",
              "      <th>amount_tsh</th>\n",
              "      <th>date_recorded</th>\n",
              "      <th>funder</th>\n",
              "      <th>gps_height</th>\n",
              "      <th>installer</th>\n",
              "      <th>longitude</th>\n",
              "      <th>latitude</th>\n",
              "      <th>wpt_name</th>\n",
              "      <th>num_private</th>\n",
              "      <th>basin</th>\n",
              "      <th>subvillage</th>\n",
              "      <th>region_code</th>\n",
              "      <th>district_code</th>\n",
              "      <th>lga</th>\n",
              "      <th>ward</th>\n",
              "      <th>population</th>\n",
              "      <th>recorded_by</th>\n",
              "      <th>scheme_management</th>\n",
              "      <th>scheme_name</th>\n",
              "      <th>construction_year</th>\n",
              "      <th>extraction_type</th>\n",
              "      <th>extraction_type_group</th>\n",
              "      <th>extraction_type_class</th>\n",
              "      <th>management</th>\n",
              "      <th>management_group</th>\n",
              "      <th>payment</th>\n",
              "      <th>payment_type</th>\n",
              "      <th>water_quality</th>\n",
              "      <th>quality_group</th>\n",
              "      <th>quantity</th>\n",
              "      <th>quantity_group</th>\n",
              "      <th>source</th>\n",
              "      <th>source_type</th>\n",
              "      <th>source_class</th>\n",
              "      <th>waterpoint_type</th>\n",
              "      <th>waterpoint_type_group</th>\n",
              "      <th>public_meeting_False</th>\n",
              "      <th>public_meeting_True</th>\n",
              "      <th>permit_False</th>\n",
              "      <th>permit_True</th>\n",
              "    </tr>\n",
              "  </thead>\n",
              "  <tbody>\n",
              "    <tr>\n",
              "      <th>0</th>\n",
              "      <td>69572</td>\n",
              "      <td>1.895665</td>\n",
              "      <td>2011-03-14</td>\n",
              "      <td>Roman</td>\n",
              "      <td>1.041252</td>\n",
              "      <td>roman</td>\n",
              "      <td>34.938093</td>\n",
              "      <td>-9.856322</td>\n",
              "      <td>none</td>\n",
              "      <td>-0.038749</td>\n",
              "      <td>Lake Nyasa</td>\n",
              "      <td>Mnyusi B</td>\n",
              "      <td>11</td>\n",
              "      <td>5</td>\n",
              "      <td>Ludewa</td>\n",
              "      <td>Mundindi</td>\n",
              "      <td>-0.150399</td>\n",
              "      <td>GeoData Consultants Ltd</td>\n",
              "      <td>VWC</td>\n",
              "      <td>Roman</td>\n",
              "      <td>1999</td>\n",
              "      <td>gravity</td>\n",
              "      <td>gravity</td>\n",
              "      <td>gravity</td>\n",
              "      <td>vwc</td>\n",
              "      <td>user-group</td>\n",
              "      <td>pay annually</td>\n",
              "      <td>annually</td>\n",
              "      <td>soft</td>\n",
              "      <td>good</td>\n",
              "      <td>enough</td>\n",
              "      <td>enough</td>\n",
              "      <td>spring</td>\n",
              "      <td>spring</td>\n",
              "      <td>groundwater</td>\n",
              "      <td>communal standpipe</td>\n",
              "      <td>communal standpipe</td>\n",
              "      <td>0</td>\n",
              "      <td>1</td>\n",
              "      <td>1</td>\n",
              "      <td>0</td>\n",
              "    </tr>\n",
              "    <tr>\n",
              "      <th>1</th>\n",
              "      <td>8776</td>\n",
              "      <td>-0.105970</td>\n",
              "      <td>2013-03-06</td>\n",
              "      <td>Grumeti</td>\n",
              "      <td>1.054237</td>\n",
              "      <td>grumeti</td>\n",
              "      <td>34.698766</td>\n",
              "      <td>-2.147466</td>\n",
              "      <td>Zahanati</td>\n",
              "      <td>-0.038749</td>\n",
              "      <td>Lake Victoria</td>\n",
              "      <td>Nyamara</td>\n",
              "      <td>20</td>\n",
              "      <td>2</td>\n",
              "      <td>Serengeti</td>\n",
              "      <td>Natta</td>\n",
              "      <td>0.212290</td>\n",
              "      <td>GeoData Consultants Ltd</td>\n",
              "      <td>Other</td>\n",
              "      <td>NaN</td>\n",
              "      <td>2010</td>\n",
              "      <td>gravity</td>\n",
              "      <td>gravity</td>\n",
              "      <td>gravity</td>\n",
              "      <td>wug</td>\n",
              "      <td>user-group</td>\n",
              "      <td>never pay</td>\n",
              "      <td>never pay</td>\n",
              "      <td>soft</td>\n",
              "      <td>good</td>\n",
              "      <td>insufficient</td>\n",
              "      <td>insufficient</td>\n",
              "      <td>rainwater harvesting</td>\n",
              "      <td>rainwater harvesting</td>\n",
              "      <td>surface</td>\n",
              "      <td>communal standpipe</td>\n",
              "      <td>communal standpipe</td>\n",
              "      <td>0</td>\n",
              "      <td>0</td>\n",
              "      <td>0</td>\n",
              "      <td>1</td>\n",
              "    </tr>\n",
              "    <tr>\n",
              "      <th>2</th>\n",
              "      <td>34310</td>\n",
              "      <td>-0.097630</td>\n",
              "      <td>2013-02-25</td>\n",
              "      <td>Lottery Club</td>\n",
              "      <td>0.025541</td>\n",
              "      <td>world vision</td>\n",
              "      <td>37.460664</td>\n",
              "      <td>-3.821329</td>\n",
              "      <td>Kwa Mahundi</td>\n",
              "      <td>-0.038749</td>\n",
              "      <td>Pangani</td>\n",
              "      <td>Majengo</td>\n",
              "      <td>21</td>\n",
              "      <td>4</td>\n",
              "      <td>Simanjiro</td>\n",
              "      <td>Ngorika</td>\n",
              "      <td>0.148660</td>\n",
              "      <td>GeoData Consultants Ltd</td>\n",
              "      <td>VWC</td>\n",
              "      <td>Nyumba ya mungu pipe scheme</td>\n",
              "      <td>2009</td>\n",
              "      <td>gravity</td>\n",
              "      <td>gravity</td>\n",
              "      <td>gravity</td>\n",
              "      <td>vwc</td>\n",
              "      <td>user-group</td>\n",
              "      <td>pay per bucket</td>\n",
              "      <td>per bucket</td>\n",
              "      <td>soft</td>\n",
              "      <td>good</td>\n",
              "      <td>enough</td>\n",
              "      <td>enough</td>\n",
              "      <td>dam</td>\n",
              "      <td>dam</td>\n",
              "      <td>surface</td>\n",
              "      <td>communal standpipe multiple</td>\n",
              "      <td>communal standpipe</td>\n",
              "      <td>0</td>\n",
              "      <td>1</td>\n",
              "      <td>0</td>\n",
              "      <td>1</td>\n",
              "    </tr>\n",
              "    <tr>\n",
              "      <th>3</th>\n",
              "      <td>67743</td>\n",
              "      <td>-0.105970</td>\n",
              "      <td>2013-01-28</td>\n",
              "      <td>Unicef</td>\n",
              "      <td>-0.584751</td>\n",
              "      <td>unicef</td>\n",
              "      <td>38.486161</td>\n",
              "      <td>-11.155298</td>\n",
              "      <td>Zahanati Ya Nanyumbu</td>\n",
              "      <td>-0.038749</td>\n",
              "      <td>Ruvuma / Southern Coast</td>\n",
              "      <td>Mahakamani</td>\n",
              "      <td>90</td>\n",
              "      <td>63</td>\n",
              "      <td>Nanyumbu</td>\n",
              "      <td>Nanyumbu</td>\n",
              "      <td>-0.258570</td>\n",
              "      <td>GeoData Consultants Ltd</td>\n",
              "      <td>VWC</td>\n",
              "      <td>NaN</td>\n",
              "      <td>1986</td>\n",
              "      <td>submersible</td>\n",
              "      <td>submersible</td>\n",
              "      <td>submersible</td>\n",
              "      <td>vwc</td>\n",
              "      <td>user-group</td>\n",
              "      <td>never pay</td>\n",
              "      <td>never pay</td>\n",
              "      <td>soft</td>\n",
              "      <td>good</td>\n",
              "      <td>dry</td>\n",
              "      <td>dry</td>\n",
              "      <td>machine dbh</td>\n",
              "      <td>borehole</td>\n",
              "      <td>groundwater</td>\n",
              "      <td>communal standpipe multiple</td>\n",
              "      <td>communal standpipe</td>\n",
              "      <td>0</td>\n",
              "      <td>1</td>\n",
              "      <td>0</td>\n",
              "      <td>1</td>\n",
              "    </tr>\n",
              "    <tr>\n",
              "      <th>4</th>\n",
              "      <td>19728</td>\n",
              "      <td>-0.105970</td>\n",
              "      <td>2011-07-13</td>\n",
              "      <td>Action In A</td>\n",
              "      <td>-0.964200</td>\n",
              "      <td>artisan</td>\n",
              "      <td>31.130847</td>\n",
              "      <td>-1.825359</td>\n",
              "      <td>Shuleni</td>\n",
              "      <td>-0.038749</td>\n",
              "      <td>Lake Victoria</td>\n",
              "      <td>Kyanyamisa</td>\n",
              "      <td>18</td>\n",
              "      <td>1</td>\n",
              "      <td>Karagwe</td>\n",
              "      <td>Nyakasimbi</td>\n",
              "      <td>-0.381587</td>\n",
              "      <td>GeoData Consultants Ltd</td>\n",
              "      <td>NaN</td>\n",
              "      <td>NaN</td>\n",
              "      <td>0</td>\n",
              "      <td>gravity</td>\n",
              "      <td>gravity</td>\n",
              "      <td>gravity</td>\n",
              "      <td>other</td>\n",
              "      <td>other</td>\n",
              "      <td>never pay</td>\n",
              "      <td>never pay</td>\n",
              "      <td>soft</td>\n",
              "      <td>good</td>\n",
              "      <td>seasonal</td>\n",
              "      <td>seasonal</td>\n",
              "      <td>rainwater harvesting</td>\n",
              "      <td>rainwater harvesting</td>\n",
              "      <td>surface</td>\n",
              "      <td>communal standpipe</td>\n",
              "      <td>communal standpipe</td>\n",
              "      <td>0</td>\n",
              "      <td>1</td>\n",
              "      <td>0</td>\n",
              "      <td>1</td>\n",
              "    </tr>\n",
              "  </tbody>\n",
              "</table>\n",
              "</div>"
            ],
            "text/plain": [
              "      id  amount_tsh  ... permit_False permit_True\n",
              "0  69572    1.895665  ...            1           0\n",
              "1   8776   -0.105970  ...            0           1\n",
              "2  34310   -0.097630  ...            0           1\n",
              "3  67743   -0.105970  ...            0           1\n",
              "4  19728   -0.105970  ...            0           1\n",
              "\n",
              "[5 rows x 41 columns]"
            ]
          },
          "metadata": {},
          "execution_count": 444
        }
      ]
    },
    {
      "cell_type": "code",
      "metadata": {
        "colab": {
          "base_uri": "https://localhost:8080/"
        },
        "id": "OJ8U0aNp_gHZ",
        "outputId": "b2b35610-2619-4e2e-9430-26bf02cd3134"
      },
      "source": [
        "#check for correctness of above process\n",
        "print(\"minimum longitude:\", train_values_drop_region.longitude.min()) \n",
        "print(\"number of unavailable latitudes:\", len(train_values_drop_region[(train_values_drop_region['latitude']==-0.00000002)]))"
      ],
      "id": "OJ8U0aNp_gHZ",
      "execution_count": 445,
      "outputs": [
        {
          "output_type": "stream",
          "text": [
            "minimum longitude: 29.6071219\n",
            "number of unavailable latitudes: 0\n"
          ],
          "name": "stdout"
        }
      ]
    },
    {
      "cell_type": "markdown",
      "metadata": {
        "id": "C6yAydF5QNVc"
      },
      "source": [
        "Preprocess `date_recorded` feature"
      ],
      "id": "C6yAydF5QNVc"
    },
    {
      "cell_type": "code",
      "metadata": {
        "colab": {
          "base_uri": "https://localhost:8080/"
        },
        "id": "p84y6h0D4wwM",
        "outputId": "1b1f0253-cd17-4ea9-de9a-2808d6283b15"
      },
      "source": [
        "train_values_drop_region['date_recorded'] =  pd.to_datetime(train_values['date_recorded'])\n",
        "train_values_drop_region['num_days'] = (train_values_drop_region['date_recorded'] - pd.Timestamp.now())/np.timedelta64(1, 'D')\n",
        "train_values_drop_region['num_days'] = StandardScaler().fit_transform(train_values_drop_region[['num_days']])\n",
        "train_values_drop_date = train_values_drop_region.drop(['date_recorded'], axis=1)\n",
        "print(train_values_drop_date.shape,'\\n',train_values_drop_date['num_days'])"
      ],
      "id": "p84y6h0D4wwM",
      "execution_count": 446,
      "outputs": [
        {
          "output_type": "stream",
          "text": [
            "(59400, 41) \n",
            " 0       -1.141136\n",
            "1        1.022152\n",
            "2        0.995223\n",
            "3        0.911444\n",
            "4       -0.779092\n",
            "           ...   \n",
            "59395    1.195693\n",
            "59396   -0.979562\n",
            "59397   -1.057357\n",
            "59398   -1.159088\n",
            "59399   -1.114207\n",
            "Name: num_days, Length: 59400, dtype: float64\n"
          ],
          "name": "stdout"
        }
      ]
    },
    {
      "cell_type": "code",
      "metadata": {
        "execution": {
          "iopub.execute_input": "2021-07-26T12:47:59.279061Z",
          "iopub.status.busy": "2021-07-26T12:47:59.277382Z",
          "iopub.status.idle": "2021-07-26T12:47:59.306803Z",
          "shell.execute_reply": "2021-07-26T12:47:59.306221Z",
          "shell.execute_reply.started": "2021-07-26T11:57:45.231495Z"
        },
        "papermill": {
          "duration": 0.069076,
          "end_time": "2021-07-26T12:47:59.306942",
          "exception": false,
          "start_time": "2021-07-26T12:47:59.237866",
          "status": "completed"
        },
        "tags": [],
        "id": "624059b4",
        "colab": {
          "base_uri": "https://localhost:8080/"
        },
        "outputId": "fe03ce6a-ac14-4ead-acf5-dd9771c73423"
      },
      "source": [
        "encoded_features = ['id','latitude','longitude','gps_height','date_recorded','amount_tsh','num_private',\n",
        "                    'region_code','district_code','population','public_meeting','construction_year','permit',\n",
        "                    'num_days','public_meeting_False','public_meeting_True','permit_False','permit_True',\n",
        "                    'wpt_name','recorded_by']\n",
        "\n",
        "limit_train = int(train_values_drop_date.shape[0]*0.03/100)\n",
        "limit_test = int(test_data.shape[0]*0.03/100)\n",
        "\n",
        "for column in train_values_drop_date.columns:\n",
        "  if column not in encoded_features:\n",
        "    train_values_drop_date[column] = train_values_drop_date[column].str.lower()\n",
        "    feature_values=train_values_drop_date[column].value_counts()\n",
        "    rare_features=feature_values[feature_values < limit_train]\n",
        "    train_values_drop_date[column].replace(to_replace = list(rare_features.keys()), value = 'other', inplace = True)\n",
        "    if ('other' in train_values_drop_date[column].value_counts().index):\n",
        "      print('Changed', train_values_drop_date[column].value_counts()['other'], 'rows to other in column', column)\n",
        "\n",
        "    train_values_drop_date[column], _ = train_values_drop_date[column].factorize(na_sentinel=-1)     # label encoding\n",
        "    \n",
        "    # same encoding for test data set\n",
        "    test_data[column] = test_data[column].str.lower()\n",
        "    feature_values_test=test_data[column].value_counts()\n",
        "    rare_features_test=feature_values_test[feature_values_test < limit_test]\n",
        "    test_data[column].replace(to_replace = list(_), value = [ x for x in range(len(list(_)))], inplace = True)\n",
        "    test_data[column].fillna(-1, inplace = True)\n",
        "    for i,j in test_data[column].iteritems():\n",
        "      if type(j) is str:\n",
        "        test_data.loc[i, column]=len(list(_))"
      ],
      "id": "624059b4",
      "execution_count": 447,
      "outputs": [
        {
          "output_type": "stream",
          "text": [
            "Changed 4308 rows to other in column funder\n",
            "Changed 4637 rows to other in column installer\n",
            "Changed 46100 rows to other in column subvillage\n",
            "Changed 1 rows to other in column lga\n",
            "Changed 7739 rows to other in column ward\n",
            "Changed 767 rows to other in column scheme_management\n",
            "Changed 10466 rows to other in column scheme_name\n",
            "Changed 6432 rows to other in column extraction_type\n",
            "Changed 6430 rows to other in column extraction_type_group\n",
            "Changed 6430 rows to other in column extraction_type_class\n",
            "Changed 844 rows to other in column management\n",
            "Changed 943 rows to other in column management_group\n",
            "Changed 1054 rows to other in column payment\n",
            "Changed 1054 rows to other in column payment_type\n",
            "Changed 212 rows to other in column source\n",
            "Changed 278 rows to other in column source_type\n",
            "Changed 6387 rows to other in column waterpoint_type\n",
            "Changed 6387 rows to other in column waterpoint_type_group\n"
          ],
          "name": "stdout"
        }
      ]
    },
    {
      "cell_type": "code",
      "metadata": {
        "id": "FqCEgf21sGjT"
      },
      "source": [
        "train_values_drop_name = train_values_drop_date.drop(['wpt_name'], axis=1)    #drop 'wpt_name' (name of the waterpoint) due to highcardinality and less relevance to the prediction\n",
        "train_values_drop_name = train_values_drop_name.drop(['recorded_by', 'id'], axis=1)    #recorded_by has same value for all records"
      ],
      "id": "FqCEgf21sGjT",
      "execution_count": 448,
      "outputs": []
    },
    {
      "cell_type": "code",
      "metadata": {
        "execution": {
          "iopub.execute_input": "2021-07-26T12:48:00.558506Z",
          "iopub.status.busy": "2021-07-26T12:48:00.557888Z",
          "iopub.status.idle": "2021-07-26T12:48:00.560574Z",
          "shell.execute_reply": "2021-07-26T12:48:00.560145Z",
          "shell.execute_reply.started": "2021-07-26T11:57:51.674232Z"
        },
        "papermill": {
          "duration": 0.042043,
          "end_time": "2021-07-26T12:48:00.560681",
          "exception": false,
          "start_time": "2021-07-26T12:48:00.518638",
          "status": "completed"
        },
        "tags": [],
        "id": "b6739618"
      },
      "source": [
        "# Utility functions from Tutorial\n",
        "def make_mi_scores(X, y, features):\n",
        "    X_mi = X.copy()\n",
        "    mi_scores = mutual_info_classif(X_mi, y, discrete_features=features, random_state=0)\n",
        "    mi_scores = pd.Series(mi_scores, name=\"MI Scores\", index=X_mi.columns)\n",
        "    mi_scores = mi_scores.sort_values(ascending=False)\n",
        "    return mi_scores\n",
        "\n",
        "\n",
        "def plot_mi_scores(scores):\n",
        "    scores = scores.sort_values(ascending=True)\n",
        "    width = np.arange(len(scores))\n",
        "    ticks = list(scores.index)\n",
        "    plt.barh(width, scores)\n",
        "    plt.yticks(width, ticks)\n",
        "    plt.title(\"Mutual Information Scores\")"
      ],
      "id": "b6739618",
      "execution_count": 449,
      "outputs": []
    },
    {
      "cell_type": "code",
      "metadata": {
        "colab": {
          "base_uri": "https://localhost:8080/",
          "height": 224
        },
        "id": "cZPvEthHbkdm",
        "outputId": "059fe6c6-8e6a-4228-d561-e61bd5300aec"
      },
      "source": [
        "train_values_drop_name.head()"
      ],
      "id": "cZPvEthHbkdm",
      "execution_count": 450,
      "outputs": [
        {
          "output_type": "execute_result",
          "data": {
            "text/html": [
              "<div>\n",
              "<style scoped>\n",
              "    .dataframe tbody tr th:only-of-type {\n",
              "        vertical-align: middle;\n",
              "    }\n",
              "\n",
              "    .dataframe tbody tr th {\n",
              "        vertical-align: top;\n",
              "    }\n",
              "\n",
              "    .dataframe thead th {\n",
              "        text-align: right;\n",
              "    }\n",
              "</style>\n",
              "<table border=\"1\" class=\"dataframe\">\n",
              "  <thead>\n",
              "    <tr style=\"text-align: right;\">\n",
              "      <th></th>\n",
              "      <th>amount_tsh</th>\n",
              "      <th>funder</th>\n",
              "      <th>gps_height</th>\n",
              "      <th>installer</th>\n",
              "      <th>longitude</th>\n",
              "      <th>latitude</th>\n",
              "      <th>num_private</th>\n",
              "      <th>basin</th>\n",
              "      <th>subvillage</th>\n",
              "      <th>region_code</th>\n",
              "      <th>district_code</th>\n",
              "      <th>lga</th>\n",
              "      <th>ward</th>\n",
              "      <th>population</th>\n",
              "      <th>scheme_management</th>\n",
              "      <th>scheme_name</th>\n",
              "      <th>construction_year</th>\n",
              "      <th>extraction_type</th>\n",
              "      <th>extraction_type_group</th>\n",
              "      <th>extraction_type_class</th>\n",
              "      <th>management</th>\n",
              "      <th>management_group</th>\n",
              "      <th>payment</th>\n",
              "      <th>payment_type</th>\n",
              "      <th>water_quality</th>\n",
              "      <th>quality_group</th>\n",
              "      <th>quantity</th>\n",
              "      <th>quantity_group</th>\n",
              "      <th>source</th>\n",
              "      <th>source_type</th>\n",
              "      <th>source_class</th>\n",
              "      <th>waterpoint_type</th>\n",
              "      <th>waterpoint_type_group</th>\n",
              "      <th>public_meeting_False</th>\n",
              "      <th>public_meeting_True</th>\n",
              "      <th>permit_False</th>\n",
              "      <th>permit_True</th>\n",
              "      <th>num_days</th>\n",
              "    </tr>\n",
              "  </thead>\n",
              "  <tbody>\n",
              "    <tr>\n",
              "      <th>0</th>\n",
              "      <td>1.895665</td>\n",
              "      <td>0</td>\n",
              "      <td>1.041252</td>\n",
              "      <td>0</td>\n",
              "      <td>34.938093</td>\n",
              "      <td>-9.856322</td>\n",
              "      <td>-0.038749</td>\n",
              "      <td>0</td>\n",
              "      <td>0</td>\n",
              "      <td>11</td>\n",
              "      <td>5</td>\n",
              "      <td>0</td>\n",
              "      <td>0</td>\n",
              "      <td>-0.150399</td>\n",
              "      <td>0</td>\n",
              "      <td>0</td>\n",
              "      <td>1999</td>\n",
              "      <td>0</td>\n",
              "      <td>0</td>\n",
              "      <td>0</td>\n",
              "      <td>0</td>\n",
              "      <td>0</td>\n",
              "      <td>0</td>\n",
              "      <td>0</td>\n",
              "      <td>0</td>\n",
              "      <td>0</td>\n",
              "      <td>0</td>\n",
              "      <td>0</td>\n",
              "      <td>0</td>\n",
              "      <td>0</td>\n",
              "      <td>0</td>\n",
              "      <td>0</td>\n",
              "      <td>0</td>\n",
              "      <td>0</td>\n",
              "      <td>1</td>\n",
              "      <td>1</td>\n",
              "      <td>0</td>\n",
              "      <td>-1.141136</td>\n",
              "    </tr>\n",
              "    <tr>\n",
              "      <th>1</th>\n",
              "      <td>-0.105970</td>\n",
              "      <td>1</td>\n",
              "      <td>1.054237</td>\n",
              "      <td>1</td>\n",
              "      <td>34.698766</td>\n",
              "      <td>-2.147466</td>\n",
              "      <td>-0.038749</td>\n",
              "      <td>1</td>\n",
              "      <td>0</td>\n",
              "      <td>20</td>\n",
              "      <td>2</td>\n",
              "      <td>1</td>\n",
              "      <td>1</td>\n",
              "      <td>0.212290</td>\n",
              "      <td>1</td>\n",
              "      <td>-1</td>\n",
              "      <td>2010</td>\n",
              "      <td>0</td>\n",
              "      <td>0</td>\n",
              "      <td>0</td>\n",
              "      <td>1</td>\n",
              "      <td>0</td>\n",
              "      <td>1</td>\n",
              "      <td>1</td>\n",
              "      <td>0</td>\n",
              "      <td>0</td>\n",
              "      <td>1</td>\n",
              "      <td>1</td>\n",
              "      <td>1</td>\n",
              "      <td>1</td>\n",
              "      <td>1</td>\n",
              "      <td>0</td>\n",
              "      <td>0</td>\n",
              "      <td>0</td>\n",
              "      <td>0</td>\n",
              "      <td>0</td>\n",
              "      <td>1</td>\n",
              "      <td>1.022152</td>\n",
              "    </tr>\n",
              "    <tr>\n",
              "      <th>2</th>\n",
              "      <td>-0.097630</td>\n",
              "      <td>2</td>\n",
              "      <td>0.025541</td>\n",
              "      <td>2</td>\n",
              "      <td>37.460664</td>\n",
              "      <td>-3.821329</td>\n",
              "      <td>-0.038749</td>\n",
              "      <td>2</td>\n",
              "      <td>1</td>\n",
              "      <td>21</td>\n",
              "      <td>4</td>\n",
              "      <td>2</td>\n",
              "      <td>2</td>\n",
              "      <td>0.148660</td>\n",
              "      <td>0</td>\n",
              "      <td>1</td>\n",
              "      <td>2009</td>\n",
              "      <td>0</td>\n",
              "      <td>0</td>\n",
              "      <td>0</td>\n",
              "      <td>0</td>\n",
              "      <td>0</td>\n",
              "      <td>2</td>\n",
              "      <td>2</td>\n",
              "      <td>0</td>\n",
              "      <td>0</td>\n",
              "      <td>0</td>\n",
              "      <td>0</td>\n",
              "      <td>2</td>\n",
              "      <td>2</td>\n",
              "      <td>1</td>\n",
              "      <td>1</td>\n",
              "      <td>0</td>\n",
              "      <td>0</td>\n",
              "      <td>1</td>\n",
              "      <td>0</td>\n",
              "      <td>1</td>\n",
              "      <td>0.995223</td>\n",
              "    </tr>\n",
              "    <tr>\n",
              "      <th>3</th>\n",
              "      <td>-0.105970</td>\n",
              "      <td>3</td>\n",
              "      <td>-0.584751</td>\n",
              "      <td>3</td>\n",
              "      <td>38.486161</td>\n",
              "      <td>-11.155298</td>\n",
              "      <td>-0.038749</td>\n",
              "      <td>3</td>\n",
              "      <td>2</td>\n",
              "      <td>90</td>\n",
              "      <td>63</td>\n",
              "      <td>3</td>\n",
              "      <td>3</td>\n",
              "      <td>-0.258570</td>\n",
              "      <td>0</td>\n",
              "      <td>-1</td>\n",
              "      <td>1986</td>\n",
              "      <td>1</td>\n",
              "      <td>1</td>\n",
              "      <td>1</td>\n",
              "      <td>0</td>\n",
              "      <td>0</td>\n",
              "      <td>1</td>\n",
              "      <td>1</td>\n",
              "      <td>0</td>\n",
              "      <td>0</td>\n",
              "      <td>2</td>\n",
              "      <td>2</td>\n",
              "      <td>3</td>\n",
              "      <td>3</td>\n",
              "      <td>0</td>\n",
              "      <td>1</td>\n",
              "      <td>0</td>\n",
              "      <td>0</td>\n",
              "      <td>1</td>\n",
              "      <td>0</td>\n",
              "      <td>1</td>\n",
              "      <td>0.911444</td>\n",
              "    </tr>\n",
              "    <tr>\n",
              "      <th>4</th>\n",
              "      <td>-0.105970</td>\n",
              "      <td>2</td>\n",
              "      <td>-0.964200</td>\n",
              "      <td>4</td>\n",
              "      <td>31.130847</td>\n",
              "      <td>-1.825359</td>\n",
              "      <td>-0.038749</td>\n",
              "      <td>1</td>\n",
              "      <td>0</td>\n",
              "      <td>18</td>\n",
              "      <td>1</td>\n",
              "      <td>4</td>\n",
              "      <td>2</td>\n",
              "      <td>-0.381587</td>\n",
              "      <td>-1</td>\n",
              "      <td>-1</td>\n",
              "      <td>0</td>\n",
              "      <td>0</td>\n",
              "      <td>0</td>\n",
              "      <td>0</td>\n",
              "      <td>2</td>\n",
              "      <td>1</td>\n",
              "      <td>1</td>\n",
              "      <td>1</td>\n",
              "      <td>0</td>\n",
              "      <td>0</td>\n",
              "      <td>3</td>\n",
              "      <td>3</td>\n",
              "      <td>1</td>\n",
              "      <td>1</td>\n",
              "      <td>1</td>\n",
              "      <td>0</td>\n",
              "      <td>0</td>\n",
              "      <td>0</td>\n",
              "      <td>1</td>\n",
              "      <td>0</td>\n",
              "      <td>1</td>\n",
              "      <td>-0.779092</td>\n",
              "    </tr>\n",
              "  </tbody>\n",
              "</table>\n",
              "</div>"
            ],
            "text/plain": [
              "   amount_tsh  funder  gps_height  ...  permit_False  permit_True  num_days\n",
              "0    1.895665       0    1.041252  ...             1            0 -1.141136\n",
              "1   -0.105970       1    1.054237  ...             0            1  1.022152\n",
              "2   -0.097630       2    0.025541  ...             0            1  0.995223\n",
              "3   -0.105970       3   -0.584751  ...             0            1  0.911444\n",
              "4   -0.105970       2   -0.964200  ...             0            1 -0.779092\n",
              "\n",
              "[5 rows x 38 columns]"
            ]
          },
          "metadata": {},
          "execution_count": 450
        }
      ]
    },
    {
      "cell_type": "code",
      "metadata": {
        "execution": {
          "iopub.execute_input": "2021-07-26T12:48:00.698751Z",
          "iopub.status.busy": "2021-07-26T12:48:00.698142Z",
          "iopub.status.idle": "2021-07-26T12:48:00.958991Z",
          "shell.execute_reply": "2021-07-26T12:48:00.958445Z",
          "shell.execute_reply.started": "2021-07-26T11:57:52.341503Z"
        },
        "papermill": {
          "duration": 0.284464,
          "end_time": "2021-07-26T12:48:00.959129",
          "exception": false,
          "start_time": "2021-07-26T12:48:00.674665",
          "status": "completed"
        },
        "tags": [],
        "id": "0e31c9fe"
      },
      "source": [
        "# # mutual inofrmation\n",
        "# features = [1, 6, 7, 8, 9, 10, 12, 13, 14, 15, 16,17, 18, 19 ,20, 21, 22, 23, 24, 25, 26, 27, 28, 29]\n",
        "# mi_scores = make_mi_scores(train_values_drop_name, train_labels.status_group, features)\n",
        "# print(mi_scores)\n",
        "\n",
        "# plt.figure(dpi=100, figsize=(8, 5))\n",
        "# plot_mi_scores(mi_scores)"
      ],
      "id": "0e31c9fe",
      "execution_count": 451,
      "outputs": []
    },
    {
      "cell_type": "code",
      "metadata": {
        "execution": {
          "iopub.execute_input": "2021-07-26T12:48:01.037063Z",
          "iopub.status.busy": "2021-07-26T12:48:01.036283Z",
          "iopub.status.idle": "2021-07-26T12:48:01.040424Z",
          "shell.execute_reply": "2021-07-26T12:48:01.039709Z",
          "shell.execute_reply.started": "2021-07-26T11:57:52.607713Z"
        },
        "papermill": {
          "duration": 0.045516,
          "end_time": "2021-07-26T12:48:01.040577",
          "exception": false,
          "start_time": "2021-07-26T12:48:00.995061",
          "status": "completed"
        },
        "tags": [],
        "id": "3681b81b"
      },
      "source": [
        "# train_values_drop_name = train_values_drop_name.drop(['permit_True', 'num_private', 'public_meeting_False'], axis=1) # remove these feature due to low mutual information score"
      ],
      "id": "3681b81b",
      "execution_count": 452,
      "outputs": []
    },
    {
      "cell_type": "code",
      "metadata": {
        "id": "inPIJQ9ut5_8"
      },
      "source": [
        "train_values_drop_name['construction_year'].replace(to_replace = 0, value = 1959, inplace = True)    #impute 'construction_year' with 1959 because 1960 is earliest available data"
      ],
      "id": "inPIJQ9ut5_8",
      "execution_count": 453,
      "outputs": []
    },
    {
      "cell_type": "code",
      "metadata": {
        "execution": {
          "iopub.execute_input": "2021-07-26T12:48:01.119474Z",
          "iopub.status.busy": "2021-07-26T12:48:01.118750Z",
          "iopub.status.idle": "2021-07-26T12:48:01.922213Z",
          "shell.execute_reply": "2021-07-26T12:48:01.921755Z",
          "shell.execute_reply.started": "2021-07-26T11:57:52.616572Z"
        },
        "papermill": {
          "duration": 0.846453,
          "end_time": "2021-07-26T12:48:01.922324",
          "exception": false,
          "start_time": "2021-07-26T12:48:01.075871",
          "status": "completed"
        },
        "tags": [],
        "id": "96a5eabe"
      },
      "source": [
        "# #Using Pearson Correlation\n",
        "# plt.figure(figsize=(24,20))\n",
        "# cor = train_values_drop_name.corr()\n",
        "# sns.heatmap(cor, annot=True, cmap=plt.cm.Reds)\n",
        "# plt.show()"
      ],
      "id": "96a5eabe",
      "execution_count": 454,
      "outputs": []
    },
    {
      "cell_type": "markdown",
      "metadata": {
        "id": "inQ_5VAn06WW"
      },
      "source": [
        "Remove following features due to high corelation"
      ],
      "id": "inQ_5VAn06WW"
    },
    {
      "cell_type": "code",
      "metadata": {
        "id": "X3gY9WBO0ANT"
      },
      "source": [
        "train_corr = train_values_drop_name.drop(['extraction_type_group', 'quantity', 'payment', 'quality_group', 'waterpoint_type_group',\n",
        "                                          'source_type'], axis=1)"
      ],
      "id": "X3gY9WBO0ANT",
      "execution_count": 455,
      "outputs": []
    },
    {
      "cell_type": "code",
      "metadata": {
        "execution": {
          "iopub.execute_input": "2021-07-26T12:48:02.098869Z",
          "iopub.status.busy": "2021-07-26T12:48:02.098291Z",
          "iopub.status.idle": "2021-07-26T12:48:02.112397Z",
          "shell.execute_reply": "2021-07-26T12:48:02.112815Z",
          "shell.execute_reply.started": "2021-07-26T11:57:53.466642Z"
        },
        "papermill": {
          "duration": 0.042745,
          "end_time": "2021-07-26T12:48:02.112990",
          "exception": false,
          "start_time": "2021-07-26T12:48:02.070245",
          "status": "completed"
        },
        "tags": [],
        "id": "6a991c55"
      },
      "source": [
        "# preprocess test data\n",
        "test_data[['amount_tsh', 'population', 'num_private', 'gps_height']] = StandardScaler().fit_transform(test_data[['amount_tsh', 'population', 'num_private', 'gps_height']])\n",
        "test_data['construction_year'].replace(to_replace = 0, value = 1959, inplace = True)\n",
        "test_data_ohe = pd.get_dummies(test_data, prefix=[\"public_meeting\", \"permit\"], columns=[\"public_meeting\", \"permit\"], dummy_na=False)\n",
        "\n",
        "\n",
        "test_data_ohe['date_recorded'] =  pd.to_datetime(test_data_ohe['date_recorded'])\n",
        "test_data_ohe['num_days'] = (test_data_ohe['date_recorded'] - pd.Timestamp.now())/np.timedelta64(1, 'D')\n",
        "test_data_ohe['num_days'] = StandardScaler().fit_transform(test_data_ohe[['num_days']])\n",
        "\n",
        "\n",
        "test_dropped = test_data_ohe.drop(['extraction_type_group', 'quantity', 'payment', 'quality_group', 'waterpoint_type_group', 'source_type', \n",
        "                                   'recorded_by', 'id', 'region', 'date_recorded', 'wpt_name'], axis=1)\n",
        "\n",
        "grouped = test_dropped.groupby(\"district_code\")\n",
        "mean_longitude = grouped.longitude.transform(replaceLongitude)\n",
        "mean_latitude = grouped.latitude.transform(replaceLatitude)\n",
        "\n",
        "test_dropped.longitude = mean_longitude\n",
        "test_dropped.latitude = mean_latitude"
      ],
      "id": "6a991c55",
      "execution_count": 456,
      "outputs": []
    },
    {
      "cell_type": "code",
      "metadata": {
        "colab": {
          "base_uri": "https://localhost:8080/"
        },
        "id": "oPs445L3Jlwx",
        "outputId": "62f5a190-8490-46c8-fb7b-7a7ace537f22"
      },
      "source": [
        "test_dropped.shape"
      ],
      "id": "oPs445L3Jlwx",
      "execution_count": 457,
      "outputs": [
        {
          "output_type": "execute_result",
          "data": {
            "text/plain": [
              "(14850, 32)"
            ]
          },
          "metadata": {},
          "execution_count": 457
        }
      ]
    },
    {
      "cell_type": "code",
      "metadata": {
        "execution": {
          "iopub.execute_input": "2021-07-26T12:48:02.167425Z",
          "iopub.status.busy": "2021-07-26T12:48:02.166838Z",
          "iopub.status.idle": "2021-07-26T12:48:02.171733Z",
          "shell.execute_reply": "2021-07-26T12:48:02.172110Z",
          "shell.execute_reply.started": "2021-07-26T11:57:53.495167Z"
        },
        "papermill": {
          "duration": 0.033419,
          "end_time": "2021-07-26T12:48:02.172262",
          "exception": false,
          "start_time": "2021-07-26T12:48:02.138843",
          "status": "completed"
        },
        "tags": [],
        "id": "a51810fe",
        "colab": {
          "base_uri": "https://localhost:8080/"
        },
        "outputId": "f572e038-47bc-4afa-9887-5d13b48221f8"
      },
      "source": [
        "# test-train split\n",
        "X_train, X_test, Y_train, Y_test = train_test_split(train_corr, train_labels.status_group, test_size=0.2, random_state=23)\n",
        "\n",
        "print(X_train.shape, X_test.shape)"
      ],
      "id": "a51810fe",
      "execution_count": 458,
      "outputs": [
        {
          "output_type": "stream",
          "text": [
            "(47520, 32) (11880, 32)\n"
          ],
          "name": "stdout"
        }
      ]
    },
    {
      "cell_type": "markdown",
      "metadata": {
        "id": "oKrjeGJK1Q_M"
      },
      "source": [
        "Hyper parameter tuning"
      ],
      "id": "oKrjeGJK1Q_M"
    },
    {
      "cell_type": "code",
      "metadata": {
        "execution": {
          "iopub.execute_input": "2021-07-26T12:48:02.231132Z",
          "iopub.status.busy": "2021-07-26T12:48:02.230658Z",
          "iopub.status.idle": "2021-07-26T12:48:02.233912Z",
          "shell.execute_reply": "2021-07-26T12:48:02.233459Z",
          "shell.execute_reply.started": "2021-07-26T11:57:53.515428Z"
        },
        "papermill": {
          "duration": 0.036086,
          "end_time": "2021-07-26T12:48:02.234027",
          "exception": false,
          "start_time": "2021-07-26T12:48:02.197941",
          "status": "completed"
        },
        "tags": [],
        "id": "d0352eb2"
      },
      "source": [
        "# GridSearch for random forest classifier\n",
        "param_grid = {\n",
        "    # 'bootstrap': [True],\n",
        "    'criterion': ['gini'],\n",
        "    # 'max_depth': [None],\n",
        "    # 'max_features': [None],\n",
        "    # 'min_samples_leaf': [1],\n",
        "    'min_samples_split': [10],\n",
        "    # 'max_samples': [None],\n",
        "    'n_estimators': [800],\n",
        "}\n",
        "num_folds = 10\n",
        "\n",
        "# Create a base model\n",
        "rf = RandomForestClassifier()\n",
        "# Instantiate the grid search model\n",
        "grid_search = GridSearchCV(estimator = rf, param_grid = param_grid, cv = num_folds, verbose = 4)"
      ],
      "id": "d0352eb2",
      "execution_count": 459,
      "outputs": []
    },
    {
      "cell_type": "markdown",
      "metadata": {
        "id": "WtvHv7Bg1jLp"
      },
      "source": [
        "Train and select best model"
      ],
      "id": "WtvHv7Bg1jLp"
    },
    {
      "cell_type": "code",
      "metadata": {
        "execution": {
          "iopub.execute_input": "2021-07-26T12:48:02.291665Z",
          "iopub.status.busy": "2021-07-26T12:48:02.291080Z",
          "iopub.status.idle": "2021-07-26T12:48:22.632647Z",
          "shell.execute_reply": "2021-07-26T12:48:22.632153Z",
          "shell.execute_reply.started": "2021-07-26T11:57:53.555551Z"
        },
        "papermill": {
          "duration": 20.372591,
          "end_time": "2021-07-26T12:48:22.632756",
          "exception": false,
          "start_time": "2021-07-26T12:48:02.260165",
          "status": "completed"
        },
        "tags": [],
        "id": "d30449d7",
        "colab": {
          "base_uri": "https://localhost:8080/"
        },
        "outputId": "087929d5-6dc4-4059-8e12-152cb0f1bd75"
      },
      "source": [
        "# grid_search.fit(X_train, Y_train)\n",
        "grid_search.fit(train_corr, train_labels.status_group)     # for submission\n",
        "grid_search.best_params_"
      ],
      "id": "d30449d7",
      "execution_count": 460,
      "outputs": [
        {
          "output_type": "stream",
          "text": [
            "Fitting 10 folds for each of 1 candidates, totalling 10 fits\n",
            "[CV] criterion=gini, min_samples_split=10, n_estimators=800 ..........\n"
          ],
          "name": "stdout"
        },
        {
          "output_type": "stream",
          "text": [
            "[Parallel(n_jobs=1)]: Using backend SequentialBackend with 1 concurrent workers.\n"
          ],
          "name": "stderr"
        },
        {
          "output_type": "stream",
          "text": [
            "[CV]  criterion=gini, min_samples_split=10, n_estimators=800, score=0.821, total= 1.3min\n",
            "[CV] criterion=gini, min_samples_split=10, n_estimators=800 ..........\n"
          ],
          "name": "stdout"
        },
        {
          "output_type": "stream",
          "text": [
            "[Parallel(n_jobs=1)]: Done   1 out of   1 | elapsed:  1.3min remaining:    0.0s\n"
          ],
          "name": "stderr"
        },
        {
          "output_type": "stream",
          "text": [
            "[CV]  criterion=gini, min_samples_split=10, n_estimators=800, score=0.825, total= 1.3min\n",
            "[CV] criterion=gini, min_samples_split=10, n_estimators=800 ..........\n"
          ],
          "name": "stdout"
        },
        {
          "output_type": "stream",
          "text": [
            "[Parallel(n_jobs=1)]: Done   2 out of   2 | elapsed:  2.6min remaining:    0.0s\n"
          ],
          "name": "stderr"
        },
        {
          "output_type": "stream",
          "text": [
            "[CV]  criterion=gini, min_samples_split=10, n_estimators=800, score=0.817, total= 1.3min\n",
            "[CV] criterion=gini, min_samples_split=10, n_estimators=800 ..........\n"
          ],
          "name": "stdout"
        },
        {
          "output_type": "stream",
          "text": [
            "[Parallel(n_jobs=1)]: Done   3 out of   3 | elapsed:  3.9min remaining:    0.0s\n"
          ],
          "name": "stderr"
        },
        {
          "output_type": "stream",
          "text": [
            "[CV]  criterion=gini, min_samples_split=10, n_estimators=800, score=0.815, total= 1.3min\n",
            "[CV] criterion=gini, min_samples_split=10, n_estimators=800 ..........\n",
            "[CV]  criterion=gini, min_samples_split=10, n_estimators=800, score=0.827, total= 1.3min\n",
            "[CV] criterion=gini, min_samples_split=10, n_estimators=800 ..........\n",
            "[CV]  criterion=gini, min_samples_split=10, n_estimators=800, score=0.812, total= 1.3min\n",
            "[CV] criterion=gini, min_samples_split=10, n_estimators=800 ..........\n",
            "[CV]  criterion=gini, min_samples_split=10, n_estimators=800, score=0.822, total= 1.3min\n",
            "[CV] criterion=gini, min_samples_split=10, n_estimators=800 ..........\n",
            "[CV]  criterion=gini, min_samples_split=10, n_estimators=800, score=0.813, total= 1.3min\n",
            "[CV] criterion=gini, min_samples_split=10, n_estimators=800 ..........\n",
            "[CV]  criterion=gini, min_samples_split=10, n_estimators=800, score=0.813, total= 1.3min\n",
            "[CV] criterion=gini, min_samples_split=10, n_estimators=800 ..........\n",
            "[CV]  criterion=gini, min_samples_split=10, n_estimators=800, score=0.822, total= 1.3min\n"
          ],
          "name": "stdout"
        },
        {
          "output_type": "stream",
          "text": [
            "[Parallel(n_jobs=1)]: Done  10 out of  10 | elapsed: 13.1min finished\n"
          ],
          "name": "stderr"
        },
        {
          "output_type": "execute_result",
          "data": {
            "text/plain": [
              "{'criterion': 'gini', 'min_samples_split': 10, 'n_estimators': 800}"
            ]
          },
          "metadata": {},
          "execution_count": 460
        }
      ]
    },
    {
      "cell_type": "code",
      "metadata": {
        "execution": {
          "iopub.execute_input": "2021-07-26T12:48:22.692902Z",
          "iopub.status.busy": "2021-07-26T12:48:22.692387Z",
          "iopub.status.idle": "2021-07-26T12:48:22.696291Z",
          "shell.execute_reply": "2021-07-26T12:48:22.695795Z",
          "shell.execute_reply.started": "2021-07-26T11:58:18.357208Z"
        },
        "papermill": {
          "duration": 0.036322,
          "end_time": "2021-07-26T12:48:22.696429",
          "exception": false,
          "start_time": "2021-07-26T12:48:22.660107",
          "status": "completed"
        },
        "tags": [],
        "id": "1614e745"
      },
      "source": [
        "model = grid_search.best_estimator_"
      ],
      "id": "1614e745",
      "execution_count": 461,
      "outputs": []
    },
    {
      "cell_type": "markdown",
      "metadata": {
        "id": "Ib_Uzc2-1uTB"
      },
      "source": [
        "Predict using selected model"
      ],
      "id": "Ib_Uzc2-1uTB"
    },
    {
      "cell_type": "code",
      "metadata": {
        "id": "EbfPUeorBufE"
      },
      "source": [
        "y_pred = model.predict(X_test)"
      ],
      "id": "EbfPUeorBufE",
      "execution_count": 462,
      "outputs": []
    },
    {
      "cell_type": "markdown",
      "metadata": {
        "id": "ZbKj-NYn1w5n"
      },
      "source": [
        "Evaluation"
      ],
      "id": "ZbKj-NYn1w5n"
    },
    {
      "cell_type": "code",
      "metadata": {
        "id": "vPiRy1kwDoke",
        "colab": {
          "base_uri": "https://localhost:8080/"
        },
        "outputId": "83c9d73d-a2c6-47a5-aec2-93ba27c96aeb"
      },
      "source": [
        "accuracy = accuracy_score(Y_test, y_pred)\n",
        "print('Accuracy:', accuracy)\n",
        "print('\\nPredicted Labels')\n",
        "print('functional','functional_needs_repair','non_functional')\n",
        "print(confusion_matrix(Y_test,y_pred, normalize='true', labels=['functional','functional needs repair','non functional']))"
      ],
      "id": "vPiRy1kwDoke",
      "execution_count": 463,
      "outputs": [
        {
          "output_type": "stream",
          "text": [
            "Accuracy: 0.9191919191919192\n",
            "\n",
            "Predicted Labels\n",
            "functional functional_needs_repair non_functional\n",
            "[[0.97667638 0.00398957 0.01933405]\n",
            " [0.36117647 0.53176471 0.10705882]\n",
            " [0.08397961 0.00686904 0.90915134]]\n"
          ],
          "name": "stdout"
        }
      ]
    },
    {
      "cell_type": "markdown",
      "metadata": {
        "id": "Fht7c6U21y3I"
      },
      "source": [
        "Save predictions for test set"
      ],
      "id": "Fht7c6U21y3I"
    },
    {
      "cell_type": "code",
      "metadata": {
        "execution": {
          "iopub.execute_input": "2021-07-26T12:48:24.621772Z",
          "iopub.status.busy": "2021-07-26T12:48:24.621113Z",
          "iopub.status.idle": "2021-07-26T12:48:24.639445Z",
          "shell.execute_reply": "2021-07-26T12:48:24.638818Z",
          "shell.execute_reply.started": "2021-07-26T11:59:25.119721Z"
        },
        "papermill": {
          "duration": 0.068383,
          "end_time": "2021-07-26T12:48:24.639586",
          "exception": false,
          "start_time": "2021-07-26T12:48:24.571203",
          "status": "completed"
        },
        "tags": [],
        "id": "81942396"
      },
      "source": [
        "y_pred = model.predict(test_dropped)\n",
        "results = pd.DataFrame()\n",
        "results[\"id\"] = test_data.id\n",
        "results[\"status_group\"] = y_pred\n",
        "results.to_csv('output4.csv', index=False)"
      ],
      "id": "81942396",
      "execution_count": 464,
      "outputs": []
    }
  ]
}