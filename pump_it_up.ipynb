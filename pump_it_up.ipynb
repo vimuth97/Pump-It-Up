{
  "nbformat": 4,
  "nbformat_minor": 5,
  "metadata": {
    "kernelspec": {
      "display_name": "Python 3",
      "language": "python",
      "name": "python3"
    },
    "language_info": {
      "codemirror_mode": {
        "name": "ipython",
        "version": 3
      },
      "file_extension": ".py",
      "mimetype": "text/x-python",
      "name": "python",
      "nbconvert_exporter": "python",
      "pygments_lexer": "ipython3",
      "version": "3.7.10"
    },
    "papermill": {
      "default_parameters": {},
      "duration": 37.815346,
      "end_time": "2021-07-26T12:48:25.692702",
      "environment_variables": {},
      "exception": null,
      "input_path": "__notebook__.ipynb",
      "output_path": "__notebook__.ipynb",
      "parameters": {},
      "start_time": "2021-07-26T12:47:47.877356",
      "version": "2.3.3"
    },
    "colab": {
      "name": "pump it up.ipynb",
      "provenance": [],
      "collapsed_sections": [],
      "include_colab_link": true
    }
  },
  "cells": [
    {
      "cell_type": "markdown",
      "metadata": {
        "id": "view-in-github",
        "colab_type": "text"
      },
      "source": [
        "<a href=\"https://colab.research.google.com/github/vimuth97/Pump-It-Up/blob/main/pump_it_up.ipynb\" target=\"_parent\"><img src=\"https://colab.research.google.com/assets/colab-badge.svg\" alt=\"Open In Colab\"/></a>"
      ]
    },
    {
      "cell_type": "code",
      "metadata": {
        "colab": {
          "base_uri": "https://localhost:8080/"
        },
        "id": "CzoTdF1U2_Un",
        "outputId": "dd516fcb-09f4-45ba-f10e-600f978a34fa"
      },
      "source": [
        "from google.colab import drive\n",
        "drive.mount('/content/drive')"
      ],
      "id": "CzoTdF1U2_Un",
      "execution_count": 532,
      "outputs": [
        {
          "output_type": "stream",
          "text": [
            "Drive already mounted at /content/drive; to attempt to forcibly remount, call drive.mount(\"/content/drive\", force_remount=True).\n"
          ],
          "name": "stdout"
        }
      ]
    },
    {
      "cell_type": "code",
      "metadata": {
        "_cell_guid": "b1076dfc-b9ad-4769-8c92-a6c4dae69d19",
        "_uuid": "8f2839f25d086af736a60e9eeb907d3b93b6e0e5",
        "execution": {
          "iopub.execute_input": "2021-07-26T12:47:57.460704Z",
          "iopub.status.busy": "2021-07-26T12:47:57.459545Z",
          "iopub.status.idle": "2021-07-26T12:47:59.205812Z",
          "shell.execute_reply": "2021-07-26T12:47:59.204832Z",
          "shell.execute_reply.started": "2021-07-26T11:57:45.192703Z"
        },
        "papermill": {
          "duration": 1.780835,
          "end_time": "2021-07-26T12:47:59.205987",
          "exception": false,
          "start_time": "2021-07-26T12:47:57.425152",
          "status": "completed"
        },
        "tags": [],
        "id": "3172835a"
      },
      "source": [
        "import numpy as np # linear algebra\n",
        "import pandas as pd # data processing, CSV file I/O (e.g. pd.read_csv)\n",
        "from sklearn.preprocessing import OneHotEncoder\n",
        "import os\n",
        "from sklearn.impute import SimpleImputer\n",
        "from sklearn.model_selection import train_test_split\n",
        "from sklearn.ensemble import RandomForestClassifier\n",
        "from sklearn.metrics import classification_report, confusion_matrix, accuracy_score, f1_score\n",
        "from sklearn.feature_selection import mutual_info_classif\n",
        "import matplotlib.pyplot as plt\n",
        "import seaborn as sns\n",
        "from sklearn.model_selection import GridSearchCV\n",
        "from sklearn.model_selection import cross_validate\n",
        "from sklearn.preprocessing import StandardScaler\n",
        "\n",
        "\n",
        "# for dirname, _, filenames in os.walk('/content/drive'):\n",
        "#     for filename in filenames:\n",
        "#       print(os.path.join(dirname, filename))\n",
        "\n",
        "train_values = pd.read_csv(\"/content/drive/MyDrive/Pump it up/training values.csv\")\n",
        "train_labels = pd.read_csv(\"/content/drive/MyDrive/Pump it up/training labels.csv\")\n",
        "# test_data = pd.read_csv(\"/content/drive/MyDrive/Pump it up/test set.csv\")"
      ],
      "id": "3172835a",
      "execution_count": 533,
      "outputs": []
    },
    {
      "cell_type": "code",
      "metadata": {
        "id": "SUIsJty04gFY",
        "colab": {
          "base_uri": "https://localhost:8080/",
          "height": 204
        },
        "outputId": "bb46d4ae-4937-43da-c960-0f960c6adce1"
      },
      "source": [
        "train_labels.head()"
      ],
      "id": "SUIsJty04gFY",
      "execution_count": 534,
      "outputs": [
        {
          "output_type": "execute_result",
          "data": {
            "text/html": [
              "<div>\n",
              "<style scoped>\n",
              "    .dataframe tbody tr th:only-of-type {\n",
              "        vertical-align: middle;\n",
              "    }\n",
              "\n",
              "    .dataframe tbody tr th {\n",
              "        vertical-align: top;\n",
              "    }\n",
              "\n",
              "    .dataframe thead th {\n",
              "        text-align: right;\n",
              "    }\n",
              "</style>\n",
              "<table border=\"1\" class=\"dataframe\">\n",
              "  <thead>\n",
              "    <tr style=\"text-align: right;\">\n",
              "      <th></th>\n",
              "      <th>id</th>\n",
              "      <th>status_group</th>\n",
              "    </tr>\n",
              "  </thead>\n",
              "  <tbody>\n",
              "    <tr>\n",
              "      <th>0</th>\n",
              "      <td>69572</td>\n",
              "      <td>functional</td>\n",
              "    </tr>\n",
              "    <tr>\n",
              "      <th>1</th>\n",
              "      <td>8776</td>\n",
              "      <td>functional</td>\n",
              "    </tr>\n",
              "    <tr>\n",
              "      <th>2</th>\n",
              "      <td>34310</td>\n",
              "      <td>functional</td>\n",
              "    </tr>\n",
              "    <tr>\n",
              "      <th>3</th>\n",
              "      <td>67743</td>\n",
              "      <td>non functional</td>\n",
              "    </tr>\n",
              "    <tr>\n",
              "      <th>4</th>\n",
              "      <td>19728</td>\n",
              "      <td>functional</td>\n",
              "    </tr>\n",
              "  </tbody>\n",
              "</table>\n",
              "</div>"
            ],
            "text/plain": [
              "      id    status_group\n",
              "0  69572      functional\n",
              "1   8776      functional\n",
              "2  34310      functional\n",
              "3  67743  non functional\n",
              "4  19728      functional"
            ]
          },
          "metadata": {},
          "execution_count": 534
        }
      ]
    },
    {
      "cell_type": "code",
      "metadata": {
        "colab": {
          "base_uri": "https://localhost:8080/"
        },
        "id": "erZjnAz37wCT",
        "outputId": "aa4580d3-e97a-4c11-b1f0-fce196b824ed"
      },
      "source": [
        "train_values.shape"
      ],
      "id": "erZjnAz37wCT",
      "execution_count": 535,
      "outputs": [
        {
          "output_type": "execute_result",
          "data": {
            "text/plain": [
              "(59400, 40)"
            ]
          },
          "metadata": {},
          "execution_count": 535
        }
      ]
    },
    {
      "cell_type": "markdown",
      "metadata": {
        "papermill": {
          "duration": 0.030615,
          "end_time": "2021-07-26T12:47:59.368788",
          "exception": false,
          "start_time": "2021-07-26T12:47:59.338173",
          "status": "completed"
        },
        "tags": [],
        "id": "906ef0bb"
      },
      "source": [
        "Checking whether the dataset is balanced or not"
      ],
      "id": "906ef0bb"
    },
    {
      "cell_type": "code",
      "metadata": {
        "execution": {
          "iopub.execute_input": "2021-07-26T12:47:59.440234Z",
          "iopub.status.busy": "2021-07-26T12:47:59.439609Z",
          "iopub.status.idle": "2021-07-26T12:47:59.464981Z",
          "shell.execute_reply": "2021-07-26T12:47:59.465518Z",
          "shell.execute_reply.started": "2021-07-26T12:37:00.191404Z"
        },
        "papermill": {
          "duration": 0.06636,
          "end_time": "2021-07-26T12:47:59.465699",
          "exception": false,
          "start_time": "2021-07-26T12:47:59.399339",
          "status": "completed"
        },
        "tags": [],
        "id": "a0660645",
        "colab": {
          "base_uri": "https://localhost:8080/"
        },
        "outputId": "9242b35b-a8ac-414a-a658-75821caaec4f"
      },
      "source": [
        "print(train_labels['status_group'].value_counts())"
      ],
      "id": "a0660645",
      "execution_count": 536,
      "outputs": [
        {
          "output_type": "stream",
          "text": [
            "functional                 32259\n",
            "non functional             22824\n",
            "functional needs repair     4317\n",
            "Name: status_group, dtype: int64\n"
          ],
          "name": "stdout"
        }
      ]
    },
    {
      "cell_type": "code",
      "metadata": {
        "execution": {
          "iopub.execute_input": "2021-07-26T12:47:59.538885Z",
          "iopub.status.busy": "2021-07-26T12:47:59.538209Z",
          "iopub.status.idle": "2021-07-26T12:47:59.542640Z",
          "shell.execute_reply": "2021-07-26T12:47:59.542232Z",
          "shell.execute_reply.started": "2021-07-26T11:57:45.285995Z"
        },
        "papermill": {
          "duration": 0.044979,
          "end_time": "2021-07-26T12:47:59.542748",
          "exception": false,
          "start_time": "2021-07-26T12:47:59.497769",
          "status": "completed"
        },
        "tags": [],
        "id": "74656e9c",
        "colab": {
          "base_uri": "https://localhost:8080/"
        },
        "outputId": "d167166d-95e8-4893-8eb8-ef07847d2013"
      },
      "source": [
        "train_values.isnull().sum().sort_values(ascending = False)"
      ],
      "id": "74656e9c",
      "execution_count": 537,
      "outputs": [
        {
          "output_type": "execute_result",
          "data": {
            "text/plain": [
              "scheme_name              28166\n",
              "scheme_management         3877\n",
              "installer                 3655\n",
              "funder                    3635\n",
              "public_meeting            3334\n",
              "permit                    3056\n",
              "subvillage                 371\n",
              "ward                         0\n",
              "lga                          0\n",
              "district_code                0\n",
              "region_code                  0\n",
              "region                       0\n",
              "waterpoint_type_group        0\n",
              "population                   0\n",
              "num_private                  0\n",
              "wpt_name                     0\n",
              "latitude                     0\n",
              "longitude                    0\n",
              "gps_height                   0\n",
              "date_recorded                0\n",
              "amount_tsh                   0\n",
              "basin                        0\n",
              "recorded_by                  0\n",
              "waterpoint_type              0\n",
              "water_quality                0\n",
              "source_class                 0\n",
              "source_type                  0\n",
              "source                       0\n",
              "quantity_group               0\n",
              "quantity                     0\n",
              "quality_group                0\n",
              "payment_type                 0\n",
              "construction_year            0\n",
              "payment                      0\n",
              "management_group             0\n",
              "management                   0\n",
              "extraction_type_class        0\n",
              "extraction_type_group        0\n",
              "extraction_type              0\n",
              "id                           0\n",
              "dtype: int64"
            ]
          },
          "metadata": {},
          "execution_count": 537
        }
      ]
    },
    {
      "cell_type": "code",
      "metadata": {
        "colab": {
          "base_uri": "https://localhost:8080/"
        },
        "id": "xKcMOkfKvrbM",
        "outputId": "9a705b8f-6805-4b15-a392-86add9826d91"
      },
      "source": [
        "amount = train_values['amount_tsh']\n",
        "print(amount.max())\n",
        "print(amount.min())"
      ],
      "id": "xKcMOkfKvrbM",
      "execution_count": 538,
      "outputs": [
        {
          "output_type": "stream",
          "text": [
            "350000.0\n",
            "0.0\n"
          ],
          "name": "stdout"
        }
      ]
    },
    {
      "cell_type": "markdown",
      "metadata": {
        "id": "xIbu0BoaxtSS"
      },
      "source": [
        "Standardise `amount_tsh`, `population` because they have a large ranges and may contain outliers.\n",
        "However tree based classifiers does not require standardisation "
      ],
      "id": "xIbu0BoaxtSS"
    },
    {
      "cell_type": "code",
      "metadata": {
        "colab": {
          "base_uri": "https://localhost:8080/"
        },
        "id": "mT4w07yMxMCN",
        "outputId": "46206c6f-7bce-4a1b-a9d5-d50e2a3ca0b4"
      },
      "source": [
        "train_values[['amount_tsh', 'population', 'num_private', 'gps_height']] = StandardScaler().fit_transform(train_values[['amount_tsh', 'population', 'num_private', 'gps_height']])\n",
        "print(train_values[['amount_tsh', 'population', 'num_private', 'gps_height']])"
      ],
      "id": "mT4w07yMxMCN",
      "execution_count": 539,
      "outputs": [
        {
          "output_type": "stream",
          "text": [
            "       amount_tsh  population  num_private  gps_height\n",
            "0        1.895665   -0.150399    -0.038749    1.041252\n",
            "1       -0.105970    0.212290    -0.038749    1.054237\n",
            "2       -0.097630    0.148660    -0.038749    0.025541\n",
            "3       -0.105970   -0.258570    -0.038749   -0.584751\n",
            "4       -0.105970   -0.381587    -0.038749   -0.964200\n",
            "...           ...         ...          ...         ...\n",
            "59395   -0.102634   -0.116463    -0.038749    0.781553\n",
            "59396    1.461977   -0.262812    -0.038749    0.784439\n",
            "59397   -0.105970   -0.381587    -0.038749   -0.964200\n",
            "59398   -0.105970   -0.381587    -0.038749   -0.964200\n",
            "59399   -0.105970   -0.063439    -0.038749   -0.688631\n",
            "\n",
            "[59400 rows x 4 columns]\n"
          ],
          "name": "stdout"
        }
      ]
    },
    {
      "cell_type": "markdown",
      "metadata": {
        "id": "ruwrSZHI5jMu"
      },
      "source": [
        "**Onehot encoding**"
      ],
      "id": "ruwrSZHI5jMu"
    },
    {
      "cell_type": "code",
      "metadata": {
        "colab": {
          "base_uri": "https://localhost:8080/"
        },
        "id": "Pv-nYw_c5hI-",
        "outputId": "b53505a9-13b6-4b31-c9cd-84ebfabd4de9"
      },
      "source": [
        "train_values_ohe = pd.get_dummies(train_values, prefix=[\"public_meeting\", \"permit\"], columns=[\"public_meeting\", \"permit\"], dummy_na=False)\n",
        "# ohe_2 = pd.get_dummies(train_values.permit, prefix=\"permit\")\n",
        "train_values_ohe.shape"
      ],
      "id": "Pv-nYw_c5hI-",
      "execution_count": 540,
      "outputs": [
        {
          "output_type": "execute_result",
          "data": {
            "text/plain": [
              "(59400, 42)"
            ]
          },
          "metadata": {},
          "execution_count": 540
        }
      ]
    },
    {
      "cell_type": "markdown",
      "metadata": {
        "id": "AMps96OZzETb"
      },
      "source": [
        " Remove `region` feature because `region_code` provide coded version of same information"
      ],
      "id": "AMps96OZzETb"
    },
    {
      "cell_type": "code",
      "metadata": {
        "id": "bzG3XvuPyuAi"
      },
      "source": [
        "train_values_drop_region = train_values_ohe.drop(['region'], axis=1)"
      ],
      "id": "bzG3XvuPyuAi",
      "execution_count": 541,
      "outputs": []
    },
    {
      "cell_type": "markdown",
      "metadata": {
        "id": "JJMOALid7oV_"
      },
      "source": [
        "Pre-process `longitude` and `gps_height` by replacing 0 with mean value of each district.\n",
        "In the dataset region>district>subvillage but subvillage has `na` values hence district is chosen to calculate the mean"
      ],
      "id": "JJMOALid7oV_"
    },
    {
      "cell_type": "code",
      "metadata": {
        "colab": {
          "base_uri": "https://localhost:8080/"
        },
        "id": "feY5j1GdHf_s",
        "outputId": "46ec229d-3681-4ea1-fa4a-0ce9ea2ab7b2"
      },
      "source": [
        "print(\"minimum longitude\", train_values_drop_region.longitude.min())\n",
        "print(\"number of unavailable latitudes\", len(train_values_drop_region[(train_values_drop_region['latitude']==-0.00000002)]))"
      ],
      "id": "feY5j1GdHf_s",
      "execution_count": 542,
      "outputs": [
        {
          "output_type": "stream",
          "text": [
            "minimum longitude 0.0\n",
            "number of unavailable latitudes 1812\n"
          ],
          "name": "stdout"
        }
      ]
    },
    {
      "cell_type": "code",
      "metadata": {
        "id": "6d3uQhsl77a3"
      },
      "source": [
        "grouped = train_values_drop_region.groupby(\"district_code\")\n",
        "\n",
        "def replaceLongitude(group):\n",
        "  mask = group==0\n",
        "  group[mask] = group[~mask].mean()\n",
        "  return group\n",
        "\n",
        "def replaceLatitude(group):\n",
        "  mask = group==-0.00000002\n",
        "  group[mask] = group[~mask].mean()\n",
        "  return group\n",
        "\n",
        "mean_longitude = grouped.longitude.transform(replaceLongitude)\n",
        "mean_latitude = grouped.latitude.transform(replaceLatitude)\n",
        "\n",
        "train_values_drop_region.longitude = mean_longitude\n",
        "train_values_drop_region.latitude = mean_latitude"
      ],
      "id": "6d3uQhsl77a3",
      "execution_count": 543,
      "outputs": []
    },
    {
      "cell_type": "code",
      "metadata": {
        "colab": {
          "base_uri": "https://localhost:8080/"
        },
        "id": "OJ8U0aNp_gHZ",
        "outputId": "806e579d-be1f-4dda-aec6-8d2c4397f690"
      },
      "source": [
        "#check for correctness of above process\n",
        "print(\"minimum longitude:\", train_values_drop_region.longitude.min()) \n",
        "print(\"number of unavailable latitudes:\", len(train_values_drop_region[(train_values_drop_region['latitude']==-0.00000002)]))"
      ],
      "id": "OJ8U0aNp_gHZ",
      "execution_count": 544,
      "outputs": [
        {
          "output_type": "stream",
          "text": [
            "minimum longitude: 29.6071219\n",
            "number of unavailable latitudes: 0\n"
          ],
          "name": "stdout"
        }
      ]
    },
    {
      "cell_type": "code",
      "metadata": {
        "colab": {
          "base_uri": "https://localhost:8080/"
        },
        "id": "jua3oQ7lRAJ8",
        "outputId": "2f080ad4-5028-4d44-e61f-2a55e5062baa"
      },
      "source": [
        "print(train_values_drop_region.shape)"
      ],
      "id": "jua3oQ7lRAJ8",
      "execution_count": 545,
      "outputs": [
        {
          "output_type": "stream",
          "text": [
            "(59400, 41)\n"
          ],
          "name": "stdout"
        }
      ]
    },
    {
      "cell_type": "markdown",
      "metadata": {
        "id": "C6yAydF5QNVc"
      },
      "source": [
        "Preprocess `date_recorded` feature"
      ],
      "id": "C6yAydF5QNVc"
    },
    {
      "cell_type": "code",
      "metadata": {
        "colab": {
          "base_uri": "https://localhost:8080/"
        },
        "id": "p84y6h0D4wwM",
        "outputId": "e6dc26de-fa2e-40a4-e222-c558781fdf3f"
      },
      "source": [
        "train_values_drop_region['date_recorded'] =  pd.to_datetime(train_values['date_recorded'])\n",
        "train_values_drop_region['num_days'] = (train_values_drop_region['date_recorded'] - pd.Timestamp.now())/np.timedelta64(1, 'D')\n",
        "train_values_drop_region['num_days'] = StandardScaler().fit_transform(train_values_drop_region[['num_days']])\n",
        "train_values_drop_date = train_values_drop_region.drop(['date_recorded'], axis=1)\n",
        "print(train_values_drop_date.shape,'\\n',train_values_drop_date['num_days'])"
      ],
      "id": "p84y6h0D4wwM",
      "execution_count": 546,
      "outputs": [
        {
          "output_type": "stream",
          "text": [
            "(59400, 41) \n",
            " 0       -1.141136\n",
            "1        1.022152\n",
            "2        0.995223\n",
            "3        0.911444\n",
            "4       -0.779092\n",
            "           ...   \n",
            "59395    1.195693\n",
            "59396   -0.979562\n",
            "59397   -1.057357\n",
            "59398   -1.159088\n",
            "59399   -1.114207\n",
            "Name: num_days, Length: 59400, dtype: float64\n"
          ],
          "name": "stdout"
        }
      ]
    },
    {
      "cell_type": "code",
      "metadata": {
        "colab": {
          "base_uri": "https://localhost:8080/"
        },
        "id": "7dm7REIGaHzR",
        "outputId": "496b6249-bce0-49f6-a23d-b284bcd603c3"
      },
      "source": [
        "print(train_values_drop_date.funder.value_counts())\n",
        "print(train_values_drop_date.scheme_name.value_counts())"
      ],
      "id": "7dm7REIGaHzR",
      "execution_count": 547,
      "outputs": [
        {
          "output_type": "stream",
          "text": [
            "Government Of Tanzania      9084\n",
            "Danida                      3114\n",
            "Hesawa                      2202\n",
            "Rwssp                       1374\n",
            "World Bank                  1349\n",
            "                            ... \n",
            "Eung-am Methodist Church       1\n",
            "Said Salum Ally                1\n",
            "Siza Mayengo                   1\n",
            "Jwtz                           1\n",
            "Rc Missi                       1\n",
            "Name: funder, Length: 1897, dtype: int64\n",
            "K                        682\n",
            "None                     644\n",
            "Borehole                 546\n",
            "Chalinze wate            405\n",
            "M                        400\n",
            "                        ... \n",
            "Kasahunga pipe scheme      1\n",
            "Mnazi moja                 1\n",
            "Shallow Welll              1\n",
            "BL Majengo                 1\n",
            "REGWA                      1\n",
            "Name: scheme_name, Length: 2696, dtype: int64\n"
          ],
          "name": "stdout"
        }
      ]
    },
    {
      "cell_type": "code",
      "metadata": {
        "execution": {
          "iopub.execute_input": "2021-07-26T12:47:59.279061Z",
          "iopub.status.busy": "2021-07-26T12:47:59.277382Z",
          "iopub.status.idle": "2021-07-26T12:47:59.306803Z",
          "shell.execute_reply": "2021-07-26T12:47:59.306221Z",
          "shell.execute_reply.started": "2021-07-26T11:57:45.231495Z"
        },
        "papermill": {
          "duration": 0.069076,
          "end_time": "2021-07-26T12:47:59.306942",
          "exception": false,
          "start_time": "2021-07-26T12:47:59.237866",
          "status": "completed"
        },
        "tags": [],
        "id": "624059b4",
        "colab": {
          "base_uri": "https://localhost:8080/"
        },
        "outputId": "22fa4f54-7dee-4873-f12c-e52a352e7ade"
      },
      "source": [
        "encoded_features = ['id','latitude','longitude','gps_height','date_recorded','amount_tsh','num_private',\n",
        "                    'region_code','district_code','population','public_meeting','construction_year','permit',\n",
        "                    'num_days','public_meeting_False','public_meeting_True','permit_False','permit_True','installer','wpt_name','subvillage']\n",
        "limit = int(train_values_drop_date.shape[0]*0.03/100)\n",
        "\n",
        "for column in train_values_drop_date.columns:\n",
        "  if column not in encoded_features:\n",
        "    feature_values=train_values_drop_date[column].value_counts()\n",
        "    rare_features=feature_values[feature_values < limit]\n",
        "    train_values_drop_date[column].replace(to_replace = list(rare_features.keys()), value = 'other', inplace = True)\n",
        "    if ('other' in train_values_drop_date[column].value_counts().index):\n",
        "      print('Changed', train_values_drop_date[column].value_counts()['other'], 'rows to other in column', column)\n",
        "    train_values_drop_date[column], _ = train_values_drop_date[column].factorize(na_sentinel=-1, sort=True)"
      ],
      "id": "624059b4",
      "execution_count": 548,
      "outputs": [
        {
          "output_type": "stream",
          "text": [
            "Changed 4308 rows to other in column funder\n",
            "Changed 1 rows to other in column lga\n",
            "Changed 7739 rows to other in column ward\n",
            "Changed 1 rows to other in column scheme_management\n",
            "Changed 10679 rows to other in column scheme_name\n",
            "Changed 6432 rows to other in column extraction_type\n",
            "Changed 6430 rows to other in column extraction_type_group\n",
            "Changed 6430 rows to other in column extraction_type_class\n",
            "Changed 844 rows to other in column management\n",
            "Changed 943 rows to other in column management_group\n",
            "Changed 1054 rows to other in column payment\n",
            "Changed 1054 rows to other in column payment_type\n",
            "Changed 212 rows to other in column source\n",
            "Changed 278 rows to other in column source_type\n",
            "Changed 6387 rows to other in column waterpoint_type\n",
            "Changed 6387 rows to other in column waterpoint_type_group\n"
          ],
          "name": "stdout"
        }
      ]
    },
    {
      "cell_type": "code",
      "metadata": {
        "id": "FqCEgf21sGjT"
      },
      "source": [
        "train_values_drop_name = train_values_drop_date.drop(['wpt_name'], axis=1)    #drop 'wpt_name' (name of the waterpoint) due to highcardinality and less relevance to the prediction"
      ],
      "id": "FqCEgf21sGjT",
      "execution_count": 549,
      "outputs": []
    },
    {
      "cell_type": "code",
      "metadata": {
        "id": "5uClrUPzkz4l"
      },
      "source": [
        "train_values_drop_date.head()"
      ],
      "id": "5uClrUPzkz4l",
      "execution_count": null,
      "outputs": []
    },
    {
      "cell_type": "code",
      "metadata": {
        "colab": {
          "base_uri": "https://localhost:8080/"
        },
        "id": "dCKZJTVofXYK",
        "outputId": "32ebf337-4aec-4a76-d176-e59311c4de95"
      },
      "source": [
        "print(train_values_drop_date.wpt_name.value_counts())\n",
        "print(train_values_drop_date.subvillage.value_counts())"
      ],
      "id": "dCKZJTVofXYK",
      "execution_count": 531,
      "outputs": [
        {
          "output_type": "stream",
          "text": [
            "none                   3563\n",
            "Shuleni                1748\n",
            "Zahanati                830\n",
            "Msikitini               535\n",
            "Kanisani                323\n",
            "                       ... \n",
            "Kwa Daniel Mobe           1\n",
            "Kwa Gasper Ngilisho       1\n",
            "Ruocho B                  1\n",
            "Kwa Hazumba               1\n",
            "Kwa Mwikwa                1\n",
            "Name: wpt_name, Length: 37400, dtype: int64\n",
            "Madukani            508\n",
            "Shuleni             506\n",
            "Majengo             502\n",
            "Kati                373\n",
            "Mtakuja             262\n",
            "                   ... \n",
            "Milala B              1\n",
            "Nembora               1\n",
            "Ikambaku              1\n",
            "Nangunguru            1\n",
            "Nyamadoke Center      1\n",
            "Name: subvillage, Length: 19287, dtype: int64\n"
          ],
          "name": "stdout"
        }
      ]
    },
    {
      "cell_type": "code",
      "metadata": {
        "execution": {
          "iopub.execute_input": "2021-07-26T12:47:59.629102Z",
          "iopub.status.busy": "2021-07-26T12:47:59.628538Z",
          "iopub.status.idle": "2021-07-26T12:47:59.638757Z",
          "shell.execute_reply": "2021-07-26T12:47:59.638090Z",
          "shell.execute_reply.started": "2021-07-26T11:57:45.336006Z"
        },
        "papermill": {
          "duration": 0.033565,
          "end_time": "2021-07-26T12:47:59.638898",
          "exception": false,
          "start_time": "2021-07-26T12:47:59.605333",
          "status": "completed"
        },
        "tags": [],
        "id": "700b40b8",
        "outputId": "3db83c44-bb9f-405e-d684-7b277ea59650"
      },
      "source": [
        "tot = train_data.shape[0]\n",
        "train_data.dropna(inplace=True, subset=['Embarked'])    # drop rows with null values for Embarked attribute\n",
        "print(tot - train_data.shape[0], \"rows removed\")"
      ],
      "id": "700b40b8",
      "execution_count": null,
      "outputs": [
        {
          "output_type": "stream",
          "text": [
            "2 rows removed\n"
          ],
          "name": "stdout"
        }
      ]
    },
    {
      "cell_type": "code",
      "metadata": {
        "execution": {
          "iopub.execute_input": "2021-07-26T12:47:59.782062Z",
          "iopub.status.busy": "2021-07-26T12:47:59.781572Z",
          "iopub.status.idle": "2021-07-26T12:48:00.033957Z",
          "shell.execute_reply": "2021-07-26T12:48:00.034491Z",
          "shell.execute_reply.started": "2021-07-26T12:41:27.320721Z"
        },
        "papermill": {
          "duration": 0.320393,
          "end_time": "2021-07-26T12:48:00.034676",
          "exception": false,
          "start_time": "2021-07-26T12:47:59.714283",
          "status": "completed"
        },
        "tags": [],
        "id": "0e183090",
        "outputId": "21247316-4d0e-4d78-8062-897ff6d5eb9d"
      },
      "source": [
        "# Visualise survivability w.r.t. Age\n",
        "labels = ['<16', '16-40', '40-60', '60<', 'NA']\n",
        "not_survived = [len(train_data[(train_data['Age']<=16) & (train_data['Survived']==0) & (train_data['Age']>0)]),\n",
        "            len(train_data[(train_data['Age']>16) & (train_data['Survived']==0) & (train_data['Age']<=40)]),\n",
        "            len(train_data[(train_data['Age']>40) & (train_data['Survived']==0) & (train_data['Age']<=60)]),\n",
        "            len(train_data[(train_data['Age']>60) & (train_data['Survived']==0)]),\n",
        "                len(train_data[np.isnan(train_data['Age']) & (train_data['Survived']==0)])]\n",
        "survived = [len(train_data[(train_data['Age']<=16) & (train_data['Survived']==1) & (train_data['Age']>0)]),\n",
        "            len(train_data[(train_data['Age']>16) & (train_data['Survived']==1) & (train_data['Age']<=40)]),\n",
        "            len(train_data[(train_data['Age']>40) & (train_data['Survived']==1) & (train_data['Age']<=60)]),\n",
        "            len(train_data[(train_data['Age']>60) & (train_data['Survived']==1)]),\n",
        "            len(train_data[np.isnan(train_data['Age']) & (train_data['Survived']==1)])]\n",
        "\n",
        "x = np.arange(len(labels))\n",
        "width = 0.35\n",
        "\n",
        "fig, ax = plt.subplots()\n",
        "rects1 = ax.bar(x - width/2, not_survived, width, label='Not survived')\n",
        "rects2 = ax.bar(x + width/2, survived, width, label='Survived')\n",
        "\n",
        "ax.set_ylabel('Number')\n",
        "ax.set_xlabel('Age')\n",
        "ax.set_title('Survivability by age')\n",
        "ax.set_xticks(x)\n",
        "ax.set_xticklabels(labels)\n",
        "ax.legend()\n",
        "\n",
        "ax.bar_label(rects1, padding=3)\n",
        "ax.bar_label(rects2, padding=3)\n",
        "\n",
        "fig.tight_layout()\n",
        "\n",
        "plt.show()"
      ],
      "id": "0e183090",
      "execution_count": null,
      "outputs": [
        {
          "output_type": "display_data",
          "data": {
            "image/png": "[encoded data removed]",
            "text/plain": [
              "<Figure size 432x288 with 1 Axes>"
            ]
          },
          "metadata": {
            "tags": [],
            "needs_background": "light"
          }
        }
      ]
    },
    {
      "cell_type": "markdown",
      "metadata": {
        "papermill": {
          "duration": 0.032929,
          "end_time": "2021-07-26T12:48:00.100862",
          "exception": false,
          "start_time": "2021-07-26T12:48:00.067933",
          "status": "completed"
        },
        "tags": [],
        "id": "3fb77880"
      },
      "source": [
        " Imputing Age with mean value was less accurate compared to imputing with a constant.\n",
        " 60 was selected observing the above graph NA and 60< has rate of survability"
      ],
      "id": "3fb77880"
    },
    {
      "cell_type": "code",
      "metadata": {
        "execution": {
          "iopub.execute_input": "2021-07-26T12:48:00.172762Z",
          "iopub.status.busy": "2021-07-26T12:48:00.172205Z",
          "iopub.status.idle": "2021-07-26T12:48:00.182693Z",
          "shell.execute_reply": "2021-07-26T12:48:00.182073Z",
          "shell.execute_reply.started": "2021-07-26T12:40:07.115326Z"
        },
        "papermill": {
          "duration": 0.048881,
          "end_time": "2021-07-26T12:48:00.182851",
          "exception": false,
          "start_time": "2021-07-26T12:48:00.133970",
          "status": "completed"
        },
        "tags": [],
        "id": "da4dbda0",
        "outputId": "c9efcb96-67ce-4aba-e9a4-63af92dd7a9d"
      },
      "source": [
        "# impute Age and Cabin\n",
        "\n",
        "X['Cabin'].fillna('Missing', inplace=True) \n",
        "# X['Age'].fillna(round((X['Age'].mean()),2), inplace=True)    # impute Age with mean\n",
        "X['Age'].fillna(60, inplace=True)    # imput Age with a constant"
      ],
      "id": "da4dbda0",
      "execution_count": null,
      "outputs": [
        {
          "output_type": "stream",
          "text": [
            "/opt/conda/lib/python3.7/site-packages/pandas/core/series.py:4469: SettingWithCopyWarning: \n",
            "A value is trying to be set on a copy of a slice from a DataFrame\n",
            "\n",
            "See the caveats in the documentation: https://pandas.pydata.org/pandas-docs/stable/user_guide/indexing.html#returning-a-view-versus-a-copy\n",
            "  downcast=downcast,\n"
          ],
          "name": "stderr"
        }
      ]
    },
    {
      "cell_type": "code",
      "metadata": {
        "execution": {
          "iopub.execute_input": "2021-07-26T12:48:00.236181Z",
          "iopub.status.busy": "2021-07-26T12:48:00.235484Z",
          "iopub.status.idle": "2021-07-26T12:48:00.242425Z",
          "shell.execute_reply": "2021-07-26T12:48:00.241863Z",
          "shell.execute_reply.started": "2021-07-26T11:57:45.513467Z"
        },
        "papermill": {
          "duration": 0.036923,
          "end_time": "2021-07-26T12:48:00.242569",
          "exception": false,
          "start_time": "2021-07-26T12:48:00.205646",
          "status": "completed"
        },
        "tags": [],
        "id": "35456648"
      },
      "source": [
        "X_1 = pd.get_dummies(X.Sex)         # one hot encode column 'Sex'\n",
        "X_2 = pd.get_dummies(X.Embarked, prefix=\"Embarked\")    # one hot encode column 'Embarked'"
      ],
      "id": "35456648",
      "execution_count": null,
      "outputs": []
    },
    {
      "cell_type": "code",
      "metadata": {
        "execution": {
          "iopub.execute_input": "2021-07-26T12:48:00.318390Z",
          "iopub.status.busy": "2021-07-26T12:48:00.317583Z",
          "iopub.status.idle": "2021-07-26T12:48:00.323044Z",
          "shell.execute_reply": "2021-07-26T12:48:00.322235Z",
          "shell.execute_reply.started": "2021-07-26T11:57:45.571958Z"
        },
        "papermill": {
          "duration": 0.046557,
          "end_time": "2021-07-26T12:48:00.323188",
          "exception": false,
          "start_time": "2021-07-26T12:48:00.276631",
          "status": "completed"
        },
        "tags": [],
        "id": "98710d32",
        "outputId": "ddc5d461-a27c-4f1e-d905-22c59d05e691"
      },
      "source": [
        "# reduce cardinality of Cabin\n",
        "X_3 = pd.DataFrame()\n",
        "\n",
        "X_3[\"CabinSClass\"] = X.Cabin.str[0]\n",
        "X_3[\"CabinSClass\"].unique()"
      ],
      "id": "98710d32",
      "execution_count": null,
      "outputs": [
        {
          "output_type": "execute_result",
          "data": {
            "text/plain": [
              "array(['M', 'C', 'E', 'G', 'D', 'A', 'B', 'F', 'T'], dtype=object)"
            ]
          },
          "metadata": {
            "tags": []
          },
          "execution_count": 10
        }
      ]
    },
    {
      "cell_type": "code",
      "metadata": {
        "execution": {
          "iopub.execute_input": "2021-07-26T12:48:00.398816Z",
          "iopub.status.busy": "2021-07-26T12:48:00.396349Z",
          "iopub.status.idle": "2021-07-26T12:48:00.404615Z",
          "shell.execute_reply": "2021-07-26T12:48:00.403917Z",
          "shell.execute_reply.started": "2021-07-26T11:57:45.646059Z"
        },
        "papermill": {
          "duration": 0.04749,
          "end_time": "2021-07-26T12:48:00.404758",
          "exception": false,
          "start_time": "2021-07-26T12:48:00.357268",
          "status": "completed"
        },
        "tags": [],
        "id": "0f55fd03"
      },
      "source": [
        "X_dropped = X.drop(['Sex', 'Embarked', 'Cabin'], axis=1)\n",
        "X_new = X_dropped.join([X_1, X_2, X_3])"
      ],
      "id": "0f55fd03",
      "execution_count": null,
      "outputs": []
    },
    {
      "cell_type": "code",
      "metadata": {
        "execution": {
          "iopub.execute_input": "2021-07-26T12:48:00.480891Z",
          "iopub.status.busy": "2021-07-26T12:48:00.480156Z",
          "iopub.status.idle": "2021-07-26T12:48:00.484554Z",
          "shell.execute_reply": "2021-07-26T12:48:00.483835Z",
          "shell.execute_reply.started": "2021-07-26T11:57:45.729352Z"
        },
        "papermill": {
          "duration": 0.045574,
          "end_time": "2021-07-26T12:48:00.484724",
          "exception": false,
          "start_time": "2021-07-26T12:48:00.439150",
          "status": "completed"
        },
        "tags": [],
        "id": "5a686fe1"
      },
      "source": [
        "# Label encoding for CabinSClass\n",
        "for colname in X_new.select_dtypes(\"object\"):\n",
        "    X_new[colname], _ = X_new[colname].factorize()"
      ],
      "id": "5a686fe1",
      "execution_count": null,
      "outputs": []
    },
    {
      "cell_type": "code",
      "metadata": {
        "execution": {
          "iopub.execute_input": "2021-07-26T12:48:00.558506Z",
          "iopub.status.busy": "2021-07-26T12:48:00.557888Z",
          "iopub.status.idle": "2021-07-26T12:48:00.560574Z",
          "shell.execute_reply": "2021-07-26T12:48:00.560145Z",
          "shell.execute_reply.started": "2021-07-26T11:57:51.674232Z"
        },
        "papermill": {
          "duration": 0.042043,
          "end_time": "2021-07-26T12:48:00.560681",
          "exception": false,
          "start_time": "2021-07-26T12:48:00.518638",
          "status": "completed"
        },
        "tags": [],
        "id": "b6739618"
      },
      "source": [
        "# Utility functions from Tutorial\n",
        "def make_mi_scores(X, y, features):\n",
        "    X_mi = X.copy()\n",
        "    mi_scores = mutual_info_classif(X_mi, y, discrete_features=features, random_state=0)\n",
        "    mi_scores = pd.Series(mi_scores, name=\"MI Scores\", index=X_mi.columns)\n",
        "    mi_scores = mi_scores.sort_values(ascending=False)\n",
        "    return mi_scores\n",
        "\n",
        "\n",
        "def plot_mi_scores(scores):\n",
        "    scores = scores.sort_values(ascending=True)\n",
        "    width = np.arange(len(scores))\n",
        "    ticks = list(scores.index)\n",
        "    plt.barh(width, scores)\n",
        "    plt.yticks(width, ticks)\n",
        "    plt.title(\"Mutual Information Scores\")"
      ],
      "id": "b6739618",
      "execution_count": null,
      "outputs": []
    },
    {
      "cell_type": "markdown",
      "metadata": {
        "papermill": {
          "duration": 0.02085,
          "end_time": "2021-07-26T12:48:00.604739",
          "exception": false,
          "start_time": "2021-07-26T12:48:00.583889",
          "status": "completed"
        },
        "tags": [],
        "id": "7071430e"
      },
      "source": [
        "Tried categorizing according to age but it caused less mutual information score and less test accuracy."
      ],
      "id": "7071430e"
    },
    {
      "cell_type": "code",
      "metadata": {
        "execution": {
          "iopub.execute_input": "2021-07-26T12:48:00.650719Z",
          "iopub.status.busy": "2021-07-26T12:48:00.650238Z",
          "iopub.status.idle": "2021-07-26T12:48:00.652665Z",
          "shell.execute_reply": "2021-07-26T12:48:00.652194Z",
          "shell.execute_reply.started": "2021-07-26T11:57:52.336713Z"
        },
        "papermill": {
          "duration": 0.026973,
          "end_time": "2021-07-26T12:48:00.652760",
          "exception": false,
          "start_time": "2021-07-26T12:48:00.625787",
          "status": "completed"
        },
        "tags": [],
        "id": "c7f8dddd"
      },
      "source": [
        "# # Categorise by age limit 16\n",
        "# X_new.loc[X_new.Age<=16, 'Age'] = 1\n",
        "# X_new.loc[X_new.Age>16, 'Age'] = 0"
      ],
      "id": "c7f8dddd",
      "execution_count": null,
      "outputs": []
    },
    {
      "cell_type": "code",
      "metadata": {
        "execution": {
          "iopub.execute_input": "2021-07-26T12:48:00.698751Z",
          "iopub.status.busy": "2021-07-26T12:48:00.698142Z",
          "iopub.status.idle": "2021-07-26T12:48:00.958991Z",
          "shell.execute_reply": "2021-07-26T12:48:00.958445Z",
          "shell.execute_reply.started": "2021-07-26T11:57:52.341503Z"
        },
        "papermill": {
          "duration": 0.284464,
          "end_time": "2021-07-26T12:48:00.959129",
          "exception": false,
          "start_time": "2021-07-26T12:48:00.674665",
          "status": "completed"
        },
        "tags": [],
        "id": "0e31c9fe",
        "outputId": "c0ee8508-300a-41ac-a12a-d2a7be88a1b0"
      },
      "source": [
        "# mutual inofrmation\n",
        "features = [True, False, True, True, False,True, True, True, True, True, True ]\n",
        "mi_scores = make_mi_scores(X_new, Y, features)\n",
        "print(mi_scores.head(20))\n",
        "\n",
        "plt.figure(dpi=100, figsize=(8, 5))\n",
        "plot_mi_scores(mi_scores.head(20))\n"
      ],
      "id": "0e31c9fe",
      "execution_count": null,
      "outputs": [
        {
          "output_type": "stream",
          "text": [
            "female         0.149725\n",
            "male           0.149725\n",
            "Fare           0.135438\n",
            "Pclass         0.057127\n",
            "CabinSClass    0.053768\n",
            "Age            0.042631\n",
            "SibSp          0.023490\n",
            "Parch          0.016653\n",
            "Embarked_C     0.014079\n",
            "Embarked_S     0.011335\n",
            "Embarked_Q     0.000010\n",
            "Name: MI Scores, dtype: float64\n"
          ],
          "name": "stdout"
        },
        {
          "output_type": "display_data",
          "data": {
            "image/png": "[encoded data removed]",
            "text/plain": [
              "<Figure size 800x500 with 1 Axes>"
            ]
          },
          "metadata": {
            "tags": [],
            "needs_background": "light"
          }
        }
      ]
    },
    {
      "cell_type": "code",
      "metadata": {
        "execution": {
          "iopub.execute_input": "2021-07-26T12:48:01.037063Z",
          "iopub.status.busy": "2021-07-26T12:48:01.036283Z",
          "iopub.status.idle": "2021-07-26T12:48:01.040424Z",
          "shell.execute_reply": "2021-07-26T12:48:01.039709Z",
          "shell.execute_reply.started": "2021-07-26T11:57:52.607713Z"
        },
        "papermill": {
          "duration": 0.045516,
          "end_time": "2021-07-26T12:48:01.040577",
          "exception": false,
          "start_time": "2021-07-26T12:48:00.995061",
          "status": "completed"
        },
        "tags": [],
        "id": "3681b81b"
      },
      "source": [
        "X_mi = X_new.drop(['Embarked_Q'], axis=1) # remove Embarked_Q feature due to low mutual information score"
      ],
      "id": "3681b81b",
      "execution_count": null,
      "outputs": []
    },
    {
      "cell_type": "code",
      "metadata": {
        "execution": {
          "iopub.execute_input": "2021-07-26T12:48:01.119474Z",
          "iopub.status.busy": "2021-07-26T12:48:01.118750Z",
          "iopub.status.idle": "2021-07-26T12:48:01.922213Z",
          "shell.execute_reply": "2021-07-26T12:48:01.921755Z",
          "shell.execute_reply.started": "2021-07-26T11:57:52.616572Z"
        },
        "papermill": {
          "duration": 0.846453,
          "end_time": "2021-07-26T12:48:01.922324",
          "exception": false,
          "start_time": "2021-07-26T12:48:01.075871",
          "status": "completed"
        },
        "tags": [],
        "id": "96a5eabe",
        "colab": {
          "base_uri": "https://localhost:8080/",
          "height": 675
        },
        "outputId": "3c982719-4732-44c6-fa60-e09e74434d3f"
      },
      "source": [
        "#Using Pearson Correlation\n",
        "plt.figure(figsize=(12,10))\n",
        "cor = train_values.corr()\n",
        "sns.heatmap(cor, annot=True, cmap=plt.cm.Reds)\n",
        "plt.show()"
      ],
      "id": "96a5eabe",
      "execution_count": null,
      "outputs": [
        {
          "output_type": "display_data",
          "data": {
            "image/png": "[encoded data removed]",
            "text/plain": [
              "<Figure size 864x720 with 2 Axes>"
            ]
          },
          "metadata": {
            "tags": [],
            "needs_background": "light"
          }
        }
      ]
    },
    {
      "cell_type": "code",
      "metadata": {
        "execution": {
          "iopub.execute_input": "2021-07-26T12:48:01.978337Z",
          "iopub.status.busy": "2021-07-26T12:48:01.977831Z",
          "iopub.status.idle": "2021-07-26T12:48:01.981214Z",
          "shell.execute_reply": "2021-07-26T12:48:01.981606Z",
          "shell.execute_reply.started": "2021-07-26T11:57:53.438457Z"
        },
        "papermill": {
          "duration": 0.034545,
          "end_time": "2021-07-26T12:48:01.981767",
          "exception": false,
          "start_time": "2021-07-26T12:48:01.947222",
          "status": "completed"
        },
        "tags": [],
        "id": "f932e0a7"
      },
      "source": [
        "X_cor = X_mi.drop(['male'], axis=1) # remove 'male' feature due to high correlation"
      ],
      "id": "f932e0a7",
      "execution_count": null,
      "outputs": []
    },
    {
      "cell_type": "code",
      "metadata": {
        "execution": {
          "iopub.execute_input": "2021-07-26T12:48:02.041937Z",
          "iopub.status.busy": "2021-07-26T12:48:02.041388Z",
          "iopub.status.idle": "2021-07-26T12:48:02.044766Z",
          "shell.execute_reply": "2021-07-26T12:48:02.044356Z",
          "shell.execute_reply.started": "2021-07-26T11:57:53.447153Z"
        },
        "papermill": {
          "duration": 0.037431,
          "end_time": "2021-07-26T12:48:02.044878",
          "exception": false,
          "start_time": "2021-07-26T12:48:02.007447",
          "status": "completed"
        },
        "tags": [],
        "id": "fc621929",
        "outputId": "9721a83c-2efe-4f7e-e596-72f4152a1cc7"
      },
      "source": [
        "test_data.isnull().sum().sort_values(ascending = False)"
      ],
      "id": "fc621929",
      "execution_count": null,
      "outputs": [
        {
          "output_type": "execute_result",
          "data": {
            "text/plain": [
              "Cabin          327\n",
              "Age             86\n",
              "Fare             1\n",
              "PassengerId      0\n",
              "Pclass           0\n",
              "Name             0\n",
              "Sex              0\n",
              "SibSp            0\n",
              "Parch            0\n",
              "Ticket           0\n",
              "Embarked         0\n",
              "dtype: int64"
            ]
          },
          "metadata": {
            "tags": []
          },
          "execution_count": 19
        }
      ]
    },
    {
      "cell_type": "code",
      "metadata": {
        "execution": {
          "iopub.execute_input": "2021-07-26T12:48:02.098869Z",
          "iopub.status.busy": "2021-07-26T12:48:02.098291Z",
          "iopub.status.idle": "2021-07-26T12:48:02.112397Z",
          "shell.execute_reply": "2021-07-26T12:48:02.112815Z",
          "shell.execute_reply.started": "2021-07-26T11:57:53.466642Z"
        },
        "papermill": {
          "duration": 0.042745,
          "end_time": "2021-07-26T12:48:02.112990",
          "exception": false,
          "start_time": "2021-07-26T12:48:02.070245",
          "status": "completed"
        },
        "tags": [],
        "id": "6a991c55"
      },
      "source": [
        "# preprocess test data\n",
        "test_1 = pd.get_dummies(test_data.Sex)\n",
        "test_2 = pd.get_dummies(test_data.Embarked, prefix=\"Embarked\")\n",
        "test_data['Cabin'].fillna('Missing', inplace=True)\n",
        "test_data['Fare'].fillna(0, inplace=True)\n",
        "\n",
        "#impute and categorise Age\n",
        "test_data['Age'].fillna(60, inplace=True)\n",
        "# test_data.loc[test_data.Age<=16, 'Age'] = 1\n",
        "# test_data.loc[test_data.Age>16, 'Age'] = 0\n",
        "\n",
        "temp = pd.DataFrame()\n",
        "temp[\"CabinSClass\"] = test_data.Cabin.str[0]\n",
        "\n",
        "cabin_map = ['M', 'C', 'E', 'G', 'D', 'A', 'B', 'F', 'T']\n",
        "test_3 = temp[\"CabinSClass\"].replace(to_replace=cabin_map, value=[0, 1, 2, 3,4, 5, 6, 7, 8])\n",
        "\n",
        "test_new = test_data.join([test_1, test_2, test_3])\n",
        "test_dropped = test_new.drop(['PassengerId', 'Name', 'Sex', 'Ticket', 'Cabin', 'male', 'Embarked_Q', 'Embarked'], axis=1)"
      ],
      "id": "6a991c55",
      "execution_count": null,
      "outputs": []
    },
    {
      "cell_type": "code",
      "metadata": {
        "execution": {
          "iopub.execute_input": "2021-07-26T12:48:02.167425Z",
          "iopub.status.busy": "2021-07-26T12:48:02.166838Z",
          "iopub.status.idle": "2021-07-26T12:48:02.171733Z",
          "shell.execute_reply": "2021-07-26T12:48:02.172110Z",
          "shell.execute_reply.started": "2021-07-26T11:57:53.495167Z"
        },
        "papermill": {
          "duration": 0.033419,
          "end_time": "2021-07-26T12:48:02.172262",
          "exception": false,
          "start_time": "2021-07-26T12:48:02.138843",
          "status": "completed"
        },
        "tags": [],
        "id": "a51810fe"
      },
      "source": [
        "# test-train split\n",
        "X_train, X_test, y_train, y_test = train_test_split(X_cor, Y, test_size=0.2, random_state=0)"
      ],
      "id": "a51810fe",
      "execution_count": null,
      "outputs": []
    },
    {
      "cell_type": "code",
      "metadata": {
        "execution": {
          "iopub.execute_input": "2021-07-26T12:48:02.231132Z",
          "iopub.status.busy": "2021-07-26T12:48:02.230658Z",
          "iopub.status.idle": "2021-07-26T12:48:02.233912Z",
          "shell.execute_reply": "2021-07-26T12:48:02.233459Z",
          "shell.execute_reply.started": "2021-07-26T11:57:53.515428Z"
        },
        "papermill": {
          "duration": 0.036086,
          "end_time": "2021-07-26T12:48:02.234027",
          "exception": false,
          "start_time": "2021-07-26T12:48:02.197941",
          "status": "completed"
        },
        "tags": [],
        "id": "d0352eb2"
      },
      "source": [
        "# GridSearch for random forest classifier\n",
        "param_grid = {\n",
        "    'bootstrap': [True],\n",
        "    'criterion': ['entropy'],\n",
        "    'max_depth': [10, 20, 50],\n",
        "    'max_features': [8, 9],\n",
        "    'min_samples_leaf': [2,3],\n",
        "    'min_samples_split': [12, 14],\n",
        "    'n_estimators': [32, 48],\n",
        "}\n",
        "num_folds = 10\n",
        "# Create a base model\n",
        "rf = RandomForestClassifier()\n",
        "# Instantiate the grid search model\n",
        "grid_search = GridSearchCV(estimator = rf, param_grid = param_grid, \n",
        "                          cv = num_folds, n_jobs = -1, verbose = 2)"
      ],
      "id": "d0352eb2",
      "execution_count": null,
      "outputs": []
    },
    {
      "cell_type": "code",
      "metadata": {
        "execution": {
          "iopub.execute_input": "2021-07-26T12:48:02.291665Z",
          "iopub.status.busy": "2021-07-26T12:48:02.291080Z",
          "iopub.status.idle": "2021-07-26T12:48:22.632647Z",
          "shell.execute_reply": "2021-07-26T12:48:22.632153Z",
          "shell.execute_reply.started": "2021-07-26T11:57:53.555551Z"
        },
        "papermill": {
          "duration": 20.372591,
          "end_time": "2021-07-26T12:48:22.632756",
          "exception": false,
          "start_time": "2021-07-26T12:48:02.260165",
          "status": "completed"
        },
        "tags": [],
        "id": "d30449d7",
        "outputId": "f2f95a0c-d623-482c-cfd2-ce7fc628e482"
      },
      "source": [
        "grid_search.fit(X_train, y_train)\n",
        "# grid_search.fit(X_cor, Y)  # for submission\n",
        "grid_search.best_params_"
      ],
      "id": "d30449d7",
      "execution_count": null,
      "outputs": [
        {
          "output_type": "stream",
          "text": [
            "Fitting 10 folds for each of 48 candidates, totalling 480 fits\n"
          ],
          "name": "stdout"
        },
        {
          "output_type": "stream",
          "text": [
            "[Parallel(n_jobs=-1)]: Using backend LokyBackend with 4 concurrent workers.\n",
            "[Parallel(n_jobs=-1)]: Done  33 tasks      | elapsed:    3.4s\n",
            "[Parallel(n_jobs=-1)]: Done 154 tasks      | elapsed:    8.0s\n",
            "[Parallel(n_jobs=-1)]: Done 357 tasks      | elapsed:   15.5s\n",
            "[Parallel(n_jobs=-1)]: Done 480 out of 480 | elapsed:   20.2s finished\n"
          ],
          "name": "stderr"
        },
        {
          "output_type": "execute_result",
          "data": {
            "text/plain": [
              "{'bootstrap': True,\n",
              " 'criterion': 'entropy',\n",
              " 'max_depth': 20,\n",
              " 'max_features': 8,\n",
              " 'min_samples_leaf': 2,\n",
              " 'min_samples_split': 14,\n",
              " 'n_estimators': 48}"
            ]
          },
          "metadata": {
            "tags": []
          },
          "execution_count": 23
        }
      ]
    },
    {
      "cell_type": "code",
      "metadata": {
        "execution": {
          "iopub.execute_input": "2021-07-26T12:48:22.692902Z",
          "iopub.status.busy": "2021-07-26T12:48:22.692387Z",
          "iopub.status.idle": "2021-07-26T12:48:22.696291Z",
          "shell.execute_reply": "2021-07-26T12:48:22.695795Z",
          "shell.execute_reply.started": "2021-07-26T11:58:18.357208Z"
        },
        "papermill": {
          "duration": 0.036322,
          "end_time": "2021-07-26T12:48:22.696429",
          "exception": false,
          "start_time": "2021-07-26T12:48:22.660107",
          "status": "completed"
        },
        "tags": [],
        "id": "1614e745"
      },
      "source": [
        "model = grid_search.best_estimator_"
      ],
      "id": "1614e745",
      "execution_count": null,
      "outputs": []
    },
    {
      "cell_type": "code",
      "metadata": {
        "execution": {
          "iopub.execute_input": "2021-07-26T12:48:22.760768Z",
          "iopub.status.busy": "2021-07-26T12:48:22.760075Z",
          "iopub.status.idle": "2021-07-26T12:48:24.418733Z",
          "shell.execute_reply": "2021-07-26T12:48:24.418166Z",
          "shell.execute_reply.started": "2021-07-26T11:58:18.364461Z"
        },
        "papermill": {
          "duration": 1.694985,
          "end_time": "2021-07-26T12:48:24.418952",
          "exception": false,
          "start_time": "2021-07-26T12:48:22.723967",
          "status": "completed"
        },
        "tags": [],
        "id": "e21a6a21",
        "outputId": "c33a5fc2-b0a4-426f-96a0-a28adb79e888"
      },
      "source": [
        "# cross validation\n",
        "scoring = ['f1']\n",
        "scores = cross_validate(model, X_train, y_train,scoring=scoring, cv=num_folds, return_train_score=True)\n",
        "print(\"%0.4f train F1 score with a standard deviation of %0.4f\" % (scores['train_f1'].mean(), scores['train_f1'].std()))\n",
        "print(\"%0.4f test F1 score with a standard deviation of %0.4f\" % (scores['test_f1'].mean(), scores['test_f1'].std()))"
      ],
      "id": "e21a6a21",
      "execution_count": null,
      "outputs": [
        {
          "output_type": "stream",
          "text": [
            "0.8652 train F1 score with a standard deviation of 0.0086\n",
            "0.7620 test F1 score with a standard deviation of 0.0710\n"
          ],
          "name": "stdout"
        }
      ]
    },
    {
      "cell_type": "code",
      "metadata": {
        "execution": {
          "iopub.execute_input": "2021-07-26T12:48:24.512074Z",
          "iopub.status.busy": "2021-07-26T12:48:24.511359Z",
          "iopub.status.idle": "2021-07-26T12:48:24.529336Z",
          "shell.execute_reply": "2021-07-26T12:48:24.528567Z",
          "shell.execute_reply.started": "2021-07-26T11:58:19.451441Z"
        },
        "papermill": {
          "duration": 0.069717,
          "end_time": "2021-07-26T12:48:24.529527",
          "exception": false,
          "start_time": "2021-07-26T12:48:24.459810",
          "status": "completed"
        },
        "tags": [],
        "id": "de3686be",
        "outputId": "2a282e08-eee0-4fce-a44a-fee9a55d1e0e"
      },
      "source": [
        "y_pred = model.predict(X_test)\n",
        "\n",
        "# evaluation\n",
        "print(confusion_matrix(y_test,y_pred).ravel())\n",
        "print(classification_report(y_test,y_pred))\n",
        "print('Accuracy :', accuracy_score(y_test, y_pred))\n",
        "print('F1 Score :', f1_score(y_test, y_pred))"
      ],
      "id": "de3686be",
      "execution_count": null,
      "outputs": [
        {
          "output_type": "stream",
          "text": [
            "[91 14 26 47]\n",
            "              precision    recall  f1-score   support\n",
            "\n",
            "           0       0.78      0.87      0.82       105\n",
            "           1       0.77      0.64      0.70        73\n",
            "\n",
            "    accuracy                           0.78       178\n",
            "   macro avg       0.77      0.76      0.76       178\n",
            "weighted avg       0.77      0.78      0.77       178\n",
            "\n",
            "Accuracy : 0.7752808988764045\n",
            "F1 Score : 0.7014925373134328\n"
          ],
          "name": "stdout"
        }
      ]
    },
    {
      "cell_type": "code",
      "metadata": {
        "execution": {
          "iopub.execute_input": "2021-07-26T12:48:24.621772Z",
          "iopub.status.busy": "2021-07-26T12:48:24.621113Z",
          "iopub.status.idle": "2021-07-26T12:48:24.639445Z",
          "shell.execute_reply": "2021-07-26T12:48:24.638818Z",
          "shell.execute_reply.started": "2021-07-26T11:59:25.119721Z"
        },
        "papermill": {
          "duration": 0.068383,
          "end_time": "2021-07-26T12:48:24.639586",
          "exception": false,
          "start_time": "2021-07-26T12:48:24.571203",
          "status": "completed"
        },
        "tags": [],
        "id": "81942396"
      },
      "source": [
        "# save predictions for test set\n",
        "y_pred = model.predict(test_dropped)\n",
        "results = pd.DataFrame()\n",
        "results[\"PassengerId\"] = test_data.PassengerId\n",
        "results[\"Survived\"] = y_pred\n",
        "results.to_csv('output37.csv', index=False)"
      ],
      "id": "81942396",
      "execution_count": null,
      "outputs": []
    }
  ]
}