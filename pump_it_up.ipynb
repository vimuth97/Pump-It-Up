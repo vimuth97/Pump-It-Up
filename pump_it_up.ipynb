{
  "nbformat": 4,
  "nbformat_minor": 5,
  "metadata": {
    "kernelspec": {
      "display_name": "Python 3",
      "language": "python",
      "name": "python3"
    },
    "language_info": {
      "codemirror_mode": {
        "name": "ipython",
        "version": 3
      },
      "file_extension": ".py",
      "mimetype": "text/x-python",
      "name": "python",
      "nbconvert_exporter": "python",
      "pygments_lexer": "ipython3",
      "version": "3.7.10"
    },
    "papermill": {
      "default_parameters": {},
      "duration": 37.815346,
      "end_time": "2021-07-26T12:48:25.692702",
      "environment_variables": {},
      "exception": null,
      "input_path": "__notebook__.ipynb",
      "output_path": "__notebook__.ipynb",
      "parameters": {},
      "start_time": "2021-07-26T12:47:47.877356",
      "version": "2.3.3"
    },
    "colab": {
      "name": "pump it up.ipynb",
      "provenance": [],
      "collapsed_sections": [],
      "include_colab_link": true
    }
  },
  "cells": [
    {
      "cell_type": "markdown",
      "metadata": {
        "id": "view-in-github",
        "colab_type": "text"
      },
      "source": [
        "<a href=\"https://colab.research.google.com/github/vimuth97/Pump-It-Up/blob/main/pump_it_up.ipynb\" target=\"_parent\"><img src=\"https://colab.research.google.com/assets/colab-badge.svg\" alt=\"Open In Colab\"/></a>"
      ]
    },
    {
      "cell_type": "code",
      "metadata": {
        "colab": {
          "base_uri": "https://localhost:8080/"
        },
        "id": "CzoTdF1U2_Un",
        "outputId": "ea8985a0-8040-42d6-d6a6-b2a71df11750"
      },
      "source": [
        "from google.colab import drive\n",
        "drive.mount('/content/drive', force_remount=True)"
      ],
      "id": "CzoTdF1U2_Un",
      "execution_count": 1,
      "outputs": [
        {
          "output_type": "stream",
          "text": [
            "Mounted at /content/drive\n"
          ],
          "name": "stdout"
        }
      ]
    },
    {
      "cell_type": "code",
      "metadata": {
        "_cell_guid": "b1076dfc-b9ad-4769-8c92-a6c4dae69d19",
        "_uuid": "8f2839f25d086af736a60e9eeb907d3b93b6e0e5",
        "execution": {
          "iopub.execute_input": "2021-07-26T12:47:57.460704Z",
          "iopub.status.busy": "2021-07-26T12:47:57.459545Z",
          "iopub.status.idle": "2021-07-26T12:47:59.205812Z",
          "shell.execute_reply": "2021-07-26T12:47:59.204832Z",
          "shell.execute_reply.started": "2021-07-26T11:57:45.192703Z"
        },
        "papermill": {
          "duration": 1.780835,
          "end_time": "2021-07-26T12:47:59.205987",
          "exception": false,
          "start_time": "2021-07-26T12:47:57.425152",
          "status": "completed"
        },
        "tags": [],
        "id": "3172835a"
      },
      "source": [
        "import numpy as np # linear algebra\n",
        "import pandas as pd # data processing, CSV file I/O (e.g. pd.read_csv)\n",
        "import matplotlib.pyplot as plt\n",
        "import seaborn as sns\n",
        "import os\n",
        "\n",
        "from sklearn.preprocessing import OneHotEncoder\n",
        "from sklearn.impute import SimpleImputer\n",
        "from sklearn.model_selection import train_test_split\n",
        "from sklearn.ensemble import RandomForestClassifier\n",
        "from sklearn.metrics import confusion_matrix, accuracy_score, f1_score\n",
        "from sklearn.feature_selection import mutual_info_classif\n",
        "from sklearn.model_selection import GridSearchCV\n",
        "from sklearn.model_selection import cross_validate\n",
        "from sklearn.preprocessing import StandardScaler\n",
        "\n",
        "# for dirname, _, filenames in os.walk('/content/drive'):\n",
        "#     for filename in filenames:\n",
        "#       print(os.path.join(dirname, filename))\n",
        "\n",
        "train_values = pd.read_csv(\"/content/drive/MyDrive/Pump it up/training values.csv\")\n",
        "train_labels = pd.read_csv(\"/content/drive/MyDrive/Pump it up/training labels.csv\")\n",
        "test_data = pd.read_csv(\"/content/drive/MyDrive/Pump it up/test set.csv\")"
      ],
      "id": "3172835a",
      "execution_count": 2,
      "outputs": []
    },
    {
      "cell_type": "code",
      "metadata": {
        "id": "SUIsJty04gFY",
        "colab": {
          "base_uri": "https://localhost:8080/",
          "height": 204
        },
        "outputId": "0e27de22-437c-4000-a27c-36be9b6ee613"
      },
      "source": [
        "train_labels.head()"
      ],
      "id": "SUIsJty04gFY",
      "execution_count": 3,
      "outputs": [
        {
          "output_type": "execute_result",
          "data": {
            "text/html": [
              "<div>\n",
              "<style scoped>\n",
              "    .dataframe tbody tr th:only-of-type {\n",
              "        vertical-align: middle;\n",
              "    }\n",
              "\n",
              "    .dataframe tbody tr th {\n",
              "        vertical-align: top;\n",
              "    }\n",
              "\n",
              "    .dataframe thead th {\n",
              "        text-align: right;\n",
              "    }\n",
              "</style>\n",
              "<table border=\"1\" class=\"dataframe\">\n",
              "  <thead>\n",
              "    <tr style=\"text-align: right;\">\n",
              "      <th></th>\n",
              "      <th>id</th>\n",
              "      <th>status_group</th>\n",
              "    </tr>\n",
              "  </thead>\n",
              "  <tbody>\n",
              "    <tr>\n",
              "      <th>0</th>\n",
              "      <td>69572</td>\n",
              "      <td>functional</td>\n",
              "    </tr>\n",
              "    <tr>\n",
              "      <th>1</th>\n",
              "      <td>8776</td>\n",
              "      <td>functional</td>\n",
              "    </tr>\n",
              "    <tr>\n",
              "      <th>2</th>\n",
              "      <td>34310</td>\n",
              "      <td>functional</td>\n",
              "    </tr>\n",
              "    <tr>\n",
              "      <th>3</th>\n",
              "      <td>67743</td>\n",
              "      <td>non functional</td>\n",
              "    </tr>\n",
              "    <tr>\n",
              "      <th>4</th>\n",
              "      <td>19728</td>\n",
              "      <td>functional</td>\n",
              "    </tr>\n",
              "  </tbody>\n",
              "</table>\n",
              "</div>"
            ],
            "text/plain": [
              "      id    status_group\n",
              "0  69572      functional\n",
              "1   8776      functional\n",
              "2  34310      functional\n",
              "3  67743  non functional\n",
              "4  19728      functional"
            ]
          },
          "metadata": {},
          "execution_count": 3
        }
      ]
    },
    {
      "cell_type": "code",
      "metadata": {
        "colab": {
          "base_uri": "https://localhost:8080/"
        },
        "id": "erZjnAz37wCT",
        "outputId": "94960a96-5477-460c-c485-78bfcc6a3466"
      },
      "source": [
        "train_values.shape"
      ],
      "id": "erZjnAz37wCT",
      "execution_count": 4,
      "outputs": [
        {
          "output_type": "execute_result",
          "data": {
            "text/plain": [
              "(59400, 40)"
            ]
          },
          "metadata": {},
          "execution_count": 4
        }
      ]
    },
    {
      "cell_type": "markdown",
      "metadata": {
        "papermill": {
          "duration": 0.030615,
          "end_time": "2021-07-26T12:47:59.368788",
          "exception": false,
          "start_time": "2021-07-26T12:47:59.338173",
          "status": "completed"
        },
        "tags": [],
        "id": "906ef0bb"
      },
      "source": [
        "Checking whether the dataset is balanced or not"
      ],
      "id": "906ef0bb"
    },
    {
      "cell_type": "code",
      "metadata": {
        "execution": {
          "iopub.execute_input": "2021-07-26T12:47:59.440234Z",
          "iopub.status.busy": "2021-07-26T12:47:59.439609Z",
          "iopub.status.idle": "2021-07-26T12:47:59.464981Z",
          "shell.execute_reply": "2021-07-26T12:47:59.465518Z",
          "shell.execute_reply.started": "2021-07-26T12:37:00.191404Z"
        },
        "papermill": {
          "duration": 0.06636,
          "end_time": "2021-07-26T12:47:59.465699",
          "exception": false,
          "start_time": "2021-07-26T12:47:59.399339",
          "status": "completed"
        },
        "tags": [],
        "id": "a0660645",
        "colab": {
          "base_uri": "https://localhost:8080/"
        },
        "outputId": "c6ea3a79-a364-45dd-a992-8bd02fa68c07"
      },
      "source": [
        "print(train_labels['status_group'].value_counts())"
      ],
      "id": "a0660645",
      "execution_count": 5,
      "outputs": [
        {
          "output_type": "stream",
          "text": [
            "functional                 32259\n",
            "non functional             22824\n",
            "functional needs repair     4317\n",
            "Name: status_group, dtype: int64\n"
          ],
          "name": "stdout"
        }
      ]
    },
    {
      "cell_type": "code",
      "metadata": {
        "execution": {
          "iopub.execute_input": "2021-07-26T12:47:59.538885Z",
          "iopub.status.busy": "2021-07-26T12:47:59.538209Z",
          "iopub.status.idle": "2021-07-26T12:47:59.542640Z",
          "shell.execute_reply": "2021-07-26T12:47:59.542232Z",
          "shell.execute_reply.started": "2021-07-26T11:57:45.285995Z"
        },
        "papermill": {
          "duration": 0.044979,
          "end_time": "2021-07-26T12:47:59.542748",
          "exception": false,
          "start_time": "2021-07-26T12:47:59.497769",
          "status": "completed"
        },
        "tags": [],
        "id": "74656e9c",
        "colab": {
          "base_uri": "https://localhost:8080/"
        },
        "outputId": "06127afc-dd3e-41f3-99de-409948cacf76"
      },
      "source": [
        "test_data.isnull().sum().sort_values(ascending = False)"
      ],
      "id": "74656e9c",
      "execution_count": 6,
      "outputs": [
        {
          "output_type": "execute_result",
          "data": {
            "text/plain": [
              "scheme_name              7092\n",
              "scheme_management         969\n",
              "installer                 877\n",
              "funder                    869\n",
              "public_meeting            821\n",
              "permit                    737\n",
              "subvillage                 99\n",
              "ward                        0\n",
              "lga                         0\n",
              "district_code               0\n",
              "region_code                 0\n",
              "region                      0\n",
              "waterpoint_type_group       0\n",
              "population                  0\n",
              "num_private                 0\n",
              "wpt_name                    0\n",
              "latitude                    0\n",
              "longitude                   0\n",
              "gps_height                  0\n",
              "date_recorded               0\n",
              "amount_tsh                  0\n",
              "basin                       0\n",
              "recorded_by                 0\n",
              "waterpoint_type             0\n",
              "water_quality               0\n",
              "source_class                0\n",
              "source_type                 0\n",
              "source                      0\n",
              "quantity_group              0\n",
              "quantity                    0\n",
              "quality_group               0\n",
              "payment_type                0\n",
              "construction_year           0\n",
              "payment                     0\n",
              "management_group            0\n",
              "management                  0\n",
              "extraction_type_class       0\n",
              "extraction_type_group       0\n",
              "extraction_type             0\n",
              "id                          0\n",
              "dtype: int64"
            ]
          },
          "metadata": {},
          "execution_count": 6
        }
      ]
    },
    {
      "cell_type": "code",
      "metadata": {
        "colab": {
          "base_uri": "https://localhost:8080/"
        },
        "id": "xKcMOkfKvrbM",
        "outputId": "d239767c-00c7-4b1c-8416-826fe84d2a2e"
      },
      "source": [
        "amount = train_values['amount_tsh']\n",
        "print(amount.max())\n",
        "print(amount.min())"
      ],
      "id": "xKcMOkfKvrbM",
      "execution_count": 7,
      "outputs": [
        {
          "output_type": "stream",
          "text": [
            "350000.0\n",
            "0.0\n"
          ],
          "name": "stdout"
        }
      ]
    },
    {
      "cell_type": "markdown",
      "metadata": {
        "id": "xIbu0BoaxtSS"
      },
      "source": [
        "Standardise `amount_tsh`, `population` because they have a large ranges and may contain outliers.\n",
        "However tree based classifiers does not require standardisation "
      ],
      "id": "xIbu0BoaxtSS"
    },
    {
      "cell_type": "code",
      "metadata": {
        "colab": {
          "base_uri": "https://localhost:8080/"
        },
        "id": "mT4w07yMxMCN",
        "outputId": "8b83f121-4e4e-42e2-cd8f-fedf26904e33"
      },
      "source": [
        "train_values[['amount_tsh', 'population', 'num_private', 'gps_height']] = StandardScaler().fit_transform(train_values[['amount_tsh', 'population', 'num_private', 'gps_height']])\n",
        "print(train_values[['amount_tsh', 'population', 'num_private', 'gps_height']])"
      ],
      "id": "mT4w07yMxMCN",
      "execution_count": 8,
      "outputs": [
        {
          "output_type": "stream",
          "text": [
            "       amount_tsh  population  num_private  gps_height\n",
            "0        1.895665   -0.150399    -0.038749    1.041252\n",
            "1       -0.105970    0.212290    -0.038749    1.054237\n",
            "2       -0.097630    0.148660    -0.038749    0.025541\n",
            "3       -0.105970   -0.258570    -0.038749   -0.584751\n",
            "4       -0.105970   -0.381587    -0.038749   -0.964200\n",
            "...           ...         ...          ...         ...\n",
            "59395   -0.102634   -0.116463    -0.038749    0.781553\n",
            "59396    1.461977   -0.262812    -0.038749    0.784439\n",
            "59397   -0.105970   -0.381587    -0.038749   -0.964200\n",
            "59398   -0.105970   -0.381587    -0.038749   -0.964200\n",
            "59399   -0.105970   -0.063439    -0.038749   -0.688631\n",
            "\n",
            "[59400 rows x 4 columns]\n"
          ],
          "name": "stdout"
        }
      ]
    },
    {
      "cell_type": "markdown",
      "metadata": {
        "id": "ruwrSZHI5jMu"
      },
      "source": [
        "**Onehot encoding**"
      ],
      "id": "ruwrSZHI5jMu"
    },
    {
      "cell_type": "code",
      "metadata": {
        "colab": {
          "base_uri": "https://localhost:8080/"
        },
        "id": "Pv-nYw_c5hI-",
        "outputId": "c0214e60-550f-4669-b498-8fa5438b8dae"
      },
      "source": [
        "train_values_ohe = pd.get_dummies(train_values, prefix=[\"public_meeting\", \"permit\"], columns=[\"public_meeting\", \"permit\"], dummy_na=False)\n",
        "# ohe_2 = pd.get_dummies(train_values.permit, prefix=\"permit\")\n",
        "train_values_ohe.shape"
      ],
      "id": "Pv-nYw_c5hI-",
      "execution_count": 9,
      "outputs": [
        {
          "output_type": "execute_result",
          "data": {
            "text/plain": [
              "(59400, 42)"
            ]
          },
          "metadata": {},
          "execution_count": 9
        }
      ]
    },
    {
      "cell_type": "markdown",
      "metadata": {
        "id": "AMps96OZzETb"
      },
      "source": [
        " Remove `region` feature because `region_code` provide coded version of same information"
      ],
      "id": "AMps96OZzETb"
    },
    {
      "cell_type": "code",
      "metadata": {
        "id": "bzG3XvuPyuAi"
      },
      "source": [
        "train_values_drop_region = train_values_ohe.drop(['region'], axis=1)"
      ],
      "id": "bzG3XvuPyuAi",
      "execution_count": 10,
      "outputs": []
    },
    {
      "cell_type": "markdown",
      "metadata": {
        "id": "JJMOALid7oV_"
      },
      "source": [
        "Pre-process `longitude` and `gps_height` by replacing 0 with mean value of each district.\n",
        "In the dataset region>district>subvillage but subvillage has `na` values hence district is chosen to calculate the mean"
      ],
      "id": "JJMOALid7oV_"
    },
    {
      "cell_type": "code",
      "metadata": {
        "colab": {
          "base_uri": "https://localhost:8080/"
        },
        "id": "feY5j1GdHf_s",
        "outputId": "ba50c4d4-2efd-4c67-9fc0-9ff10fc2cbf1"
      },
      "source": [
        "print(\"minimum longitude\", train_values_drop_region.longitude.min())\n",
        "print(\"number of unavailable latitudes\", len(train_values_drop_region[(train_values_drop_region['latitude']==-0.00000002)]))"
      ],
      "id": "feY5j1GdHf_s",
      "execution_count": 11,
      "outputs": [
        {
          "output_type": "stream",
          "text": [
            "minimum longitude 0.0\n",
            "number of unavailable latitudes 1812\n"
          ],
          "name": "stdout"
        }
      ]
    },
    {
      "cell_type": "code",
      "metadata": {
        "id": "6d3uQhsl77a3"
      },
      "source": [
        "grouped = train_values_drop_region.groupby(\"district_code\")\n",
        "\n",
        "def replaceLongitude(group):\n",
        "  mask = group==0\n",
        "  group[mask] = group[~mask].mean()\n",
        "  return group\n",
        "\n",
        "def replaceLatitude(group):\n",
        "  mask = group==-0.00000002\n",
        "  group[mask] = group[~mask].mean()\n",
        "  return group\n",
        "\n",
        "mean_longitude = grouped.longitude.transform(replaceLongitude)\n",
        "mean_latitude = grouped.latitude.transform(replaceLatitude)\n",
        "\n",
        "train_values_drop_region.longitude = mean_longitude\n",
        "train_values_drop_region.latitude = mean_latitude"
      ],
      "id": "6d3uQhsl77a3",
      "execution_count": 12,
      "outputs": []
    },
    {
      "cell_type": "code",
      "metadata": {
        "colab": {
          "base_uri": "https://localhost:8080/"
        },
        "id": "OJ8U0aNp_gHZ",
        "outputId": "97d08ba5-7fca-4a9f-a681-09482cbdf89c"
      },
      "source": [
        "#check for correctness of above process\n",
        "print(\"minimum longitude:\", train_values_drop_region.longitude.min()) \n",
        "print(\"number of unavailable latitudes:\", len(train_values_drop_region[(train_values_drop_region['latitude']==-0.00000002)]))"
      ],
      "id": "OJ8U0aNp_gHZ",
      "execution_count": 13,
      "outputs": [
        {
          "output_type": "stream",
          "text": [
            "minimum longitude: 29.6071219\n",
            "number of unavailable latitudes: 0\n"
          ],
          "name": "stdout"
        }
      ]
    },
    {
      "cell_type": "code",
      "metadata": {
        "colab": {
          "base_uri": "https://localhost:8080/"
        },
        "id": "jua3oQ7lRAJ8",
        "outputId": "0d1daf32-c2f6-4248-c482-07ba11d4fab7"
      },
      "source": [
        "print(train_values_drop_region.shape)"
      ],
      "id": "jua3oQ7lRAJ8",
      "execution_count": 14,
      "outputs": [
        {
          "output_type": "stream",
          "text": [
            "(59400, 41)\n"
          ],
          "name": "stdout"
        }
      ]
    },
    {
      "cell_type": "markdown",
      "metadata": {
        "id": "C6yAydF5QNVc"
      },
      "source": [
        "Preprocess `date_recorded` feature"
      ],
      "id": "C6yAydF5QNVc"
    },
    {
      "cell_type": "code",
      "metadata": {
        "colab": {
          "base_uri": "https://localhost:8080/"
        },
        "id": "p84y6h0D4wwM",
        "outputId": "de11ddb5-779c-4721-a1a1-294641ad5bcb"
      },
      "source": [
        "train_values_drop_region['date_recorded'] =  pd.to_datetime(train_values['date_recorded'])\n",
        "train_values_drop_region['num_days'] = (train_values_drop_region['date_recorded'] - pd.Timestamp.now())/np.timedelta64(1, 'D')\n",
        "train_values_drop_region['num_days'] = StandardScaler().fit_transform(train_values_drop_region[['num_days']])\n",
        "train_values_drop_date = train_values_drop_region.drop(['date_recorded'], axis=1)\n",
        "print(train_values_drop_date.shape,'\\n',train_values_drop_date['num_days'])"
      ],
      "id": "p84y6h0D4wwM",
      "execution_count": 15,
      "outputs": [
        {
          "output_type": "stream",
          "text": [
            "(59400, 41) \n",
            " 0       -1.141136\n",
            "1        1.022152\n",
            "2        0.995223\n",
            "3        0.911444\n",
            "4       -0.779092\n",
            "           ...   \n",
            "59395    1.195693\n",
            "59396   -0.979562\n",
            "59397   -1.057357\n",
            "59398   -1.159088\n",
            "59399   -1.114207\n",
            "Name: num_days, Length: 59400, dtype: float64\n"
          ],
          "name": "stdout"
        }
      ]
    },
    {
      "cell_type": "code",
      "metadata": {
        "execution": {
          "iopub.execute_input": "2021-07-26T12:47:59.279061Z",
          "iopub.status.busy": "2021-07-26T12:47:59.277382Z",
          "iopub.status.idle": "2021-07-26T12:47:59.306803Z",
          "shell.execute_reply": "2021-07-26T12:47:59.306221Z",
          "shell.execute_reply.started": "2021-07-26T11:57:45.231495Z"
        },
        "papermill": {
          "duration": 0.069076,
          "end_time": "2021-07-26T12:47:59.306942",
          "exception": false,
          "start_time": "2021-07-26T12:47:59.237866",
          "status": "completed"
        },
        "tags": [],
        "id": "624059b4",
        "colab": {
          "base_uri": "https://localhost:8080/",
          "height": 233
        },
        "outputId": "9cd81c11-f28e-4a5e-d917-c4f9e97940f9"
      },
      "source": [
        "encoded_features = ['id','latitude','longitude','gps_height','date_recorded','amount_tsh','num_private',\n",
        "                    'region_code','district_code','population','public_meeting','construction_year','permit',\n",
        "                    'num_days','public_meeting_False','public_meeting_True','permit_False','permit_True','installer',\n",
        "                    'wpt_name','subvillage','recorded_by']\n",
        "\n",
        "limit_train = int(train_values_drop_date.shape[0]*0.03/100)\n",
        "limit_test = int(test_data.shape[0]*0.03/100)\n",
        "\n",
        "for column in train_values_drop_date.columns:\n",
        "  if column not in encoded_features:\n",
        "    train_values_drop_date[column] = train_values_drop_date[column].str.lower()\n",
        "    feature_values=train_values_drop_date[column].value_counts()\n",
        "    rare_features=feature_values[feature_values < limit]\n",
        "    train_values_drop_date[column].replace(to_replace = list(rare_features.keys()), value = 'other', inplace = True)\n",
        "    if ('other' in train_values_drop_date[column].value_counts().index):\n",
        "      print('Changed', train_values_drop_date[column].value_counts()['other'], 'rows to other in column', column)\n",
        "\n",
        "    train_values_drop_date[column], _ = train_values_drop_date[column].factorize(na_sentinel=-1)     # label encoding\n",
        "    \n",
        "    # same encoding for test data set\n",
        "    feature_values_test=test_data[column].value_counts()\n",
        "    rare_features_test=feature_values_test[feature_values_test < limit_test]\n",
        "    test_data[column].replace(to_replace = list(_), value = [ x for x in range(len(list(_)))], inplace = True)\n",
        "    test_data[column].fillna(-1, inplace = True)\n",
        "    for i,j in test_data[column].iteritems():\n",
        "      if type(j) is str:\n",
        "        test_data.loc[i, column]=len(list(_))"
      ],
      "id": "624059b4",
      "execution_count": 16,
      "outputs": [
        {
          "output_type": "error",
          "ename": "NameError",
          "evalue": "ignored",
          "traceback": [
            "\u001b[0;31m---------------------------------------------------------------------------\u001b[0m",
            "\u001b[0;31mNameError\u001b[0m                                 Traceback (most recent call last)",
            "\u001b[0;32m<ipython-input-16-4a74fb70f5bc>\u001b[0m in \u001b[0;36m<module>\u001b[0;34m()\u001b[0m\n\u001b[1;32m     11\u001b[0m     \u001b[0mtrain_values_drop_date\u001b[0m\u001b[0;34m[\u001b[0m\u001b[0mcolumn\u001b[0m\u001b[0;34m]\u001b[0m \u001b[0;34m=\u001b[0m \u001b[0mtrain_values_drop_date\u001b[0m\u001b[0;34m[\u001b[0m\u001b[0mcolumn\u001b[0m\u001b[0;34m]\u001b[0m\u001b[0;34m.\u001b[0m\u001b[0mstr\u001b[0m\u001b[0;34m.\u001b[0m\u001b[0mlower\u001b[0m\u001b[0;34m(\u001b[0m\u001b[0;34m)\u001b[0m\u001b[0;34m\u001b[0m\u001b[0;34m\u001b[0m\u001b[0m\n\u001b[1;32m     12\u001b[0m     \u001b[0mfeature_values\u001b[0m\u001b[0;34m=\u001b[0m\u001b[0mtrain_values_drop_date\u001b[0m\u001b[0;34m[\u001b[0m\u001b[0mcolumn\u001b[0m\u001b[0;34m]\u001b[0m\u001b[0;34m.\u001b[0m\u001b[0mvalue_counts\u001b[0m\u001b[0;34m(\u001b[0m\u001b[0;34m)\u001b[0m\u001b[0;34m\u001b[0m\u001b[0;34m\u001b[0m\u001b[0m\n\u001b[0;32m---> 13\u001b[0;31m     \u001b[0mrare_features\u001b[0m\u001b[0;34m=\u001b[0m\u001b[0mfeature_values\u001b[0m\u001b[0;34m[\u001b[0m\u001b[0mfeature_values\u001b[0m \u001b[0;34m<\u001b[0m \u001b[0mlimit\u001b[0m\u001b[0;34m]\u001b[0m\u001b[0;34m\u001b[0m\u001b[0;34m\u001b[0m\u001b[0m\n\u001b[0m\u001b[1;32m     14\u001b[0m     \u001b[0mtrain_values_drop_date\u001b[0m\u001b[0;34m[\u001b[0m\u001b[0mcolumn\u001b[0m\u001b[0;34m]\u001b[0m\u001b[0;34m.\u001b[0m\u001b[0mreplace\u001b[0m\u001b[0;34m(\u001b[0m\u001b[0mto_replace\u001b[0m \u001b[0;34m=\u001b[0m \u001b[0mlist\u001b[0m\u001b[0;34m(\u001b[0m\u001b[0mrare_features\u001b[0m\u001b[0;34m.\u001b[0m\u001b[0mkeys\u001b[0m\u001b[0;34m(\u001b[0m\u001b[0;34m)\u001b[0m\u001b[0;34m)\u001b[0m\u001b[0;34m,\u001b[0m \u001b[0mvalue\u001b[0m \u001b[0;34m=\u001b[0m \u001b[0;34m'other'\u001b[0m\u001b[0;34m,\u001b[0m \u001b[0minplace\u001b[0m \u001b[0;34m=\u001b[0m \u001b[0;32mTrue\u001b[0m\u001b[0;34m)\u001b[0m\u001b[0;34m\u001b[0m\u001b[0;34m\u001b[0m\u001b[0m\n\u001b[1;32m     15\u001b[0m     \u001b[0;32mif\u001b[0m \u001b[0;34m(\u001b[0m\u001b[0;34m'other'\u001b[0m \u001b[0;32min\u001b[0m \u001b[0mtrain_values_drop_date\u001b[0m\u001b[0;34m[\u001b[0m\u001b[0mcolumn\u001b[0m\u001b[0;34m]\u001b[0m\u001b[0;34m.\u001b[0m\u001b[0mvalue_counts\u001b[0m\u001b[0;34m(\u001b[0m\u001b[0;34m)\u001b[0m\u001b[0;34m.\u001b[0m\u001b[0mindex\u001b[0m\u001b[0;34m)\u001b[0m\u001b[0;34m:\u001b[0m\u001b[0;34m\u001b[0m\u001b[0;34m\u001b[0m\u001b[0m\n",
            "\u001b[0;31mNameError\u001b[0m: name 'limit' is not defined"
          ]
        }
      ]
    },
    {
      "cell_type": "code",
      "metadata": {
        "id": "FqCEgf21sGjT"
      },
      "source": [
        "train_values_drop_name = train_values_drop_date.drop(['wpt_name'], axis=1)    #drop 'wpt_name' (name of the waterpoint) due to highcardinality and less relevance to the prediction"
      ],
      "id": "FqCEgf21sGjT",
      "execution_count": null,
      "outputs": []
    },
    {
      "cell_type": "code",
      "metadata": {
        "id": "inPIJQ9ut5_8"
      },
      "source": [
        "train_values_drop_name['construction_year'].replace(to_replace = 0, value = 1959, inplace = True)    #impute 'construction_year' with 1959 because 1960 is earliest available data"
      ],
      "id": "inPIJQ9ut5_8",
      "execution_count": null,
      "outputs": []
    },
    {
      "cell_type": "code",
      "metadata": {
        "execution": {
          "iopub.execute_input": "2021-07-26T12:48:01.119474Z",
          "iopub.status.busy": "2021-07-26T12:48:01.118750Z",
          "iopub.status.idle": "2021-07-26T12:48:01.922213Z",
          "shell.execute_reply": "2021-07-26T12:48:01.921755Z",
          "shell.execute_reply.started": "2021-07-26T11:57:52.616572Z"
        },
        "papermill": {
          "duration": 0.846453,
          "end_time": "2021-07-26T12:48:01.922324",
          "exception": false,
          "start_time": "2021-07-26T12:48:01.075871",
          "status": "completed"
        },
        "tags": [],
        "id": "96a5eabe"
      },
      "source": [
        "#Using Pearson Correlation\n",
        "plt.figure(figsize=(24,20))\n",
        "cor = train_values_drop_name.corr()\n",
        "sns.heatmap(cor, annot=True, cmap=plt.cm.Reds)\n",
        "plt.show()"
      ],
      "id": "96a5eabe",
      "execution_count": null,
      "outputs": []
    },
    {
      "cell_type": "markdown",
      "metadata": {
        "id": "inQ_5VAn06WW"
      },
      "source": [
        "Remove following features due to high corelation"
      ],
      "id": "inQ_5VAn06WW"
    },
    {
      "cell_type": "code",
      "metadata": {
        "id": "X3gY9WBO0ANT"
      },
      "source": [
        "train_corr = train_values_drop_name.drop(['extraction_type_group', 'quantity_group', 'payment_type', 'quality_group', 'waterpoint_type_group',\n",
        "                                          'source_type'], axis=1)\n",
        "train_corr = train_corr.drop(['installer', 'subvillage', 'recorded_by', 'id'], axis=1)"
      ],
      "id": "X3gY9WBO0ANT",
      "execution_count": null,
      "outputs": []
    },
    {
      "cell_type": "code",
      "metadata": {
        "execution": {
          "iopub.execute_input": "2021-07-26T12:48:00.558506Z",
          "iopub.status.busy": "2021-07-26T12:48:00.557888Z",
          "iopub.status.idle": "2021-07-26T12:48:00.560574Z",
          "shell.execute_reply": "2021-07-26T12:48:00.560145Z",
          "shell.execute_reply.started": "2021-07-26T11:57:51.674232Z"
        },
        "papermill": {
          "duration": 0.042043,
          "end_time": "2021-07-26T12:48:00.560681",
          "exception": false,
          "start_time": "2021-07-26T12:48:00.518638",
          "status": "completed"
        },
        "tags": [],
        "id": "b6739618"
      },
      "source": [
        "# Utility functions from Tutorial\n",
        "def make_mi_scores(X, y, features):\n",
        "    X_mi = X.copy()\n",
        "    mi_scores = mutual_info_classif(X_mi, y, discrete_features=features, random_state=0)\n",
        "    mi_scores = pd.Series(mi_scores, name=\"MI Scores\", index=X_mi.columns)\n",
        "    mi_scores = mi_scores.sort_values(ascending=False)\n",
        "    return mi_scores\n",
        "\n",
        "\n",
        "def plot_mi_scores(scores):\n",
        "    scores = scores.sort_values(ascending=True)\n",
        "    width = np.arange(len(scores))\n",
        "    ticks = list(scores.index)\n",
        "    plt.barh(width, scores)\n",
        "    plt.yticks(width, ticks)\n",
        "    plt.title(\"Mutual Information Scores\")"
      ],
      "id": "b6739618",
      "execution_count": null,
      "outputs": []
    },
    {
      "cell_type": "code",
      "metadata": {
        "execution": {
          "iopub.execute_input": "2021-07-26T12:48:00.698751Z",
          "iopub.status.busy": "2021-07-26T12:48:00.698142Z",
          "iopub.status.idle": "2021-07-26T12:48:00.958991Z",
          "shell.execute_reply": "2021-07-26T12:48:00.958445Z",
          "shell.execute_reply.started": "2021-07-26T11:57:52.341503Z"
        },
        "papermill": {
          "duration": 0.284464,
          "end_time": "2021-07-26T12:48:00.959129",
          "exception": false,
          "start_time": "2021-07-26T12:48:00.674665",
          "status": "completed"
        },
        "tags": [],
        "id": "0e31c9fe"
      },
      "source": [
        "# # mutual inofrmation\n",
        "# features = [True, False, True, True, False,True, True, True, True, True, True ]\n",
        "# mi_scores = make_mi_scores(X_new, Y, features)\n",
        "# print(mi_scores.head(20))\n",
        "\n",
        "# plt.figure(dpi=100, figsize=(8, 5))\n",
        "# plot_mi_scores(mi_scores.head(20))\n"
      ],
      "id": "0e31c9fe",
      "execution_count": null,
      "outputs": []
    },
    {
      "cell_type": "code",
      "metadata": {
        "execution": {
          "iopub.execute_input": "2021-07-26T12:48:01.037063Z",
          "iopub.status.busy": "2021-07-26T12:48:01.036283Z",
          "iopub.status.idle": "2021-07-26T12:48:01.040424Z",
          "shell.execute_reply": "2021-07-26T12:48:01.039709Z",
          "shell.execute_reply.started": "2021-07-26T11:57:52.607713Z"
        },
        "papermill": {
          "duration": 0.045516,
          "end_time": "2021-07-26T12:48:01.040577",
          "exception": false,
          "start_time": "2021-07-26T12:48:00.995061",
          "status": "completed"
        },
        "tags": [],
        "id": "3681b81b"
      },
      "source": [
        "# X_mi = X_new.drop(['Embarked_Q'], axis=1) # remove Embarked_Q feature due to low mutual information score"
      ],
      "id": "3681b81b",
      "execution_count": null,
      "outputs": []
    },
    {
      "cell_type": "code",
      "metadata": {
        "execution": {
          "iopub.execute_input": "2021-07-26T12:48:02.098869Z",
          "iopub.status.busy": "2021-07-26T12:48:02.098291Z",
          "iopub.status.idle": "2021-07-26T12:48:02.112397Z",
          "shell.execute_reply": "2021-07-26T12:48:02.112815Z",
          "shell.execute_reply.started": "2021-07-26T11:57:53.466642Z"
        },
        "papermill": {
          "duration": 0.042745,
          "end_time": "2021-07-26T12:48:02.112990",
          "exception": false,
          "start_time": "2021-07-26T12:48:02.070245",
          "status": "completed"
        },
        "tags": [],
        "id": "6a991c55"
      },
      "source": [
        "# preprocess test data\n",
        "test_data[['amount_tsh', 'population', 'num_private', 'gps_height']] = StandardScaler().fit_transform(test_data[['amount_tsh', 'population', 'num_private', 'gps_height']])\n",
        "test_data['construction_year'].replace(to_replace = 0, value = 1959, inplace = True)\n",
        "test_data_ohe = pd.get_dummies(test_data, prefix=[\"public_meeting\", \"permit\"], columns=[\"public_meeting\", \"permit\"], dummy_na=False)\n",
        "\n",
        "\n",
        "test_data_ohe['date_recorded'] =  pd.to_datetime(test_data_ohe['date_recorded'])\n",
        "test_data_ohe['num_days'] = (test_data_ohe['date_recorded'] - pd.Timestamp.now())/np.timedelta64(1, 'D')\n",
        "test_data_ohe['num_days'] = StandardScaler().fit_transform(test_data_ohe[['num_days']])\n",
        "\n",
        "\n",
        "# test_new = test_data.join([test_1, test_2, test_3])\n",
        "test_dropped = test_data_ohe.drop(['extraction_type_group', 'quantity_group', 'payment_type', 'quality_group', 'waterpoint_type_group',\n",
        "                              'source_type','installer', 'subvillage', 'recorded_by', 'id', 'region', 'date_recorded', 'wpt_name'], axis=1)\n",
        "\n",
        "\n",
        "grouped = test_dropped.groupby(\"district_code\")\n",
        "mean_longitude = grouped.longitude.transform(replaceLongitude)\n",
        "mean_latitude = grouped.latitude.transform(replaceLatitude)\n",
        "\n",
        "test_dropped.longitude = mean_longitude\n",
        "test_dropped.latitude = mean_latitude"
      ],
      "id": "6a991c55",
      "execution_count": null,
      "outputs": []
    },
    {
      "cell_type": "code",
      "metadata": {
        "id": "oPs445L3Jlwx"
      },
      "source": [
        "test_dropped.shape"
      ],
      "id": "oPs445L3Jlwx",
      "execution_count": null,
      "outputs": []
    },
    {
      "cell_type": "code",
      "metadata": {
        "execution": {
          "iopub.execute_input": "2021-07-26T12:48:02.167425Z",
          "iopub.status.busy": "2021-07-26T12:48:02.166838Z",
          "iopub.status.idle": "2021-07-26T12:48:02.171733Z",
          "shell.execute_reply": "2021-07-26T12:48:02.172110Z",
          "shell.execute_reply.started": "2021-07-26T11:57:53.495167Z"
        },
        "papermill": {
          "duration": 0.033419,
          "end_time": "2021-07-26T12:48:02.172262",
          "exception": false,
          "start_time": "2021-07-26T12:48:02.138843",
          "status": "completed"
        },
        "tags": [],
        "id": "a51810fe"
      },
      "source": [
        "# test-train split\n",
        "X_train, X_test, Y_train, Y_test = train_test_split(train_corr, train_labels.status_group, test_size=0.1, random_state=0)\n",
        "\n",
        "print(X_train.shape, X_test.shape)"
      ],
      "id": "a51810fe",
      "execution_count": null,
      "outputs": []
    },
    {
      "cell_type": "markdown",
      "metadata": {
        "id": "oKrjeGJK1Q_M"
      },
      "source": [
        "Hyper parameter tuning"
      ],
      "id": "oKrjeGJK1Q_M"
    },
    {
      "cell_type": "code",
      "metadata": {
        "execution": {
          "iopub.execute_input": "2021-07-26T12:48:02.231132Z",
          "iopub.status.busy": "2021-07-26T12:48:02.230658Z",
          "iopub.status.idle": "2021-07-26T12:48:02.233912Z",
          "shell.execute_reply": "2021-07-26T12:48:02.233459Z",
          "shell.execute_reply.started": "2021-07-26T11:57:53.515428Z"
        },
        "papermill": {
          "duration": 0.036086,
          "end_time": "2021-07-26T12:48:02.234027",
          "exception": false,
          "start_time": "2021-07-26T12:48:02.197941",
          "status": "completed"
        },
        "tags": [],
        "id": "d0352eb2"
      },
      "source": [
        "# GridSearch for random forest classifier\n",
        "param_grid = {\n",
        "    'bootstrap': [True],\n",
        "    'criterion': ['entropy'],\n",
        "    'max_depth': [10, 20, 50],\n",
        "    'max_features': [8, 9],\n",
        "    'min_samples_leaf': [2, 3],\n",
        "    'min_samples_split': [12, 14],\n",
        "    'n_estimators': [32, 48],\n",
        "}\n",
        "num_folds = 10\n",
        "# Create a base model\n",
        "rf = RandomForestClassifier()\n",
        "# Instantiate the grid search model\n",
        "grid_search = GridSearchCV(estimator = rf, param_grid = param_grid, \n",
        "                          cv = num_folds, n_jobs = -1, verbose = 2)"
      ],
      "id": "d0352eb2",
      "execution_count": null,
      "outputs": []
    },
    {
      "cell_type": "markdown",
      "metadata": {
        "id": "WtvHv7Bg1jLp"
      },
      "source": [
        "Train and select best model"
      ],
      "id": "WtvHv7Bg1jLp"
    },
    {
      "cell_type": "code",
      "metadata": {
        "execution": {
          "iopub.execute_input": "2021-07-26T12:48:02.291665Z",
          "iopub.status.busy": "2021-07-26T12:48:02.291080Z",
          "iopub.status.idle": "2021-07-26T12:48:22.632647Z",
          "shell.execute_reply": "2021-07-26T12:48:22.632153Z",
          "shell.execute_reply.started": "2021-07-26T11:57:53.555551Z"
        },
        "papermill": {
          "duration": 20.372591,
          "end_time": "2021-07-26T12:48:22.632756",
          "exception": false,
          "start_time": "2021-07-26T12:48:02.260165",
          "status": "completed"
        },
        "tags": [],
        "id": "d30449d7"
      },
      "source": [
        "grid_search.fit(X_train, Y_train)\n",
        "# grid_search.fit(train_corr, train_labels)     # for submission\n",
        "grid_search.best_params_"
      ],
      "id": "d30449d7",
      "execution_count": null,
      "outputs": []
    },
    {
      "cell_type": "code",
      "metadata": {
        "execution": {
          "iopub.execute_input": "2021-07-26T12:48:22.692902Z",
          "iopub.status.busy": "2021-07-26T12:48:22.692387Z",
          "iopub.status.idle": "2021-07-26T12:48:22.696291Z",
          "shell.execute_reply": "2021-07-26T12:48:22.695795Z",
          "shell.execute_reply.started": "2021-07-26T11:58:18.357208Z"
        },
        "papermill": {
          "duration": 0.036322,
          "end_time": "2021-07-26T12:48:22.696429",
          "exception": false,
          "start_time": "2021-07-26T12:48:22.660107",
          "status": "completed"
        },
        "tags": [],
        "id": "1614e745"
      },
      "source": [
        "model = grid_search.best_estimator_"
      ],
      "id": "1614e745",
      "execution_count": null,
      "outputs": []
    },
    {
      "cell_type": "markdown",
      "metadata": {
        "id": "Ib_Uzc2-1uTB"
      },
      "source": [
        "Predict using selected model"
      ],
      "id": "Ib_Uzc2-1uTB"
    },
    {
      "cell_type": "code",
      "metadata": {
        "id": "EbfPUeorBufE"
      },
      "source": [
        "y_pred = model.predict(X_test)"
      ],
      "id": "EbfPUeorBufE",
      "execution_count": null,
      "outputs": []
    },
    {
      "cell_type": "markdown",
      "metadata": {
        "id": "ZbKj-NYn1w5n"
      },
      "source": [
        "Evaluation"
      ],
      "id": "ZbKj-NYn1w5n"
    },
    {
      "cell_type": "code",
      "metadata": {
        "id": "vPiRy1kwDoke"
      },
      "source": [
        "accuracy = accuracy_score(Y_test, y_pred)\n",
        "print('Accuracy:', accuracy)\n",
        "print('F1 Score :', f1_score(Y_test, y_pred))\n",
        "print('\\nPredicted Labels')\n",
        "print('functional','functional_needs_repair','non_functional')\n",
        "print(confusion_matrix(Y_test,y_pred, normalize='true', labels=['functional','functional needs repair','non functional']))"
      ],
      "id": "vPiRy1kwDoke",
      "execution_count": null,
      "outputs": []
    },
    {
      "cell_type": "markdown",
      "metadata": {
        "id": "Fht7c6U21y3I"
      },
      "source": [
        "Save save predictions for test set"
      ],
      "id": "Fht7c6U21y3I"
    },
    {
      "cell_type": "code",
      "metadata": {
        "execution": {
          "iopub.execute_input": "2021-07-26T12:48:24.621772Z",
          "iopub.status.busy": "2021-07-26T12:48:24.621113Z",
          "iopub.status.idle": "2021-07-26T12:48:24.639445Z",
          "shell.execute_reply": "2021-07-26T12:48:24.638818Z",
          "shell.execute_reply.started": "2021-07-26T11:59:25.119721Z"
        },
        "papermill": {
          "duration": 0.068383,
          "end_time": "2021-07-26T12:48:24.639586",
          "exception": false,
          "start_time": "2021-07-26T12:48:24.571203",
          "status": "completed"
        },
        "tags": [],
        "id": "81942396"
      },
      "source": [
        "y_pred = model.predict(test_dropped)\n",
        "results = pd.DataFrame()\n",
        "results[\"id\"] = test_data.id\n",
        "results[\"status_group\"] = y_pred\n",
        "results.to_csv('output.csv', index=False)"
      ],
      "id": "81942396",
      "execution_count": null,
      "outputs": []
    }
  ]
}